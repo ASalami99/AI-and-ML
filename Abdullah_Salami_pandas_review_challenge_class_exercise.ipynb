{
 "cells": [
  {
   "cell_type": "markdown",
   "metadata": {
    "id": "yilWeDKbThi3"
   },
   "source": [
    "# Abdullah Oluwatobi Salami Pandas Review Challenge\n",
    "\n",
    "To review some basic concepts, attempt to perform these basic Pandas tasks on your own. The answer to each question is in cell after the question. Be careful not to run the answer cells. Because this will clear out all the answers. Rather, add new cells to do your explorations.\n",
    "\n",
    "Q1 has been solved for you.\n"
   ]
  },
  {
   "cell_type": "markdown",
   "metadata": {
    "id": "9qpDpb51ThjA"
   },
   "source": [
    "Import `numpy as np`, `pandas as pd`, and check your pandas version."
   ]
  },
  {
   "cell_type": "code",
   "execution_count": 1,
   "metadata": {
    "colab": {
     "base_uri": "https://localhost:8080/"
    },
    "id": "jiJGEca_ThjB",
    "outputId": "b9a04fc4-1fa9-4da2-d969-692c7edce1bb"
   },
   "outputs": [
    {
     "name": "stdout",
     "output_type": "stream",
     "text": [
      "2.2.3\n"
     ]
    }
   ],
   "source": [
    "import numpy as np\n",
    "import pandas as pd\n",
    "print(pd.__version__) # your version may be different\n",
    "\n",
    "\n",
    "pd.set_option('display.max_columns', None)"
   ]
  },
  {
   "cell_type": "markdown",
   "metadata": {
    "id": "w4GSQsYFThjE"
   },
   "source": [
    "## Series"
   ]
  },
  {
   "cell_type": "markdown",
   "metadata": {
    "id": "_xNFpE1VThjG"
   },
   "source": [
    "**Q1:** Create a Pandas Series object called `Q1` from the following `arr` array."
   ]
  },
  {
   "cell_type": "code",
   "execution_count": 2,
   "metadata": {
    "id": "6_tnh3BaThjI",
    "outputId": "56c9e1fd-b51b-455f-aaf4-5e335db89d9e"
   },
   "outputs": [
    {
     "data": {
      "text/plain": [
       "0    4\n",
       "1    8\n",
       "2   -3\n",
       "3    1\n",
       "dtype: int32"
      ]
     },
     "execution_count": 2,
     "metadata": {},
     "output_type": "execute_result"
    }
   ],
   "source": [
    "arr = np.array([4,8,-3,1])\n",
    "\n",
    "#Pandas Series object\n",
    "Q1 = pd.Series(arr)\n",
    "Q1"
   ]
  },
  {
   "cell_type": "markdown",
   "metadata": {
    "id": "NqADvDOvThjJ"
   },
   "source": [
    "**Q2:** Create a Pandas Series object called `Q2` from the above `arr` array with an index of `a`, `b`, `c`, `d`."
   ]
  },
  {
   "cell_type": "code",
   "execution_count": 3,
   "metadata": {
    "id": "fxV10sZLYR3L"
   },
   "outputs": [
    {
     "data": {
      "text/plain": [
       "a    4\n",
       "b    8\n",
       "c   -3\n",
       "d    1\n",
       "dtype: int32"
      ]
     },
     "execution_count": 3,
     "metadata": {},
     "output_type": "execute_result"
    }
   ],
   "source": [
    "# WRITE CODE HERE THAT REPRODUCES THE OUTPUT OF THE CELL BELOW\n",
    "# BE CAREFUL NOT TO RUN THE CELL BELOW, OTHERWISE YOU WON'T BE ABLE TO SEE THE OUTPUT ANY MORE\n",
    "# IF YOU NEED MORE CODE CELLS, YOU CAN ADD MORE BEFORE THE ANSWER CELL\n",
    "\n",
    "labels = ['a','b','c','d']\n",
    "Q2 = pd.Series(arr, index= labels)\n",
    "Q2"
   ]
  },
  {
   "cell_type": "code",
   "execution_count": null,
   "metadata": {
    "id": "1t7Ixm4dThjK",
    "outputId": "8c2cc1cf-094a-427c-a349-5470d4ac3b36"
   },
   "outputs": [
    {
     "data": {
      "text/plain": [
       "a    4\n",
       "b    8\n",
       "c   -3\n",
       "d    1\n",
       "dtype: int32"
      ]
     },
     "execution_count": 5,
     "metadata": {},
     "output_type": "execute_result"
    }
   ],
   "source": [
    "#ANSWER CELL: DO NOT RUN THIS CELL. YOUR ANSWER MUST MATCH THIS."
   ]
  },
  {
   "cell_type": "markdown",
   "metadata": {
    "id": "n3_rxcDfThjM"
   },
   "source": [
    "**Q3:** Index the `c` instance for the `Q2` Series and save it as `Q3`."
   ]
  },
  {
   "cell_type": "code",
   "execution_count": 4,
   "metadata": {
    "id": "azUgHzSWaQ8l"
   },
   "outputs": [
    {
     "name": "stdout",
     "output_type": "stream",
     "text": [
      "-3\n"
     ]
    }
   ],
   "source": [
    "# WRITE CODE HERE THAT REPRODUCES THE OUTPUT OF THE CELL BELOW\n",
    "# BE CAREFUL NOT TO RUN THE CELL BELOW, OTHERWISE YOU WON'T BE ABLE TO SEE THE OUTPUT ANY MORE\n",
    "# IF YOU NEED MORE CODE CELLS, YOU CAN ADD MORE BEFORE THE ANSWER CELL\n",
    "\n",
    "Q3 = Q2['c']\n",
    "print(Q3)"
   ]
  },
  {
   "cell_type": "code",
   "execution_count": null,
   "metadata": {
    "id": "NLao8BOyThjO",
    "outputId": "210e7d0a-64c3-46e9-ac77-80d9e4706b8d"
   },
   "outputs": [
    {
     "data": {
      "text/plain": [
       "-3"
      ]
     },
     "execution_count": 6,
     "metadata": {},
     "output_type": "execute_result"
    }
   ],
   "source": [
    "#ANSWER CELL: DO NOT RUN THIS CELL. YOUR ANSWER MUST MATCH THIS."
   ]
  },
  {
   "cell_type": "markdown",
   "metadata": {
    "id": "8VEw4B9lThjQ"
   },
   "source": [
    "**Q4:**  Make a copy of the `Q2` Series and call it `Q4`. Change the `c` instance in `Q4` to `0`."
   ]
  },
  {
   "cell_type": "code",
   "execution_count": 5,
   "metadata": {
    "id": "OqTYIi1sThjQ"
   },
   "outputs": [],
   "source": [
    "# WRITE CODE HERE THAT REPRODUCES THE OUTPUT OF THE CELL BELOW\n",
    "# BE CAREFUL NOT TO RUN THE CELL BELOW, OTHERWISE YOU WON'T BE ABLE TO SEE THE OUTPUT ANY MORE\n",
    "# IF YOU NEED MORE CODE CELLS, YOU CAN ADD MORE BEFORE THE ANSWER CELL\n",
    "\n",
    "Q4 = Q2.copy()\n",
    "Q4['c'] = 0"
   ]
  },
  {
   "cell_type": "code",
   "execution_count": 6,
   "metadata": {
    "id": "h4IFRKhvThjR"
   },
   "outputs": [
    {
     "data": {
      "text/plain": [
       "a    4\n",
       "b    8\n",
       "c    0\n",
       "d    1\n",
       "dtype: int32"
      ]
     },
     "execution_count": 6,
     "metadata": {},
     "output_type": "execute_result"
    }
   ],
   "source": [
    "Q4"
   ]
  },
  {
   "cell_type": "code",
   "execution_count": null,
   "metadata": {
    "id": "sMpvH-paThjS",
    "outputId": "36c74815-0ee5-41a6-dc21-7a73857bcc0b"
   },
   "outputs": [
    {
     "data": {
      "text/plain": [
       "a    4\n",
       "b    8\n",
       "c    0\n",
       "d    1\n",
       "dtype: int32"
      ]
     },
     "execution_count": 14,
     "metadata": {},
     "output_type": "execute_result"
    }
   ],
   "source": [
    "#ANSWER CELL: DO NOT RUN THIS CELL. YOUR ANSWER MUST MATCH THIS."
   ]
  },
  {
   "cell_type": "markdown",
   "metadata": {
    "id": "5FxwYEH-ThjT"
   },
   "source": [
    "**Q5:** Filter all instances in `Q4` that are greater than `2` and save this as `Q5`."
   ]
  },
  {
   "cell_type": "code",
   "execution_count": 7,
   "metadata": {
    "id": "9fbjQu4MThjU"
   },
   "outputs": [
    {
     "name": "stdout",
     "output_type": "stream",
     "text": [
      "a    4\n",
      "b    8\n",
      "dtype: int32\n"
     ]
    }
   ],
   "source": [
    "# WRITE CODE HERE THAT REPRODUCES THE OUTPUT OF THE CELL BELOW\n",
    "# BE CAREFUL NOT TO RUN THE CELL BELOW, OTHERWISE YOU WON'T BE ABLE TO SEE THE OUTPUT ANY MORE\n",
    "# IF YOU NEED MORE CODE CELLS, YOU CAN ADD MORE BEFORE THE ANSWER CELL\n",
    "\n",
    "Q5 = Q4[Q4 > 2]\n",
    "print(Q5)"
   ]
  },
  {
   "cell_type": "code",
   "execution_count": null,
   "metadata": {
    "id": "LnNTDjiXThjV",
    "outputId": "21752776-83e7-4c99-f48c-85d073ced85a"
   },
   "outputs": [
    {
     "data": {
      "text/plain": [
       "a    4\n",
       "b    8\n",
       "dtype: int32"
      ]
     },
     "execution_count": 129,
     "metadata": {},
     "output_type": "execute_result"
    }
   ],
   "source": [
    "#ANSWER CELL: DO NOT RUN THIS CELL. YOUR ANSWER MUST MATCH THIS."
   ]
  },
  {
   "cell_type": "markdown",
   "metadata": {
    "id": "EgcejheZThjW"
   },
   "source": [
    "**Q6:** Using a Python dictionary, create the following as a Series called `Q6` using the state as the index.\n",
    "```\n",
    " Wyoming      581000\n",
    " Vermont      623000\n",
    " DC           714000\n",
    " Alaska       724000\n",
    " North Dakota 770000\n",
    "```"
   ]
  },
  {
   "cell_type": "code",
   "execution_count": 8,
   "metadata": {
    "id": "bJbE3r3uThjW"
   },
   "outputs": [],
   "source": [
    "# WRITE CODE HERE THAT REPRODUCES THE OUTPUT OF THE CELL BELOW\n",
    "# BE CAREFUL NOT TO RUN THE CELL BELOW, OTHERWISE YOU WON'T BE ABLE TO SEE THE OUTPUT ANY MORE\n",
    "# IF YOU NEED MORE CODE CELLS, YOU CAN ADD MORE BEFORE THE ANSWER CELL"
   ]
  },
  {
   "cell_type": "code",
   "execution_count": 9,
   "metadata": {
    "id": "qc8EEwuzThjX"
   },
   "outputs": [
    {
     "data": {
      "text/plain": [
       "Wyoming         581000\n",
       "Vermont         623000\n",
       "DC              714000\n",
       "Alaska          724000\n",
       "North Dakota    770000\n",
       "dtype: int64"
      ]
     },
     "execution_count": 9,
     "metadata": {},
     "output_type": "execute_result"
    }
   ],
   "source": [
    "Q6d = {\n",
    "    'Wyoming': 581000,\n",
    "    'Vermont': 623000,\n",
    "    'DC': 714000,\n",
    "    'Alaska': 724000,\n",
    "    'North Dakota': 770000\n",
    "}\n",
    "\n",
    "Q6 = pd.Series(Q6d)\n",
    "Q6"
   ]
  },
  {
   "cell_type": "code",
   "execution_count": null,
   "metadata": {
    "id": "VPPAovAFThjX",
    "outputId": "dda627a0-6a31-463d-a11e-1d00c1c6862b"
   },
   "outputs": [
    {
     "data": {
      "text/plain": [
       "Wyoming         581000\n",
       "Vermont         623000\n",
       "DC              714000\n",
       "Alaska          724000\n",
       "North Dakota    770000\n",
       "dtype: int64"
      ]
     },
     "execution_count": 130,
     "metadata": {},
     "output_type": "execute_result"
    }
   ],
   "source": [
    "#ANSWER CELL: DO NOT RUN THIS CELL. YOUR ANSWER MUST MATCH THIS."
   ]
  },
  {
   "cell_type": "markdown",
   "metadata": {
    "id": "tnmbZi4FThjY"
   },
   "source": [
    "**Q7:** Create a Series called `Q7` using the `states` dictionary above. Use the list `states2` below as the index. Take a look at the new Series. What do you notice?"
   ]
  },
  {
   "cell_type": "code",
   "execution_count": 10,
   "metadata": {
    "id": "MzehPZexThjY"
   },
   "outputs": [],
   "source": [
    "states2=['Alaska','DC','North Dakota', 'South Dakota','Wyoming']\n",
    "\n",
    "# WRITE CODE HERE THAT REPRODUCES THE OUTPUT OF THE CELL BELOW\n",
    "# BE CAREFUL NOT TO RUN THE CELL BELOW, OTHERWISE YOU WON'T BE ABLE TO SEE THE OUTPUT ANY MORE\n",
    "# IF YOU NEED MORE CODE CELLS, YOU CAN ADD MORE BEFORE THE ANSWER CELL"
   ]
  },
  {
   "cell_type": "code",
   "execution_count": 11,
   "metadata": {
    "id": "r4UqEUWlThjY"
   },
   "outputs": [
    {
     "data": {
      "text/plain": [
       "Alaska          724000.0\n",
       "DC              714000.0\n",
       "North Dakota    770000.0\n",
       "South Dakota         NaN\n",
       "Wyoming         581000.0\n",
       "dtype: float64"
      ]
     },
     "execution_count": 11,
     "metadata": {},
     "output_type": "execute_result"
    }
   ],
   "source": [
    "Q7 = pd.Series(Q6, index= states2)\n",
    "Q7"
   ]
  },
  {
   "cell_type": "markdown",
   "metadata": {},
   "source": [
    "I noticed 4 things:\n",
    "1. The values are in decimal format.\n",
    "2. South Dakota is not assigned any value.\n",
    "3. Vermont is missing.\n",
    "4. It is arranged in alphabetical order."
   ]
  },
  {
   "cell_type": "code",
   "execution_count": null,
   "metadata": {
    "id": "eEl9zgl2ThjZ",
    "outputId": "5ad0606b-4461-4cc9-ea33-9549f6a5b2c1"
   },
   "outputs": [
    {
     "data": {
      "text/plain": [
       "Alaska          724000.0\n",
       "DC              714000.0\n",
       "North Dakota    770000.0\n",
       "South Dakota         NaN\n",
       "Wyoming         581000.0\n",
       "dtype: float64"
      ]
     },
     "execution_count": 131,
     "metadata": {},
     "output_type": "execute_result"
    }
   ],
   "source": [
    "#ANSWER CELL: DO NOT RUN THIS CELL. YOUR ANSWER MUST MATCH THIS."
   ]
  },
  {
   "cell_type": "markdown",
   "metadata": {
    "id": "bVTwBno7ThjZ"
   },
   "source": [
    "**Q8:** What do you think will happen if we add `Q6` and `Q7` together? Add the two Series together and call the new Series `Q8`. Did it do what you expected?"
   ]
  },
  {
   "cell_type": "code",
   "execution_count": 12,
   "metadata": {
    "id": "1QTnmML4ThjZ"
   },
   "outputs": [
    {
     "data": {
      "text/plain": [
       "Alaska          1448000.0\n",
       "DC              1428000.0\n",
       "North Dakota    1540000.0\n",
       "South Dakota          NaN\n",
       "Vermont               NaN\n",
       "Wyoming         1162000.0\n",
       "dtype: float64"
      ]
     },
     "execution_count": 12,
     "metadata": {},
     "output_type": "execute_result"
    }
   ],
   "source": [
    "# WRITE CODE HERE THAT REPRODUCES THE OUTPUT OF THE CELL BELOW\n",
    "# BE CAREFUL NOT TO RUN THE CELL BELOW, OTHERWISE YOU WON'T BE ABLE TO SEE THE OUTPUT ANY MORE\n",
    "# IF YOU NEED MORE CODE CELLS, YOU CAN ADD MORE BEFORE THE ANSWER CELL\n",
    "\n",
    "Q8 = Q6 + Q7\n",
    "Q8"
   ]
  },
  {
   "cell_type": "markdown",
   "metadata": {},
   "source": [
    "Yes, it did as I expected. It added the values together."
   ]
  },
  {
   "cell_type": "code",
   "execution_count": null,
   "metadata": {
    "id": "59snORXgThja",
    "outputId": "8a592b0e-5895-4aee-cb3b-60fed4ef2bf6"
   },
   "outputs": [
    {
     "data": {
      "text/plain": [
       "Alaska          1448000.0\n",
       "DC              1428000.0\n",
       "North Dakota    1540000.0\n",
       "South Dakota          NaN\n",
       "Vermont               NaN\n",
       "Wyoming         1162000.0\n",
       "dtype: float64"
      ]
     },
     "execution_count": 132,
     "metadata": {},
     "output_type": "execute_result"
    }
   ],
   "source": [
    "#ANSWER CELL: DO NOT RUN THIS CELL. YOUR ANSWER MUST MATCH THIS."
   ]
  },
  {
   "cell_type": "markdown",
   "metadata": {
    "id": "NvRgEer8Thjb"
   },
   "source": [
    "**Q9:** Perform the following tasks:\n",
    "- make a copy of the `Q8` Series and call it `Q9`\n",
    "- Drop the null values from `Q9`.\n",
    "- Add a `name` attribute for the Series object as `population`.\n",
    "- Add a `name` attribute for the index as `state`."
   ]
  },
  {
   "cell_type": "code",
   "execution_count": 13,
   "metadata": {
    "id": "-C9WWUcwThjb"
   },
   "outputs": [],
   "source": [
    "# WRITE CODE HERE THAT REPRODUCES THE OUTPUT OF THE CELL BELOW\n",
    "# BE CAREFUL NOT TO RUN THE CELL BELOW, OTHERWISE YOU WON'T BE ABLE TO SEE THE OUTPUT ANY MORE\n",
    "# IF YOU NEED MORE CODE CELLS, YOU CAN ADD MORE BEFORE THE ANSWER CELL"
   ]
  },
  {
   "cell_type": "code",
   "execution_count": 14,
   "metadata": {
    "id": "9wVcrBK7Thjc"
   },
   "outputs": [
    {
     "data": {
      "text/plain": [
       "Alaska          1448000.0\n",
       "DC              1428000.0\n",
       "North Dakota    1540000.0\n",
       "South Dakota          NaN\n",
       "Vermont               NaN\n",
       "Wyoming         1162000.0\n",
       "dtype: float64"
      ]
     },
     "execution_count": 14,
     "metadata": {},
     "output_type": "execute_result"
    }
   ],
   "source": [
    "Q9 = Q8.copy()\n",
    "Q9"
   ]
  },
  {
   "cell_type": "code",
   "execution_count": 15,
   "metadata": {
    "id": "9YrLPdUrThjc"
   },
   "outputs": [
    {
     "name": "stdout",
     "output_type": "stream",
     "text": [
      "Alaska          1448000.0\n",
      "DC              1428000.0\n",
      "North Dakota    1540000.0\n",
      "Wyoming         1162000.0\n",
      "dtype: float64\n"
     ]
    }
   ],
   "source": [
    "Q9_nulldropped = Q9.dropna()\n",
    "print(Q9_nulldropped)"
   ]
  },
  {
   "cell_type": "code",
   "execution_count": 16,
   "metadata": {
    "id": "oXiquBqPThjc"
   },
   "outputs": [],
   "source": [
    "Q9_nulldropped.name = \"population\""
   ]
  },
  {
   "cell_type": "code",
   "execution_count": 17,
   "metadata": {
    "id": "Ow2D45F8Thjd"
   },
   "outputs": [
    {
     "data": {
      "text/plain": [
       "state\n",
       "Alaska          1448000.0\n",
       "DC              1428000.0\n",
       "North Dakota    1540000.0\n",
       "Wyoming         1162000.0\n",
       "Name: population, dtype: float64"
      ]
     },
     "execution_count": 17,
     "metadata": {},
     "output_type": "execute_result"
    }
   ],
   "source": [
    "Q9_nulldropped.index.name = \"state\"\n",
    "Q9_nulldropped"
   ]
  },
  {
   "cell_type": "code",
   "execution_count": null,
   "metadata": {
    "id": "oP_pzJGKThjd",
    "outputId": "f91b7d6e-d54e-4d09-e222-da534b26cb35"
   },
   "outputs": [
    {
     "data": {
      "text/plain": [
       "state\n",
       "Alaska          1448000.0\n",
       "DC              1428000.0\n",
       "North Dakota    1540000.0\n",
       "Wyoming         1162000.0\n",
       "Name: population, dtype: float64"
      ]
     },
     "execution_count": 134,
     "metadata": {},
     "output_type": "execute_result"
    }
   ],
   "source": [
    "#ANSWER CELL: DO NOT RUN THIS CELL. YOUR ANSWER MUST MATCH THIS."
   ]
  },
  {
   "cell_type": "markdown",
   "metadata": {
    "id": "6B0yWObNThjn"
   },
   "source": [
    "## DataFrame"
   ]
  },
  {
   "cell_type": "markdown",
   "metadata": {
    "id": "j3eVUYztThjo"
   },
   "source": [
    "**Q10:** Using the below Python dictionary, create a DataFrame called `Q10`."
   ]
  },
  {
   "cell_type": "code",
   "execution_count": 18,
   "metadata": {
    "id": "9yZoyWAGThjo",
    "outputId": "3ac2bac0-9f3f-46c7-e940-b3e63e661783"
   },
   "outputs": [
    {
     "data": {
      "text/plain": [
       "{'book': ['The Way of Kings',\n",
       "  'A Game of Thrones',\n",
       "  'The Hobbit',\n",
       "  \"Harry Potter and the Sorcerer's Stone\",\n",
       "  'The Lion, the Witch, and the Wardrobe'],\n",
       " 'year_published': [2010, 1996, 1937, 1997, 1950],\n",
       " 'amazon_rating': [5, 4.5, 5, 5, 5]}"
      ]
     },
     "execution_count": 18,
     "metadata": {},
     "output_type": "execute_result"
    }
   ],
   "source": [
    "data = {'book':['The Way of Kings','A Game of Thrones','The Hobbit',\n",
    "                \"Harry Potter and the Sorcerer's Stone\",'The Lion, the Witch, and the Wardrobe'],\n",
    "        'year_published': [2010,1996,1937,1997,1950],\n",
    "        'amazon_rating': [5,4.5,5,5,5]}\n",
    "data"
   ]
  },
  {
   "cell_type": "code",
   "execution_count": 19,
   "metadata": {
    "id": "C0A673ydThjp"
   },
   "outputs": [],
   "source": [
    "# WRITE CODE HERE THAT REPRODUCES THE OUTPUT OF THE CELL BELOW\n",
    "# BE CAREFUL NOT TO RUN THE CELL BELOW, OTHERWISE YOU WON'T BE ABLE TO SEE THE OUTPUT ANY MORE\n",
    "# IF YOU NEED MORE CODE CELLS, YOU CAN ADD MORE BEFORE THE ANSWER CELL"
   ]
  },
  {
   "cell_type": "code",
   "execution_count": 20,
   "metadata": {
    "id": "a_MQckT9Thjq"
   },
   "outputs": [],
   "source": [
    "Q10 = pd.DataFrame(data)"
   ]
  },
  {
   "cell_type": "code",
   "execution_count": 21,
   "metadata": {
    "id": "lZ5epyxRThjq"
   },
   "outputs": [
    {
     "data": {
      "text/html": [
       "<div>\n",
       "<style scoped>\n",
       "    .dataframe tbody tr th:only-of-type {\n",
       "        vertical-align: middle;\n",
       "    }\n",
       "\n",
       "    .dataframe tbody tr th {\n",
       "        vertical-align: top;\n",
       "    }\n",
       "\n",
       "    .dataframe thead th {\n",
       "        text-align: right;\n",
       "    }\n",
       "</style>\n",
       "<table border=\"1\" class=\"dataframe\">\n",
       "  <thead>\n",
       "    <tr style=\"text-align: right;\">\n",
       "      <th></th>\n",
       "      <th>book</th>\n",
       "      <th>year_published</th>\n",
       "      <th>amazon_rating</th>\n",
       "    </tr>\n",
       "  </thead>\n",
       "  <tbody>\n",
       "    <tr>\n",
       "      <th>0</th>\n",
       "      <td>The Way of Kings</td>\n",
       "      <td>2010</td>\n",
       "      <td>5.0</td>\n",
       "    </tr>\n",
       "    <tr>\n",
       "      <th>1</th>\n",
       "      <td>A Game of Thrones</td>\n",
       "      <td>1996</td>\n",
       "      <td>4.5</td>\n",
       "    </tr>\n",
       "    <tr>\n",
       "      <th>2</th>\n",
       "      <td>The Hobbit</td>\n",
       "      <td>1937</td>\n",
       "      <td>5.0</td>\n",
       "    </tr>\n",
       "    <tr>\n",
       "      <th>3</th>\n",
       "      <td>Harry Potter and the Sorcerer's Stone</td>\n",
       "      <td>1997</td>\n",
       "      <td>5.0</td>\n",
       "    </tr>\n",
       "    <tr>\n",
       "      <th>4</th>\n",
       "      <td>The Lion, the Witch, and the Wardrobe</td>\n",
       "      <td>1950</td>\n",
       "      <td>5.0</td>\n",
       "    </tr>\n",
       "  </tbody>\n",
       "</table>\n",
       "</div>"
      ],
      "text/plain": [
       "                                    book  year_published  amazon_rating\n",
       "0                       The Way of Kings            2010            5.0\n",
       "1                      A Game of Thrones            1996            4.5\n",
       "2                             The Hobbit            1937            5.0\n",
       "3  Harry Potter and the Sorcerer's Stone            1997            5.0\n",
       "4  The Lion, the Witch, and the Wardrobe            1950            5.0"
      ]
     },
     "execution_count": 21,
     "metadata": {},
     "output_type": "execute_result"
    }
   ],
   "source": [
    "Q10"
   ]
  },
  {
   "cell_type": "code",
   "execution_count": null,
   "metadata": {
    "id": "dvKkVk9ZThjr",
    "outputId": "447a4a8c-676f-4e1d-8d2a-d734018c26e5"
   },
   "outputs": [
    {
     "data": {
      "text/html": [
       "<div>\n",
       "<style scoped>\n",
       "    .dataframe tbody tr th:only-of-type {\n",
       "        vertical-align: middle;\n",
       "    }\n",
       "\n",
       "    .dataframe tbody tr th {\n",
       "        vertical-align: top;\n",
       "    }\n",
       "\n",
       "    .dataframe thead th {\n",
       "        text-align: right;\n",
       "    }\n",
       "</style>\n",
       "<table border=\"1\" class=\"dataframe\">\n",
       "  <thead>\n",
       "    <tr style=\"text-align: right;\">\n",
       "      <th></th>\n",
       "      <th>book</th>\n",
       "      <th>year_published</th>\n",
       "      <th>amazon_rating</th>\n",
       "    </tr>\n",
       "  </thead>\n",
       "  <tbody>\n",
       "    <tr>\n",
       "      <th>0</th>\n",
       "      <td>The Way of Kings</td>\n",
       "      <td>2010</td>\n",
       "      <td>5.0</td>\n",
       "    </tr>\n",
       "    <tr>\n",
       "      <th>1</th>\n",
       "      <td>A Game of Thrones</td>\n",
       "      <td>1996</td>\n",
       "      <td>4.5</td>\n",
       "    </tr>\n",
       "    <tr>\n",
       "      <th>2</th>\n",
       "      <td>The Hobbit</td>\n",
       "      <td>1937</td>\n",
       "      <td>5.0</td>\n",
       "    </tr>\n",
       "    <tr>\n",
       "      <th>3</th>\n",
       "      <td>Harry Potter and the Sorcerer's Stone</td>\n",
       "      <td>1997</td>\n",
       "      <td>5.0</td>\n",
       "    </tr>\n",
       "    <tr>\n",
       "      <th>4</th>\n",
       "      <td>The Lion, the Witch, and the Wardrobe</td>\n",
       "      <td>1950</td>\n",
       "      <td>5.0</td>\n",
       "    </tr>\n",
       "  </tbody>\n",
       "</table>\n",
       "</div>"
      ],
      "text/plain": [
       "                                    book  year_published  amazon_rating\n",
       "0                       The Way of Kings            2010            5.0\n",
       "1                      A Game of Thrones            1996            4.5\n",
       "2                             The Hobbit            1937            5.0\n",
       "3  Harry Potter and the Sorcerer's Stone            1997            5.0\n",
       "4  The Lion, the Witch, and the Wardrobe            1950            5.0"
      ]
     },
     "execution_count": 135,
     "metadata": {},
     "output_type": "execute_result"
    }
   ],
   "source": [
    "#ANSWER CELL: DO NOT RUN THIS CELL. YOUR ANSWER MUST MATCH THIS."
   ]
  },
  {
   "cell_type": "markdown",
   "metadata": {
    "id": "Q7_qgl17Thjr"
   },
   "source": [
    "**Q11:** Make a copy of the `Q10` DataFrame and call it `Q11`.  Add a fourth column called `copies_owned` and assign a scalar value of `1` to every row."
   ]
  },
  {
   "cell_type": "code",
   "execution_count": 22,
   "metadata": {
    "id": "8CpprWUvThjr"
   },
   "outputs": [],
   "source": [
    "# WRITE CODE HERE THAT REPRODUCES THE OUTPUT OF THE CELL BELOW\n",
    "# BE CAREFUL NOT TO RUN THE CELL BELOW, OTHERWISE YOU WON'T BE ABLE TO SEE THE OUTPUT ANY MORE\n",
    "# IF YOU NEED MORE CODE CELLS, YOU CAN ADD MORE BEFORE THE ANSWER CELL"
   ]
  },
  {
   "cell_type": "code",
   "execution_count": 23,
   "metadata": {},
   "outputs": [
    {
     "data": {
      "text/html": [
       "<div>\n",
       "<style scoped>\n",
       "    .dataframe tbody tr th:only-of-type {\n",
       "        vertical-align: middle;\n",
       "    }\n",
       "\n",
       "    .dataframe tbody tr th {\n",
       "        vertical-align: top;\n",
       "    }\n",
       "\n",
       "    .dataframe thead th {\n",
       "        text-align: right;\n",
       "    }\n",
       "</style>\n",
       "<table border=\"1\" class=\"dataframe\">\n",
       "  <thead>\n",
       "    <tr style=\"text-align: right;\">\n",
       "      <th></th>\n",
       "      <th>book</th>\n",
       "      <th>year_published</th>\n",
       "      <th>amazon_rating</th>\n",
       "      <th>copies_owned</th>\n",
       "    </tr>\n",
       "  </thead>\n",
       "  <tbody>\n",
       "    <tr>\n",
       "      <th>0</th>\n",
       "      <td>The Way of Kings</td>\n",
       "      <td>2010</td>\n",
       "      <td>5.0</td>\n",
       "      <td>1</td>\n",
       "    </tr>\n",
       "    <tr>\n",
       "      <th>1</th>\n",
       "      <td>A Game of Thrones</td>\n",
       "      <td>1996</td>\n",
       "      <td>4.5</td>\n",
       "      <td>1</td>\n",
       "    </tr>\n",
       "    <tr>\n",
       "      <th>2</th>\n",
       "      <td>The Hobbit</td>\n",
       "      <td>1937</td>\n",
       "      <td>5.0</td>\n",
       "      <td>1</td>\n",
       "    </tr>\n",
       "    <tr>\n",
       "      <th>3</th>\n",
       "      <td>Harry Potter and the Sorcerer's Stone</td>\n",
       "      <td>1997</td>\n",
       "      <td>5.0</td>\n",
       "      <td>1</td>\n",
       "    </tr>\n",
       "    <tr>\n",
       "      <th>4</th>\n",
       "      <td>The Lion, the Witch, and the Wardrobe</td>\n",
       "      <td>1950</td>\n",
       "      <td>5.0</td>\n",
       "      <td>1</td>\n",
       "    </tr>\n",
       "  </tbody>\n",
       "</table>\n",
       "</div>"
      ],
      "text/plain": [
       "                                    book  year_published  amazon_rating  \\\n",
       "0                       The Way of Kings            2010            5.0   \n",
       "1                      A Game of Thrones            1996            4.5   \n",
       "2                             The Hobbit            1937            5.0   \n",
       "3  Harry Potter and the Sorcerer's Stone            1997            5.0   \n",
       "4  The Lion, the Witch, and the Wardrobe            1950            5.0   \n",
       "\n",
       "   copies_owned  \n",
       "0             1  \n",
       "1             1  \n",
       "2             1  \n",
       "3             1  \n",
       "4             1  "
      ]
     },
     "execution_count": 23,
     "metadata": {},
     "output_type": "execute_result"
    }
   ],
   "source": [
    "Q11 = Q10.copy()\n",
    "Q11['copies_owned'] = 1\n",
    "Q11"
   ]
  },
  {
   "cell_type": "code",
   "execution_count": null,
   "metadata": {
    "id": "8LCj_c-8Thjs",
    "outputId": "a33a6b82-23fc-4dbc-9c7c-8c0fb2f5b35f"
   },
   "outputs": [
    {
     "data": {
      "text/html": [
       "<div>\n",
       "<style scoped>\n",
       "    .dataframe tbody tr th:only-of-type {\n",
       "        vertical-align: middle;\n",
       "    }\n",
       "\n",
       "    .dataframe tbody tr th {\n",
       "        vertical-align: top;\n",
       "    }\n",
       "\n",
       "    .dataframe thead th {\n",
       "        text-align: right;\n",
       "    }\n",
       "</style>\n",
       "<table border=\"1\" class=\"dataframe\">\n",
       "  <thead>\n",
       "    <tr style=\"text-align: right;\">\n",
       "      <th></th>\n",
       "      <th>book</th>\n",
       "      <th>year_published</th>\n",
       "      <th>amazon_rating</th>\n",
       "      <th>copies_owned</th>\n",
       "    </tr>\n",
       "  </thead>\n",
       "  <tbody>\n",
       "    <tr>\n",
       "      <th>0</th>\n",
       "      <td>The Way of Kings</td>\n",
       "      <td>2010</td>\n",
       "      <td>5.0</td>\n",
       "      <td>1</td>\n",
       "    </tr>\n",
       "    <tr>\n",
       "      <th>1</th>\n",
       "      <td>A Game of Thrones</td>\n",
       "      <td>1996</td>\n",
       "      <td>4.5</td>\n",
       "      <td>1</td>\n",
       "    </tr>\n",
       "    <tr>\n",
       "      <th>2</th>\n",
       "      <td>The Hobbit</td>\n",
       "      <td>1937</td>\n",
       "      <td>5.0</td>\n",
       "      <td>1</td>\n",
       "    </tr>\n",
       "    <tr>\n",
       "      <th>3</th>\n",
       "      <td>Harry Potter and the Sorcerer's Stone</td>\n",
       "      <td>1997</td>\n",
       "      <td>5.0</td>\n",
       "      <td>1</td>\n",
       "    </tr>\n",
       "    <tr>\n",
       "      <th>4</th>\n",
       "      <td>The Lion, the Witch, and the Wardrobe</td>\n",
       "      <td>1950</td>\n",
       "      <td>5.0</td>\n",
       "      <td>1</td>\n",
       "    </tr>\n",
       "  </tbody>\n",
       "</table>\n",
       "</div>"
      ],
      "text/plain": [
       "                                    book  year_published  amazon_rating  \\\n",
       "0                       The Way of Kings            2010            5.0   \n",
       "1                      A Game of Thrones            1996            4.5   \n",
       "2                             The Hobbit            1937            5.0   \n",
       "3  Harry Potter and the Sorcerer's Stone            1997            5.0   \n",
       "4  The Lion, the Witch, and the Wardrobe            1950            5.0   \n",
       "\n",
       "   copies_owned  \n",
       "0             1  \n",
       "1             1  \n",
       "2             1  \n",
       "3             1  \n",
       "4             1  "
      ]
     },
     "execution_count": 136,
     "metadata": {},
     "output_type": "execute_result"
    }
   ],
   "source": [
    "#ANSWER CELL: DO NOT RUN THIS CELL. YOUR ANSWER MUST MATCH THIS."
   ]
  },
  {
   "cell_type": "markdown",
   "metadata": {
    "id": "UtZwtWGTThjs"
   },
   "source": [
    "**Q12:** Make a copy of `Q11` and call it `Q12`. Remove the fourth column called `copies_owned` for the `Q12` DataFrame."
   ]
  },
  {
   "cell_type": "code",
   "execution_count": 24,
   "metadata": {
    "id": "VWR__QKvThjt"
   },
   "outputs": [],
   "source": [
    "# WRITE CODE HERE THAT REPRODUCES THE OUTPUT OF THE CELL BELOW\n",
    "# BE CAREFUL NOT TO RUN THE CELL BELOW, OTHERWISE YOU WON'T BE ABLE TO SEE THE OUTPUT ANY MORE\n",
    "# IF YOU NEED MORE CODE CELLS, YOU CAN ADD MORE BEFORE THE ANSWER CELL"
   ]
  },
  {
   "cell_type": "code",
   "execution_count": 25,
   "metadata": {
    "id": "HXQjhVsaThjt"
   },
   "outputs": [
    {
     "data": {
      "text/html": [
       "<div>\n",
       "<style scoped>\n",
       "    .dataframe tbody tr th:only-of-type {\n",
       "        vertical-align: middle;\n",
       "    }\n",
       "\n",
       "    .dataframe tbody tr th {\n",
       "        vertical-align: top;\n",
       "    }\n",
       "\n",
       "    .dataframe thead th {\n",
       "        text-align: right;\n",
       "    }\n",
       "</style>\n",
       "<table border=\"1\" class=\"dataframe\">\n",
       "  <thead>\n",
       "    <tr style=\"text-align: right;\">\n",
       "      <th></th>\n",
       "      <th>book</th>\n",
       "      <th>year_published</th>\n",
       "      <th>amazon_rating</th>\n",
       "      <th>copies_owned</th>\n",
       "    </tr>\n",
       "  </thead>\n",
       "  <tbody>\n",
       "    <tr>\n",
       "      <th>0</th>\n",
       "      <td>The Way of Kings</td>\n",
       "      <td>2010</td>\n",
       "      <td>5.0</td>\n",
       "      <td>1</td>\n",
       "    </tr>\n",
       "    <tr>\n",
       "      <th>1</th>\n",
       "      <td>A Game of Thrones</td>\n",
       "      <td>1996</td>\n",
       "      <td>4.5</td>\n",
       "      <td>1</td>\n",
       "    </tr>\n",
       "    <tr>\n",
       "      <th>2</th>\n",
       "      <td>The Hobbit</td>\n",
       "      <td>1937</td>\n",
       "      <td>5.0</td>\n",
       "      <td>1</td>\n",
       "    </tr>\n",
       "    <tr>\n",
       "      <th>3</th>\n",
       "      <td>Harry Potter and the Sorcerer's Stone</td>\n",
       "      <td>1997</td>\n",
       "      <td>5.0</td>\n",
       "      <td>1</td>\n",
       "    </tr>\n",
       "    <tr>\n",
       "      <th>4</th>\n",
       "      <td>The Lion, the Witch, and the Wardrobe</td>\n",
       "      <td>1950</td>\n",
       "      <td>5.0</td>\n",
       "      <td>1</td>\n",
       "    </tr>\n",
       "  </tbody>\n",
       "</table>\n",
       "</div>"
      ],
      "text/plain": [
       "                                    book  year_published  amazon_rating  \\\n",
       "0                       The Way of Kings            2010            5.0   \n",
       "1                      A Game of Thrones            1996            4.5   \n",
       "2                             The Hobbit            1937            5.0   \n",
       "3  Harry Potter and the Sorcerer's Stone            1997            5.0   \n",
       "4  The Lion, the Witch, and the Wardrobe            1950            5.0   \n",
       "\n",
       "   copies_owned  \n",
       "0             1  \n",
       "1             1  \n",
       "2             1  \n",
       "3             1  \n",
       "4             1  "
      ]
     },
     "execution_count": 25,
     "metadata": {},
     "output_type": "execute_result"
    }
   ],
   "source": [
    "Q12 = Q11.copy()\n",
    "Q12"
   ]
  },
  {
   "cell_type": "code",
   "execution_count": 26,
   "metadata": {
    "id": "Z6ZSPh_VThjt"
   },
   "outputs": [
    {
     "data": {
      "text/html": [
       "<div>\n",
       "<style scoped>\n",
       "    .dataframe tbody tr th:only-of-type {\n",
       "        vertical-align: middle;\n",
       "    }\n",
       "\n",
       "    .dataframe tbody tr th {\n",
       "        vertical-align: top;\n",
       "    }\n",
       "\n",
       "    .dataframe thead th {\n",
       "        text-align: right;\n",
       "    }\n",
       "</style>\n",
       "<table border=\"1\" class=\"dataframe\">\n",
       "  <thead>\n",
       "    <tr style=\"text-align: right;\">\n",
       "      <th></th>\n",
       "      <th>book</th>\n",
       "      <th>year_published</th>\n",
       "      <th>amazon_rating</th>\n",
       "    </tr>\n",
       "  </thead>\n",
       "  <tbody>\n",
       "    <tr>\n",
       "      <th>0</th>\n",
       "      <td>The Way of Kings</td>\n",
       "      <td>2010</td>\n",
       "      <td>5.0</td>\n",
       "    </tr>\n",
       "    <tr>\n",
       "      <th>1</th>\n",
       "      <td>A Game of Thrones</td>\n",
       "      <td>1996</td>\n",
       "      <td>4.5</td>\n",
       "    </tr>\n",
       "    <tr>\n",
       "      <th>2</th>\n",
       "      <td>The Hobbit</td>\n",
       "      <td>1937</td>\n",
       "      <td>5.0</td>\n",
       "    </tr>\n",
       "    <tr>\n",
       "      <th>3</th>\n",
       "      <td>Harry Potter and the Sorcerer's Stone</td>\n",
       "      <td>1997</td>\n",
       "      <td>5.0</td>\n",
       "    </tr>\n",
       "    <tr>\n",
       "      <th>4</th>\n",
       "      <td>The Lion, the Witch, and the Wardrobe</td>\n",
       "      <td>1950</td>\n",
       "      <td>5.0</td>\n",
       "    </tr>\n",
       "  </tbody>\n",
       "</table>\n",
       "</div>"
      ],
      "text/plain": [
       "                                    book  year_published  amazon_rating\n",
       "0                       The Way of Kings            2010            5.0\n",
       "1                      A Game of Thrones            1996            4.5\n",
       "2                             The Hobbit            1937            5.0\n",
       "3  Harry Potter and the Sorcerer's Stone            1997            5.0\n",
       "4  The Lion, the Witch, and the Wardrobe            1950            5.0"
      ]
     },
     "execution_count": 26,
     "metadata": {},
     "output_type": "execute_result"
    }
   ],
   "source": [
    "Q12 = Q12.drop('copies_owned', axis=1)\n",
    "Q12"
   ]
  },
  {
   "cell_type": "code",
   "execution_count": null,
   "metadata": {
    "id": "HUew90qSThju",
    "outputId": "ec5859bf-2e63-4c0b-ff73-a63111cc7029"
   },
   "outputs": [
    {
     "data": {
      "text/html": [
       "<div>\n",
       "<style scoped>\n",
       "    .dataframe tbody tr th:only-of-type {\n",
       "        vertical-align: middle;\n",
       "    }\n",
       "\n",
       "    .dataframe tbody tr th {\n",
       "        vertical-align: top;\n",
       "    }\n",
       "\n",
       "    .dataframe thead th {\n",
       "        text-align: right;\n",
       "    }\n",
       "</style>\n",
       "<table border=\"1\" class=\"dataframe\">\n",
       "  <thead>\n",
       "    <tr style=\"text-align: right;\">\n",
       "      <th></th>\n",
       "      <th>book</th>\n",
       "      <th>year_published</th>\n",
       "      <th>amazon_rating</th>\n",
       "    </tr>\n",
       "  </thead>\n",
       "  <tbody>\n",
       "    <tr>\n",
       "      <th>0</th>\n",
       "      <td>The Way of Kings</td>\n",
       "      <td>2010</td>\n",
       "      <td>5.0</td>\n",
       "    </tr>\n",
       "    <tr>\n",
       "      <th>1</th>\n",
       "      <td>A Game of Thrones</td>\n",
       "      <td>1996</td>\n",
       "      <td>4.5</td>\n",
       "    </tr>\n",
       "    <tr>\n",
       "      <th>2</th>\n",
       "      <td>The Hobbit</td>\n",
       "      <td>1937</td>\n",
       "      <td>5.0</td>\n",
       "    </tr>\n",
       "    <tr>\n",
       "      <th>3</th>\n",
       "      <td>Harry Potter and the Sorcerer's Stone</td>\n",
       "      <td>1997</td>\n",
       "      <td>5.0</td>\n",
       "    </tr>\n",
       "    <tr>\n",
       "      <th>4</th>\n",
       "      <td>The Lion, the Witch, and the Wardrobe</td>\n",
       "      <td>1950</td>\n",
       "      <td>5.0</td>\n",
       "    </tr>\n",
       "  </tbody>\n",
       "</table>\n",
       "</div>"
      ],
      "text/plain": [
       "                                    book  year_published  amazon_rating\n",
       "0                       The Way of Kings            2010            5.0\n",
       "1                      A Game of Thrones            1996            4.5\n",
       "2                             The Hobbit            1937            5.0\n",
       "3  Harry Potter and the Sorcerer's Stone            1997            5.0\n",
       "4  The Lion, the Witch, and the Wardrobe            1950            5.0"
      ]
     },
     "execution_count": 137,
     "metadata": {},
     "output_type": "execute_result"
    }
   ],
   "source": [
    "#ANSWER CELL: DO NOT RUN THIS CELL. YOUR ANSWER MUST MATCH THIS."
   ]
  },
  {
   "cell_type": "markdown",
   "metadata": {
    "id": "JakPLjKGThju"
   },
   "source": [
    "**Q13:** Create a DataFrame called `Q13` using the below nested dictionary of dictionaries. (Note: outer keys are interpreted as columns, inner keys as row indices)"
   ]
  },
  {
   "cell_type": "code",
   "execution_count": 27,
   "metadata": {
    "id": "szu5uLOxThjv"
   },
   "outputs": [],
   "source": [
    "pop = {'Nevada':{2001: 2.4, 2002: 2.9},\n",
    "      'Ohio': {2000:1.5, 2001: 1.7, 2002: 3.6}}"
   ]
  },
  {
   "cell_type": "code",
   "execution_count": 28,
   "metadata": {
    "id": "OIo85XEgThjv"
   },
   "outputs": [],
   "source": [
    "# WRITE CODE HERE THAT REPRODUCES THE OUTPUT OF THE CELL BELOW\n",
    "# BE CAREFUL NOT TO RUN THE CELL BELOW, OTHERWISE YOU WON'T BE ABLE TO SEE THE OUTPUT ANY MORE\n",
    "# IF YOU NEED MORE CODE CELLS, YOU CAN ADD MORE BEFORE THE ANSWER CELL"
   ]
  },
  {
   "cell_type": "code",
   "execution_count": 29,
   "metadata": {
    "id": "0rQhgi4cThjv"
   },
   "outputs": [],
   "source": [
    "Q13 = pd.DataFrame(pop)"
   ]
  },
  {
   "cell_type": "code",
   "execution_count": 30,
   "metadata": {
    "id": "iqLKAyFuThjw"
   },
   "outputs": [
    {
     "data": {
      "text/html": [
       "<div>\n",
       "<style scoped>\n",
       "    .dataframe tbody tr th:only-of-type {\n",
       "        vertical-align: middle;\n",
       "    }\n",
       "\n",
       "    .dataframe tbody tr th {\n",
       "        vertical-align: top;\n",
       "    }\n",
       "\n",
       "    .dataframe thead th {\n",
       "        text-align: right;\n",
       "    }\n",
       "</style>\n",
       "<table border=\"1\" class=\"dataframe\">\n",
       "  <thead>\n",
       "    <tr style=\"text-align: right;\">\n",
       "      <th></th>\n",
       "      <th>Nevada</th>\n",
       "      <th>Ohio</th>\n",
       "    </tr>\n",
       "  </thead>\n",
       "  <tbody>\n",
       "    <tr>\n",
       "      <th>2001</th>\n",
       "      <td>2.4</td>\n",
       "      <td>1.7</td>\n",
       "    </tr>\n",
       "    <tr>\n",
       "      <th>2002</th>\n",
       "      <td>2.9</td>\n",
       "      <td>3.6</td>\n",
       "    </tr>\n",
       "    <tr>\n",
       "      <th>2000</th>\n",
       "      <td>NaN</td>\n",
       "      <td>1.5</td>\n",
       "    </tr>\n",
       "  </tbody>\n",
       "</table>\n",
       "</div>"
      ],
      "text/plain": [
       "      Nevada  Ohio\n",
       "2001     2.4   1.7\n",
       "2002     2.9   3.6\n",
       "2000     NaN   1.5"
      ]
     },
     "execution_count": 30,
     "metadata": {},
     "output_type": "execute_result"
    }
   ],
   "source": [
    "Q13"
   ]
  },
  {
   "cell_type": "code",
   "execution_count": null,
   "metadata": {
    "id": "9lRP8eNzThjw",
    "outputId": "9c440621-e517-4edd-e8b6-47ebeac9b009"
   },
   "outputs": [
    {
     "data": {
      "text/html": [
       "<div>\n",
       "<style scoped>\n",
       "    .dataframe tbody tr th:only-of-type {\n",
       "        vertical-align: middle;\n",
       "    }\n",
       "\n",
       "    .dataframe tbody tr th {\n",
       "        vertical-align: top;\n",
       "    }\n",
       "\n",
       "    .dataframe thead th {\n",
       "        text-align: right;\n",
       "    }\n",
       "</style>\n",
       "<table border=\"1\" class=\"dataframe\">\n",
       "  <thead>\n",
       "    <tr style=\"text-align: right;\">\n",
       "      <th></th>\n",
       "      <th>Nevada</th>\n",
       "      <th>Ohio</th>\n",
       "    </tr>\n",
       "  </thead>\n",
       "  <tbody>\n",
       "    <tr>\n",
       "      <th>2000</th>\n",
       "      <td>NaN</td>\n",
       "      <td>1.5</td>\n",
       "    </tr>\n",
       "    <tr>\n",
       "      <th>2001</th>\n",
       "      <td>2.4</td>\n",
       "      <td>1.7</td>\n",
       "    </tr>\n",
       "    <tr>\n",
       "      <th>2002</th>\n",
       "      <td>2.9</td>\n",
       "      <td>3.6</td>\n",
       "    </tr>\n",
       "  </tbody>\n",
       "</table>\n",
       "</div>"
      ],
      "text/plain": [
       "      Nevada  Ohio\n",
       "2000     NaN   1.5\n",
       "2001     2.4   1.7\n",
       "2002     2.9   3.6"
      ]
     },
     "execution_count": 138,
     "metadata": {},
     "output_type": "execute_result"
    }
   ],
   "source": [
    "#ANSWER CELL: DO NOT RUN THIS CELL. YOUR ANSWER MUST MATCH THIS."
   ]
  },
  {
   "cell_type": "markdown",
   "metadata": {
    "id": "Hg4BvPmcThjx"
   },
   "source": [
    "**Q14:** Swap the columns and rows of `Q13` by using the transpose method `.T` and save this as `Q14`."
   ]
  },
  {
   "cell_type": "code",
   "execution_count": 31,
   "metadata": {
    "id": "ZIXXm06UThjx"
   },
   "outputs": [],
   "source": [
    "# WRITE CODE HERE THAT REPRODUCES THE OUTPUT OF THE CELL BELOW\n",
    "# BE CAREFUL NOT TO RUN THE CELL BELOW, OTHERWISE YOU WON'T BE ABLE TO SEE THE OUTPUT ANY MORE\n",
    "# IF YOU NEED MORE CODE CELLS, YOU CAN ADD MORE BEFORE THE ANSWER CELL"
   ]
  },
  {
   "cell_type": "code",
   "execution_count": 32,
   "metadata": {
    "id": "RqVJ81VOThjx"
   },
   "outputs": [
    {
     "data": {
      "text/html": [
       "<div>\n",
       "<style scoped>\n",
       "    .dataframe tbody tr th:only-of-type {\n",
       "        vertical-align: middle;\n",
       "    }\n",
       "\n",
       "    .dataframe tbody tr th {\n",
       "        vertical-align: top;\n",
       "    }\n",
       "\n",
       "    .dataframe thead th {\n",
       "        text-align: right;\n",
       "    }\n",
       "</style>\n",
       "<table border=\"1\" class=\"dataframe\">\n",
       "  <thead>\n",
       "    <tr style=\"text-align: right;\">\n",
       "      <th></th>\n",
       "      <th>2001</th>\n",
       "      <th>2002</th>\n",
       "      <th>2000</th>\n",
       "    </tr>\n",
       "  </thead>\n",
       "  <tbody>\n",
       "    <tr>\n",
       "      <th>Nevada</th>\n",
       "      <td>2.4</td>\n",
       "      <td>2.9</td>\n",
       "      <td>NaN</td>\n",
       "    </tr>\n",
       "    <tr>\n",
       "      <th>Ohio</th>\n",
       "      <td>1.7</td>\n",
       "      <td>3.6</td>\n",
       "      <td>1.5</td>\n",
       "    </tr>\n",
       "  </tbody>\n",
       "</table>\n",
       "</div>"
      ],
      "text/plain": [
       "        2001  2002  2000\n",
       "Nevada   2.4   2.9   NaN\n",
       "Ohio     1.7   3.6   1.5"
      ]
     },
     "execution_count": 32,
     "metadata": {},
     "output_type": "execute_result"
    }
   ],
   "source": [
    "Q14 = Q13.T\n",
    "Q14"
   ]
  },
  {
   "cell_type": "code",
   "execution_count": null,
   "metadata": {
    "id": "QlmElDMxThjy",
    "outputId": "8535ba04-d05f-4c42-bd2c-526ca2767288"
   },
   "outputs": [
    {
     "data": {
      "text/html": [
       "<div>\n",
       "<style scoped>\n",
       "    .dataframe tbody tr th:only-of-type {\n",
       "        vertical-align: middle;\n",
       "    }\n",
       "\n",
       "    .dataframe tbody tr th {\n",
       "        vertical-align: top;\n",
       "    }\n",
       "\n",
       "    .dataframe thead th {\n",
       "        text-align: right;\n",
       "    }\n",
       "</style>\n",
       "<table border=\"1\" class=\"dataframe\">\n",
       "  <thead>\n",
       "    <tr style=\"text-align: right;\">\n",
       "      <th></th>\n",
       "      <th>2000</th>\n",
       "      <th>2001</th>\n",
       "      <th>2002</th>\n",
       "    </tr>\n",
       "  </thead>\n",
       "  <tbody>\n",
       "    <tr>\n",
       "      <th>Nevada</th>\n",
       "      <td>NaN</td>\n",
       "      <td>2.4</td>\n",
       "      <td>2.9</td>\n",
       "    </tr>\n",
       "    <tr>\n",
       "      <th>Ohio</th>\n",
       "      <td>1.5</td>\n",
       "      <td>1.7</td>\n",
       "      <td>3.6</td>\n",
       "    </tr>\n",
       "  </tbody>\n",
       "</table>\n",
       "</div>"
      ],
      "text/plain": [
       "        2000  2001  2002\n",
       "Nevada   NaN   2.4   2.9\n",
       "Ohio     1.5   1.7   3.6"
      ]
     },
     "execution_count": 139,
     "metadata": {},
     "output_type": "execute_result"
    }
   ],
   "source": [
    "#ANSWER CELL: DO NOT RUN THIS CELL. YOUR ANSWER MUST MATCH THIS."
   ]
  },
  {
   "cell_type": "markdown",
   "metadata": {
    "id": "ksJ9OrdqThjy"
   },
   "source": [
    "**Q15:** Change the columns in the `Q14` DataFrame to be in year order (earlier to later) and save this as `Q15`."
   ]
  },
  {
   "cell_type": "code",
   "execution_count": 33,
   "metadata": {
    "id": "8Y_4JweOThjy"
   },
   "outputs": [],
   "source": [
    "# WRITE CODE HERE THAT REPRODUCES THE OUTPUT OF THE CELL BELOW\n",
    "# BE CAREFUL NOT TO RUN THE CELL BELOW, OTHERWISE YOU WON'T BE ABLE TO SEE THE OUTPUT ANY MORE\n",
    "# IF YOU NEED MORE CODE CELLS, YOU CAN ADD MORE BEFORE THE ANSWER CELL"
   ]
  },
  {
   "cell_type": "code",
   "execution_count": 34,
   "metadata": {
    "id": "O3iA07nyThjz"
   },
   "outputs": [
    {
     "data": {
      "text/html": [
       "<div>\n",
       "<style scoped>\n",
       "    .dataframe tbody tr th:only-of-type {\n",
       "        vertical-align: middle;\n",
       "    }\n",
       "\n",
       "    .dataframe tbody tr th {\n",
       "        vertical-align: top;\n",
       "    }\n",
       "\n",
       "    .dataframe thead th {\n",
       "        text-align: right;\n",
       "    }\n",
       "</style>\n",
       "<table border=\"1\" class=\"dataframe\">\n",
       "  <thead>\n",
       "    <tr style=\"text-align: right;\">\n",
       "      <th></th>\n",
       "      <th>2000</th>\n",
       "      <th>2001</th>\n",
       "      <th>2002</th>\n",
       "    </tr>\n",
       "  </thead>\n",
       "  <tbody>\n",
       "    <tr>\n",
       "      <th>Nevada</th>\n",
       "      <td>NaN</td>\n",
       "      <td>2.4</td>\n",
       "      <td>2.9</td>\n",
       "    </tr>\n",
       "    <tr>\n",
       "      <th>Ohio</th>\n",
       "      <td>1.5</td>\n",
       "      <td>1.7</td>\n",
       "      <td>3.6</td>\n",
       "    </tr>\n",
       "  </tbody>\n",
       "</table>\n",
       "</div>"
      ],
      "text/plain": [
       "        2000  2001  2002\n",
       "Nevada   NaN   2.4   2.9\n",
       "Ohio     1.5   1.7   3.6"
      ]
     },
     "execution_count": 34,
     "metadata": {},
     "output_type": "execute_result"
    }
   ],
   "source": [
    "Q15 = Q14[sorted(Q14.columns)]\n",
    "Q15"
   ]
  },
  {
   "cell_type": "code",
   "execution_count": null,
   "metadata": {
    "id": "km8COisvThjz",
    "outputId": "4f09f3bb-a4ad-4eac-d27c-ddf445258d22"
   },
   "outputs": [
    {
     "data": {
      "text/html": [
       "<div>\n",
       "<style scoped>\n",
       "    .dataframe tbody tr th:only-of-type {\n",
       "        vertical-align: middle;\n",
       "    }\n",
       "\n",
       "    .dataframe tbody tr th {\n",
       "        vertical-align: top;\n",
       "    }\n",
       "\n",
       "    .dataframe thead th {\n",
       "        text-align: right;\n",
       "    }\n",
       "</style>\n",
       "<table border=\"1\" class=\"dataframe\">\n",
       "  <thead>\n",
       "    <tr style=\"text-align: right;\">\n",
       "      <th></th>\n",
       "      <th>2000</th>\n",
       "      <th>2001</th>\n",
       "      <th>2002</th>\n",
       "    </tr>\n",
       "  </thead>\n",
       "  <tbody>\n",
       "    <tr>\n",
       "      <th>Nevada</th>\n",
       "      <td>NaN</td>\n",
       "      <td>2.4</td>\n",
       "      <td>2.9</td>\n",
       "    </tr>\n",
       "    <tr>\n",
       "      <th>Ohio</th>\n",
       "      <td>1.5</td>\n",
       "      <td>1.7</td>\n",
       "      <td>3.6</td>\n",
       "    </tr>\n",
       "  </tbody>\n",
       "</table>\n",
       "</div>"
      ],
      "text/plain": [
       "        2000  2001  2002\n",
       "Nevada   NaN   2.4   2.9\n",
       "Ohio     1.5   1.7   3.6"
      ]
     },
     "execution_count": 140,
     "metadata": {},
     "output_type": "execute_result"
    }
   ],
   "source": [
    "#ANSWER CELL: DO NOT RUN THIS CELL. YOUR ANSWER MUST MATCH THIS."
   ]
  },
  {
   "cell_type": "markdown",
   "metadata": {
    "id": "Zr5yDHyOThj0"
   },
   "source": [
    "**Q16:** Index only `Nevada` in the `Q15` DataFrame and save this as `Q16`."
   ]
  },
  {
   "cell_type": "code",
   "execution_count": 35,
   "metadata": {
    "id": "-b6tk7-bThj0"
   },
   "outputs": [],
   "source": [
    "# WRITE CODE HERE THAT REPRODUCES THE OUTPUT OF THE CELL BELOW\n",
    "# BE CAREFUL NOT TO RUN THE CELL BELOW, OTHERWISE YOU WON'T BE ABLE TO SEE THE OUTPUT ANY MORE\n",
    "# IF YOU NEED MORE CODE CELLS, YOU CAN ADD MORE BEFORE THE ANSWER CELL"
   ]
  },
  {
   "cell_type": "code",
   "execution_count": 37,
   "metadata": {},
   "outputs": [
    {
     "data": {
      "text/plain": [
       "2000    NaN\n",
       "2001    2.4\n",
       "2002    2.9\n",
       "Name: Nevada, dtype: float64"
      ]
     },
     "execution_count": 37,
     "metadata": {},
     "output_type": "execute_result"
    }
   ],
   "source": [
    "Q16 = Q15.loc['Nevada']\n",
    "Q16"
   ]
  },
  {
   "cell_type": "code",
   "execution_count": null,
   "metadata": {
    "id": "1VpWG2IBThj1",
    "outputId": "3a32c856-bf26-40a2-e1f1-b03fef65fbd1"
   },
   "outputs": [
    {
     "data": {
      "text/plain": [
       "2000    NaN\n",
       "2001    2.4\n",
       "2002    2.9\n",
       "Name: Nevada, dtype: float64"
      ]
     },
     "execution_count": 141,
     "metadata": {},
     "output_type": "execute_result"
    }
   ],
   "source": [
    "#ANSWER CELL: DO NOT RUN THIS CELL. YOUR ANSWER MUST MATCH THIS."
   ]
  },
  {
   "cell_type": "markdown",
   "metadata": {
    "id": "OkZUBW0nThj1"
   },
   "source": [
    "**Q17:** Select the `2001` column from the `Q15` DataFrame and save this as `Q17`."
   ]
  },
  {
   "cell_type": "code",
   "execution_count": 38,
   "metadata": {
    "id": "KxM6suzcThj1"
   },
   "outputs": [],
   "source": [
    "# WRITE CODE HERE THAT REPRODUCES THE OUTPUT OF THE CELL BELOW\n",
    "# BE CAREFUL NOT TO RUN THE CELL BELOW, OTHERWISE YOU WON'T BE ABLE TO SEE THE OUTPUT ANY MORE\n",
    "# IF YOU NEED MORE CODE CELLS, YOU CAN ADD MORE BEFORE THE ANSWER CELL"
   ]
  },
  {
   "cell_type": "code",
   "execution_count": 40,
   "metadata": {
    "id": "D3yiLiN7Thj3"
   },
   "outputs": [
    {
     "data": {
      "text/plain": [
       "Nevada    2.4\n",
       "Ohio      1.7\n",
       "Name: 2001, dtype: float64"
      ]
     },
     "execution_count": 40,
     "metadata": {},
     "output_type": "execute_result"
    }
   ],
   "source": [
    "Q17 = Q15[2001]\n",
    "Q17"
   ]
  },
  {
   "cell_type": "code",
   "execution_count": null,
   "metadata": {
    "id": "uYHtDDBYThj4",
    "outputId": "68f05f08-2ebb-4056-b6fb-7e58cfa98e8f"
   },
   "outputs": [
    {
     "data": {
      "text/plain": [
       "Nevada    2.4\n",
       "Ohio      1.7\n",
       "Name: 2001, dtype: float64"
      ]
     },
     "execution_count": 142,
     "metadata": {},
     "output_type": "execute_result"
    }
   ],
   "source": [
    "#ANSWER CELL: DO NOT RUN THIS CELL. YOUR ANSWER MUST MATCH THIS."
   ]
  },
  {
   "cell_type": "markdown",
   "metadata": {
    "id": "7dlFXHCzThj5"
   },
   "source": [
    "**Q18:**  Select the `Ohio` row and the `2001` and `2002` columns from `Q15` and save this as `Q18`."
   ]
  },
  {
   "cell_type": "code",
   "execution_count": 41,
   "metadata": {
    "id": "lQGM-37qThj5"
   },
   "outputs": [],
   "source": [
    "# WRITE CODE HERE THAT REPRODUCES THE OUTPUT OF THE CELL BELOW\n",
    "# BE CAREFUL NOT TO RUN THE CELL BELOW, OTHERWISE YOU WON'T BE ABLE TO SEE THE OUTPUT ANY MORE\n",
    "# IF YOU NEED MORE CODE CELLS, YOU CAN ADD MORE BEFORE THE ANSWER CELL"
   ]
  },
  {
   "cell_type": "code",
   "execution_count": 42,
   "metadata": {
    "id": "gl7YeDa_Thj6"
   },
   "outputs": [
    {
     "data": {
      "text/plain": [
       "2001    1.7\n",
       "2002    3.6\n",
       "Name: Ohio, dtype: float64"
      ]
     },
     "execution_count": 42,
     "metadata": {},
     "output_type": "execute_result"
    }
   ],
   "source": [
    "Q18 = Q15.loc['Ohio', [2001, 2002]]\n",
    "Q18"
   ]
  },
  {
   "cell_type": "code",
   "execution_count": null,
   "metadata": {
    "id": "FVmeTtuAThj6",
    "outputId": "c95f80d6-385a-4893-dfd9-d6f778c5f4ab"
   },
   "outputs": [
    {
     "data": {
      "text/plain": [
       "2001    1.7\n",
       "2002    3.6\n",
       "Name: Ohio, dtype: float64"
      ]
     },
     "execution_count": 143,
     "metadata": {},
     "output_type": "execute_result"
    }
   ],
   "source": [
    "#ANSWER CELL: DO NOT RUN THIS CELL. YOUR ANSWER MUST MATCH THIS."
   ]
  },
  {
   "cell_type": "markdown",
   "metadata": {
    "id": "f_Nm_T8UThj7"
   },
   "source": [
    "**Q19:** Load the `employees` DataFrame. Filter only the employees that make above $90,000 and save this as `Q19`."
   ]
  },
  {
   "cell_type": "code",
   "execution_count": 43,
   "metadata": {
    "id": "qaLSnMw5Thj7",
    "outputId": "92e079c4-6180-4908-c917-e5b9cc112648"
   },
   "outputs": [
    {
     "data": {
      "text/html": [
       "<div>\n",
       "<style scoped>\n",
       "    .dataframe tbody tr th:only-of-type {\n",
       "        vertical-align: middle;\n",
       "    }\n",
       "\n",
       "    .dataframe tbody tr th {\n",
       "        vertical-align: top;\n",
       "    }\n",
       "\n",
       "    .dataframe thead th {\n",
       "        text-align: right;\n",
       "    }\n",
       "</style>\n",
       "<table border=\"1\" class=\"dataframe\">\n",
       "  <thead>\n",
       "    <tr style=\"text-align: right;\">\n",
       "      <th></th>\n",
       "      <th>name</th>\n",
       "      <th>age</th>\n",
       "      <th>gender</th>\n",
       "      <th>profession</th>\n",
       "      <th>salary</th>\n",
       "    </tr>\n",
       "  </thead>\n",
       "  <tbody>\n",
       "    <tr>\n",
       "      <th>0</th>\n",
       "      <td>John</td>\n",
       "      <td>25</td>\n",
       "      <td>M</td>\n",
       "      <td>Developer</td>\n",
       "      <td>100000</td>\n",
       "    </tr>\n",
       "    <tr>\n",
       "      <th>1</th>\n",
       "      <td>Jane</td>\n",
       "      <td>27</td>\n",
       "      <td>F</td>\n",
       "      <td>Analyst</td>\n",
       "      <td>80000</td>\n",
       "    </tr>\n",
       "    <tr>\n",
       "      <th>2</th>\n",
       "      <td>Billy</td>\n",
       "      <td>42</td>\n",
       "      <td>M</td>\n",
       "      <td>Admin</td>\n",
       "      <td>75000</td>\n",
       "    </tr>\n",
       "    <tr>\n",
       "      <th>3</th>\n",
       "      <td>Tracy</td>\n",
       "      <td>31</td>\n",
       "      <td>F</td>\n",
       "      <td>Data Scientist</td>\n",
       "      <td>110000</td>\n",
       "    </tr>\n",
       "  </tbody>\n",
       "</table>\n",
       "</div>"
      ],
      "text/plain": [
       "    name  age gender      profession  salary\n",
       "0   John   25      M       Developer  100000\n",
       "1   Jane   27      F         Analyst   80000\n",
       "2  Billy   42      M           Admin   75000\n",
       "3  Tracy   31      F  Data Scientist  110000"
      ]
     },
     "execution_count": 43,
     "metadata": {},
     "output_type": "execute_result"
    }
   ],
   "source": [
    "table =  {'name': ['John', 'Jane', 'Billy', 'Tracy'],\n",
    "         'age': [25, 27, 42, 31],\n",
    "          'gender': ['M','F','M','F'],\n",
    "         'profession': ['Developer', 'Analyst', 'Admin', 'Data Scientist'],\n",
    "         'salary':[100000, 80000, 75000, 110000]\n",
    "         }\n",
    "employees = pd.DataFrame(table)\n",
    "employees"
   ]
  },
  {
   "cell_type": "code",
   "execution_count": 47,
   "metadata": {
    "id": "dvSDb5-kfZZ0"
   },
   "outputs": [
    {
     "data": {
      "text/html": [
       "<div>\n",
       "<style scoped>\n",
       "    .dataframe tbody tr th:only-of-type {\n",
       "        vertical-align: middle;\n",
       "    }\n",
       "\n",
       "    .dataframe tbody tr th {\n",
       "        vertical-align: top;\n",
       "    }\n",
       "\n",
       "    .dataframe thead th {\n",
       "        text-align: right;\n",
       "    }\n",
       "</style>\n",
       "<table border=\"1\" class=\"dataframe\">\n",
       "  <thead>\n",
       "    <tr style=\"text-align: right;\">\n",
       "      <th></th>\n",
       "      <th>name</th>\n",
       "      <th>age</th>\n",
       "      <th>gender</th>\n",
       "      <th>profession</th>\n",
       "      <th>salary</th>\n",
       "    </tr>\n",
       "  </thead>\n",
       "  <tbody>\n",
       "    <tr>\n",
       "      <th>0</th>\n",
       "      <td>John</td>\n",
       "      <td>25</td>\n",
       "      <td>M</td>\n",
       "      <td>Developer</td>\n",
       "      <td>100000</td>\n",
       "    </tr>\n",
       "    <tr>\n",
       "      <th>3</th>\n",
       "      <td>Tracy</td>\n",
       "      <td>31</td>\n",
       "      <td>F</td>\n",
       "      <td>Data Scientist</td>\n",
       "      <td>110000</td>\n",
       "    </tr>\n",
       "  </tbody>\n",
       "</table>\n",
       "</div>"
      ],
      "text/plain": [
       "    name  age gender      profession  salary\n",
       "0   John   25      M       Developer  100000\n",
       "3  Tracy   31      F  Data Scientist  110000"
      ]
     },
     "execution_count": 47,
     "metadata": {},
     "output_type": "execute_result"
    }
   ],
   "source": [
    "# WRITE CODE HERE THAT REPRODUCES THE OUTPUT OF THE CELL BELOW\n",
    "# BE CAREFUL NOT TO RUN THE CELL BELOW, OTHERWISE YOU WON'T BE ABLE TO SEE THE OUTPUT ANY MORE\n",
    "# IF YOU NEED MORE CODE CELLS, YOU CAN ADD MORE BEFORE THE ANSWER CELL\n",
    "\n",
    "Q19 =employees[employees['salary'] > 90000]\n",
    "Q19"
   ]
  },
  {
   "cell_type": "code",
   "execution_count": null,
   "metadata": {
    "id": "6nnTxYOUThj7",
    "outputId": "87b486cf-f39a-4a6f-ed10-dc930ae8c54c"
   },
   "outputs": [
    {
     "data": {
      "text/html": [
       "<div>\n",
       "<style scoped>\n",
       "    .dataframe tbody tr th:only-of-type {\n",
       "        vertical-align: middle;\n",
       "    }\n",
       "\n",
       "    .dataframe tbody tr th {\n",
       "        vertical-align: top;\n",
       "    }\n",
       "\n",
       "    .dataframe thead th {\n",
       "        text-align: right;\n",
       "    }\n",
       "</style>\n",
       "<table border=\"1\" class=\"dataframe\">\n",
       "  <thead>\n",
       "    <tr style=\"text-align: right;\">\n",
       "      <th></th>\n",
       "      <th>name</th>\n",
       "      <th>age</th>\n",
       "      <th>gender</th>\n",
       "      <th>profession</th>\n",
       "      <th>salary</th>\n",
       "    </tr>\n",
       "  </thead>\n",
       "  <tbody>\n",
       "    <tr>\n",
       "      <th>0</th>\n",
       "      <td>John</td>\n",
       "      <td>25</td>\n",
       "      <td>M</td>\n",
       "      <td>Developer</td>\n",
       "      <td>100000</td>\n",
       "    </tr>\n",
       "    <tr>\n",
       "      <th>3</th>\n",
       "      <td>Tracy</td>\n",
       "      <td>31</td>\n",
       "      <td>F</td>\n",
       "      <td>Data Scientist</td>\n",
       "      <td>110000</td>\n",
       "    </tr>\n",
       "  </tbody>\n",
       "</table>\n",
       "</div>"
      ],
      "text/plain": [
       "    name  age gender      profession  salary\n",
       "0   John   25      M       Developer  100000\n",
       "3  Tracy   31      F  Data Scientist  110000"
      ]
     },
     "execution_count": 64,
     "metadata": {},
     "output_type": "execute_result"
    }
   ],
   "source": [
    "#ANSWER CELL: DO NOT RUN THIS CELL. YOUR ANSWER MUST MATCH THIS."
   ]
  },
  {
   "cell_type": "markdown",
   "metadata": {
    "id": "fSW-EvFwThj9"
   },
   "source": [
    "**Q20:** Select only the names of the employees that make under $90,000 and save this as `Q20`."
   ]
  },
  {
   "cell_type": "code",
   "execution_count": 60,
   "metadata": {
    "id": "ArUzRDqsThj-"
   },
   "outputs": [
    {
     "data": {
      "text/plain": [
       "1     Jane\n",
       "2    Billy\n",
       "Name: name, dtype: object"
      ]
     },
     "execution_count": 60,
     "metadata": {},
     "output_type": "execute_result"
    }
   ],
   "source": [
    "# WRITE CODE HERE THAT REPRODUCES THE OUTPUT OF THE CELL BELOW\n",
    "# BE CAREFUL NOT TO RUN THE CELL BELOW, OTHERWISE YOU WON'T BE ABLE TO SEE THE OUTPUT ANY MORE\n",
    "# IF YOU NEED MORE CODE CELLS, YOU CAN ADD MORE BEFORE THE ANSWER CELL\n",
    "\n",
    "Q20 = employees.loc[employees['salary'] < 90000, 'name']\n",
    "Q20"
   ]
  },
  {
   "cell_type": "code",
   "execution_count": null,
   "metadata": {
    "id": "7aomHoL7ThkB",
    "outputId": "4cfe5ab1-1e0f-4144-da80-120a343498a0"
   },
   "outputs": [
    {
     "data": {
      "text/plain": [
       "1     Jane\n",
       "2    Billy\n",
       "Name: name, dtype: object"
      ]
     },
     "execution_count": 146,
     "metadata": {},
     "output_type": "execute_result"
    }
   ],
   "source": [
    "#ANSWER CELL: DO NOT RUN THIS CELL. YOUR ANSWER MUST MATCH THIS."
   ]
  },
  {
   "cell_type": "markdown",
   "metadata": {
    "id": "GcHl37nsThkC"
   },
   "source": [
    "**Q21:** Select only the names of the employees that make under $90,000 and are over 30 years old.  Save this as `Q21`."
   ]
  },
  {
   "cell_type": "code",
   "execution_count": 69,
   "metadata": {
    "id": "23-PQZZtfrP5"
   },
   "outputs": [
    {
     "data": {
      "text/plain": [
       "2    Billy\n",
       "Name: name, dtype: object"
      ]
     },
     "execution_count": 69,
     "metadata": {},
     "output_type": "execute_result"
    }
   ],
   "source": [
    "# WRITE CODE HERE THAT REPRODUCES THE OUTPUT OF THE CELL BELOW\n",
    "# BE CAREFUL NOT TO RUN THE CELL BELOW, OTHERWISE YOU WON'T BE ABLE TO SEE THE OUTPUT ANY MORE\n",
    "# IF YOU NEED MORE CODE CELLS, YOU CAN ADD MORE BEFORE THE ANSWER CELL\n",
    "\n",
    "Q21 = employees.loc[(employees['salary'] < 90000) & (employees['age'] > 30), 'name']\n",
    "Q21"
   ]
  },
  {
   "cell_type": "code",
   "execution_count": null,
   "metadata": {
    "id": "A5Y4sr40ThkC",
    "outputId": "446d4ee7-907e-4abe-8ba1-ba6aecf264a1"
   },
   "outputs": [
    {
     "data": {
      "text/plain": [
       "2    Billy\n",
       "Name: name, dtype: object"
      ]
     },
     "execution_count": 149,
     "metadata": {},
     "output_type": "execute_result"
    }
   ],
   "source": [
    "#ANSWER CELL: DO NOT RUN THIS CELL. YOUR ANSWER MUST MATCH THIS."
   ]
  },
  {
   "cell_type": "markdown",
   "metadata": {
    "id": "oWkHj_dwThkD"
   },
   "source": [
    "**Q22:** Our company has grown, and we have hired three new employees. Create a new DataFrame called `Q22` that adds these employees (`new_hires`) to the original DataFrame `employees`. Make sure that the index for the new DataFrame is labeled as `0` - `n-1`."
   ]
  },
  {
   "cell_type": "code",
   "execution_count": 74,
   "metadata": {
    "id": "xsYdq8CXf2Eb"
   },
   "outputs": [
    {
     "data": {
      "text/html": [
       "<div>\n",
       "<style scoped>\n",
       "    .dataframe tbody tr th:only-of-type {\n",
       "        vertical-align: middle;\n",
       "    }\n",
       "\n",
       "    .dataframe tbody tr th {\n",
       "        vertical-align: top;\n",
       "    }\n",
       "\n",
       "    .dataframe thead th {\n",
       "        text-align: right;\n",
       "    }\n",
       "</style>\n",
       "<table border=\"1\" class=\"dataframe\">\n",
       "  <thead>\n",
       "    <tr style=\"text-align: right;\">\n",
       "      <th></th>\n",
       "      <th>name</th>\n",
       "      <th>age</th>\n",
       "      <th>gender</th>\n",
       "      <th>profession</th>\n",
       "      <th>salary</th>\n",
       "    </tr>\n",
       "  </thead>\n",
       "  <tbody>\n",
       "    <tr>\n",
       "      <th>0</th>\n",
       "      <td>John</td>\n",
       "      <td>25.0</td>\n",
       "      <td>M</td>\n",
       "      <td>Developer</td>\n",
       "      <td>100000.0</td>\n",
       "    </tr>\n",
       "    <tr>\n",
       "      <th>1</th>\n",
       "      <td>Jane</td>\n",
       "      <td>27.0</td>\n",
       "      <td>F</td>\n",
       "      <td>Analyst</td>\n",
       "      <td>80000.0</td>\n",
       "    </tr>\n",
       "    <tr>\n",
       "      <th>2</th>\n",
       "      <td>Billy</td>\n",
       "      <td>42.0</td>\n",
       "      <td>M</td>\n",
       "      <td>Admin</td>\n",
       "      <td>75000.0</td>\n",
       "    </tr>\n",
       "    <tr>\n",
       "      <th>3</th>\n",
       "      <td>Tracy</td>\n",
       "      <td>31.0</td>\n",
       "      <td>F</td>\n",
       "      <td>Data Scientist</td>\n",
       "      <td>110000.0</td>\n",
       "    </tr>\n",
       "    <tr>\n",
       "      <th>4</th>\n",
       "      <td>Emily</td>\n",
       "      <td>22.0</td>\n",
       "      <td>F</td>\n",
       "      <td>Project Manager</td>\n",
       "      <td>NaN</td>\n",
       "    </tr>\n",
       "    <tr>\n",
       "      <th>5</th>\n",
       "      <td>Lukas</td>\n",
       "      <td>NaN</td>\n",
       "      <td>M</td>\n",
       "      <td>ML Engineer</td>\n",
       "      <td>135000.0</td>\n",
       "    </tr>\n",
       "    <tr>\n",
       "      <th>6</th>\n",
       "      <td>Janelle</td>\n",
       "      <td>52.0</td>\n",
       "      <td>F</td>\n",
       "      <td>CIO</td>\n",
       "      <td>230000.0</td>\n",
       "    </tr>\n",
       "  </tbody>\n",
       "</table>\n",
       "</div>"
      ],
      "text/plain": [
       "      name   age gender       profession    salary\n",
       "0     John  25.0      M        Developer  100000.0\n",
       "1     Jane  27.0      F          Analyst   80000.0\n",
       "2    Billy  42.0      M            Admin   75000.0\n",
       "3    Tracy  31.0      F   Data Scientist  110000.0\n",
       "4    Emily  22.0      F  Project Manager       NaN\n",
       "5    Lukas   NaN      M      ML Engineer  135000.0\n",
       "6  Janelle  52.0      F              CIO  230000.0"
      ]
     },
     "execution_count": 74,
     "metadata": {},
     "output_type": "execute_result"
    }
   ],
   "source": [
    "new_hires = {'name': ['Emily','Lukas','Janelle'],\n",
    "            'age': [22, np.nan, 52],\n",
    "             'gender': ['F','M','F'],\n",
    "            'profession': ['Project Manager','ML Engineer','CIO'],\n",
    "            'salary': [np.nan,135000,230000]}\n",
    "\n",
    "new_hires_dataframe = pd.DataFrame(new_hires)\n",
    "\n",
    "### ENTER CODE HERE ###\n",
    "\n",
    "# WRITE CODE HERE THAT REPRODUCES THE OUTPUT OF THE CELL BELOW\n",
    "# BE CAREFUL NOT TO RUN THE CELL BELOW, OTHERWISE YOU WON'T BE ABLE TO SEE THE OUTPUT ANY MORE\n",
    "# IF YOU NEED MORE CODE CELLS, YOU CAN ADD MORE BEFORE THE ANSWER CELL\n",
    "\n",
    "Q22 = pd.concat([employees, new_hires_dataframe], ignore_index= True)\n",
    "Q22\n"
   ]
  },
  {
   "cell_type": "code",
   "execution_count": null,
   "metadata": {
    "id": "mPNPbyY4ThkE",
    "outputId": "969d1c11-6cb8-4f5e-ede7-302688eb4c0f"
   },
   "outputs": [
    {
     "data": {
      "text/html": [
       "<div>\n",
       "<style scoped>\n",
       "    .dataframe tbody tr th:only-of-type {\n",
       "        vertical-align: middle;\n",
       "    }\n",
       "\n",
       "    .dataframe tbody tr th {\n",
       "        vertical-align: top;\n",
       "    }\n",
       "\n",
       "    .dataframe thead th {\n",
       "        text-align: right;\n",
       "    }\n",
       "</style>\n",
       "<table border=\"1\" class=\"dataframe\">\n",
       "  <thead>\n",
       "    <tr style=\"text-align: right;\">\n",
       "      <th></th>\n",
       "      <th>name</th>\n",
       "      <th>age</th>\n",
       "      <th>gender</th>\n",
       "      <th>profession</th>\n",
       "      <th>salary</th>\n",
       "    </tr>\n",
       "  </thead>\n",
       "  <tbody>\n",
       "    <tr>\n",
       "      <th>0</th>\n",
       "      <td>John</td>\n",
       "      <td>25.0</td>\n",
       "      <td>M</td>\n",
       "      <td>Developer</td>\n",
       "      <td>100000.0</td>\n",
       "    </tr>\n",
       "    <tr>\n",
       "      <th>1</th>\n",
       "      <td>Jane</td>\n",
       "      <td>27.0</td>\n",
       "      <td>F</td>\n",
       "      <td>Analyst</td>\n",
       "      <td>80000.0</td>\n",
       "    </tr>\n",
       "    <tr>\n",
       "      <th>2</th>\n",
       "      <td>Billy</td>\n",
       "      <td>42.0</td>\n",
       "      <td>M</td>\n",
       "      <td>Admin</td>\n",
       "      <td>75000.0</td>\n",
       "    </tr>\n",
       "    <tr>\n",
       "      <th>3</th>\n",
       "      <td>Tracy</td>\n",
       "      <td>31.0</td>\n",
       "      <td>F</td>\n",
       "      <td>Data Scientist</td>\n",
       "      <td>110000.0</td>\n",
       "    </tr>\n",
       "    <tr>\n",
       "      <th>4</th>\n",
       "      <td>Emily</td>\n",
       "      <td>22.0</td>\n",
       "      <td>F</td>\n",
       "      <td>Project Manager</td>\n",
       "      <td>NaN</td>\n",
       "    </tr>\n",
       "    <tr>\n",
       "      <th>5</th>\n",
       "      <td>Lukas</td>\n",
       "      <td>NaN</td>\n",
       "      <td>M</td>\n",
       "      <td>ML Engineer</td>\n",
       "      <td>135000.0</td>\n",
       "    </tr>\n",
       "    <tr>\n",
       "      <th>6</th>\n",
       "      <td>Janelle</td>\n",
       "      <td>52.0</td>\n",
       "      <td>F</td>\n",
       "      <td>CIO</td>\n",
       "      <td>230000.0</td>\n",
       "    </tr>\n",
       "  </tbody>\n",
       "</table>\n",
       "</div>"
      ],
      "text/plain": [
       "      name   age gender       profession    salary\n",
       "0     John  25.0      M        Developer  100000.0\n",
       "1     Jane  27.0      F          Analyst   80000.0\n",
       "2    Billy  42.0      M            Admin   75000.0\n",
       "3    Tracy  31.0      F   Data Scientist  110000.0\n",
       "4    Emily  22.0      F  Project Manager       NaN\n",
       "5    Lukas   NaN      M      ML Engineer  135000.0\n",
       "6  Janelle  52.0      F              CIO  230000.0"
      ]
     },
     "execution_count": 150,
     "metadata": {},
     "output_type": "execute_result"
    }
   ],
   "source": [
    "#ANSWER CELL: DO NOT RUN THIS CELL. YOUR ANSWER MUST MATCH THIS.\n"
   ]
  },
  {
   "cell_type": "markdown",
   "metadata": {
    "id": "56pb3qvuThkE"
   },
   "source": [
    "**Q23:**  Create a copy of `Q22` and save it as `Q23`.  Drop all rows that contain missing values from the `Q23` DataFrame."
   ]
  },
  {
   "cell_type": "code",
   "execution_count": 75,
   "metadata": {
    "id": "XNks5rEPgCXS"
   },
   "outputs": [
    {
     "data": {
      "text/html": [
       "<div>\n",
       "<style scoped>\n",
       "    .dataframe tbody tr th:only-of-type {\n",
       "        vertical-align: middle;\n",
       "    }\n",
       "\n",
       "    .dataframe tbody tr th {\n",
       "        vertical-align: top;\n",
       "    }\n",
       "\n",
       "    .dataframe thead th {\n",
       "        text-align: right;\n",
       "    }\n",
       "</style>\n",
       "<table border=\"1\" class=\"dataframe\">\n",
       "  <thead>\n",
       "    <tr style=\"text-align: right;\">\n",
       "      <th></th>\n",
       "      <th>name</th>\n",
       "      <th>age</th>\n",
       "      <th>gender</th>\n",
       "      <th>profession</th>\n",
       "      <th>salary</th>\n",
       "    </tr>\n",
       "  </thead>\n",
       "  <tbody>\n",
       "    <tr>\n",
       "      <th>0</th>\n",
       "      <td>John</td>\n",
       "      <td>25.0</td>\n",
       "      <td>M</td>\n",
       "      <td>Developer</td>\n",
       "      <td>100000.0</td>\n",
       "    </tr>\n",
       "    <tr>\n",
       "      <th>1</th>\n",
       "      <td>Jane</td>\n",
       "      <td>27.0</td>\n",
       "      <td>F</td>\n",
       "      <td>Analyst</td>\n",
       "      <td>80000.0</td>\n",
       "    </tr>\n",
       "    <tr>\n",
       "      <th>2</th>\n",
       "      <td>Billy</td>\n",
       "      <td>42.0</td>\n",
       "      <td>M</td>\n",
       "      <td>Admin</td>\n",
       "      <td>75000.0</td>\n",
       "    </tr>\n",
       "    <tr>\n",
       "      <th>3</th>\n",
       "      <td>Tracy</td>\n",
       "      <td>31.0</td>\n",
       "      <td>F</td>\n",
       "      <td>Data Scientist</td>\n",
       "      <td>110000.0</td>\n",
       "    </tr>\n",
       "    <tr>\n",
       "      <th>4</th>\n",
       "      <td>Emily</td>\n",
       "      <td>22.0</td>\n",
       "      <td>F</td>\n",
       "      <td>Project Manager</td>\n",
       "      <td>NaN</td>\n",
       "    </tr>\n",
       "    <tr>\n",
       "      <th>5</th>\n",
       "      <td>Lukas</td>\n",
       "      <td>NaN</td>\n",
       "      <td>M</td>\n",
       "      <td>ML Engineer</td>\n",
       "      <td>135000.0</td>\n",
       "    </tr>\n",
       "    <tr>\n",
       "      <th>6</th>\n",
       "      <td>Janelle</td>\n",
       "      <td>52.0</td>\n",
       "      <td>F</td>\n",
       "      <td>CIO</td>\n",
       "      <td>230000.0</td>\n",
       "    </tr>\n",
       "  </tbody>\n",
       "</table>\n",
       "</div>"
      ],
      "text/plain": [
       "      name   age gender       profession    salary\n",
       "0     John  25.0      M        Developer  100000.0\n",
       "1     Jane  27.0      F          Analyst   80000.0\n",
       "2    Billy  42.0      M            Admin   75000.0\n",
       "3    Tracy  31.0      F   Data Scientist  110000.0\n",
       "4    Emily  22.0      F  Project Manager       NaN\n",
       "5    Lukas   NaN      M      ML Engineer  135000.0\n",
       "6  Janelle  52.0      F              CIO  230000.0"
      ]
     },
     "execution_count": 75,
     "metadata": {},
     "output_type": "execute_result"
    }
   ],
   "source": [
    "# WRITE CODE HERE THAT REPRODUCES THE OUTPUT OF THE CELL BELOW\n",
    "# BE CAREFUL NOT TO RUN THE CELL BELOW, OTHERWISE YOU WON'T BE ABLE TO SEE THE OUTPUT ANY MORE\n",
    "# IF YOU NEED MORE CODE CELLS, YOU CAN ADD MORE BEFORE THE ANSWER CELL\n",
    "\n",
    "Q23 = Q22.copy()\n",
    "Q23"
   ]
  },
  {
   "cell_type": "code",
   "execution_count": 76,
   "metadata": {},
   "outputs": [
    {
     "data": {
      "text/html": [
       "<div>\n",
       "<style scoped>\n",
       "    .dataframe tbody tr th:only-of-type {\n",
       "        vertical-align: middle;\n",
       "    }\n",
       "\n",
       "    .dataframe tbody tr th {\n",
       "        vertical-align: top;\n",
       "    }\n",
       "\n",
       "    .dataframe thead th {\n",
       "        text-align: right;\n",
       "    }\n",
       "</style>\n",
       "<table border=\"1\" class=\"dataframe\">\n",
       "  <thead>\n",
       "    <tr style=\"text-align: right;\">\n",
       "      <th></th>\n",
       "      <th>name</th>\n",
       "      <th>age</th>\n",
       "      <th>gender</th>\n",
       "      <th>profession</th>\n",
       "      <th>salary</th>\n",
       "    </tr>\n",
       "  </thead>\n",
       "  <tbody>\n",
       "    <tr>\n",
       "      <th>0</th>\n",
       "      <td>John</td>\n",
       "      <td>25.0</td>\n",
       "      <td>M</td>\n",
       "      <td>Developer</td>\n",
       "      <td>100000.0</td>\n",
       "    </tr>\n",
       "    <tr>\n",
       "      <th>1</th>\n",
       "      <td>Jane</td>\n",
       "      <td>27.0</td>\n",
       "      <td>F</td>\n",
       "      <td>Analyst</td>\n",
       "      <td>80000.0</td>\n",
       "    </tr>\n",
       "    <tr>\n",
       "      <th>2</th>\n",
       "      <td>Billy</td>\n",
       "      <td>42.0</td>\n",
       "      <td>M</td>\n",
       "      <td>Admin</td>\n",
       "      <td>75000.0</td>\n",
       "    </tr>\n",
       "    <tr>\n",
       "      <th>3</th>\n",
       "      <td>Tracy</td>\n",
       "      <td>31.0</td>\n",
       "      <td>F</td>\n",
       "      <td>Data Scientist</td>\n",
       "      <td>110000.0</td>\n",
       "    </tr>\n",
       "    <tr>\n",
       "      <th>6</th>\n",
       "      <td>Janelle</td>\n",
       "      <td>52.0</td>\n",
       "      <td>F</td>\n",
       "      <td>CIO</td>\n",
       "      <td>230000.0</td>\n",
       "    </tr>\n",
       "  </tbody>\n",
       "</table>\n",
       "</div>"
      ],
      "text/plain": [
       "      name   age gender      profession    salary\n",
       "0     John  25.0      M       Developer  100000.0\n",
       "1     Jane  27.0      F         Analyst   80000.0\n",
       "2    Billy  42.0      M           Admin   75000.0\n",
       "3    Tracy  31.0      F  Data Scientist  110000.0\n",
       "6  Janelle  52.0      F             CIO  230000.0"
      ]
     },
     "execution_count": 76,
     "metadata": {},
     "output_type": "execute_result"
    }
   ],
   "source": [
    "Q23 = Q23.dropna()\n",
    "Q23"
   ]
  },
  {
   "cell_type": "code",
   "execution_count": null,
   "metadata": {
    "id": "rtFTwedqThkF",
    "outputId": "754f9cfe-6374-4ea9-aa16-6078fdc7f30e"
   },
   "outputs": [
    {
     "data": {
      "text/html": [
       "<div>\n",
       "<style scoped>\n",
       "    .dataframe tbody tr th:only-of-type {\n",
       "        vertical-align: middle;\n",
       "    }\n",
       "\n",
       "    .dataframe tbody tr th {\n",
       "        vertical-align: top;\n",
       "    }\n",
       "\n",
       "    .dataframe thead th {\n",
       "        text-align: right;\n",
       "    }\n",
       "</style>\n",
       "<table border=\"1\" class=\"dataframe\">\n",
       "  <thead>\n",
       "    <tr style=\"text-align: right;\">\n",
       "      <th></th>\n",
       "      <th>name</th>\n",
       "      <th>age</th>\n",
       "      <th>gender</th>\n",
       "      <th>profession</th>\n",
       "      <th>salary</th>\n",
       "    </tr>\n",
       "  </thead>\n",
       "  <tbody>\n",
       "    <tr>\n",
       "      <th>0</th>\n",
       "      <td>John</td>\n",
       "      <td>25.0</td>\n",
       "      <td>M</td>\n",
       "      <td>Developer</td>\n",
       "      <td>100000.0</td>\n",
       "    </tr>\n",
       "    <tr>\n",
       "      <th>1</th>\n",
       "      <td>Jane</td>\n",
       "      <td>27.0</td>\n",
       "      <td>F</td>\n",
       "      <td>Analyst</td>\n",
       "      <td>80000.0</td>\n",
       "    </tr>\n",
       "    <tr>\n",
       "      <th>2</th>\n",
       "      <td>Billy</td>\n",
       "      <td>42.0</td>\n",
       "      <td>M</td>\n",
       "      <td>Admin</td>\n",
       "      <td>75000.0</td>\n",
       "    </tr>\n",
       "    <tr>\n",
       "      <th>3</th>\n",
       "      <td>Tracy</td>\n",
       "      <td>31.0</td>\n",
       "      <td>F</td>\n",
       "      <td>Data Scientist</td>\n",
       "      <td>110000.0</td>\n",
       "    </tr>\n",
       "    <tr>\n",
       "      <th>6</th>\n",
       "      <td>Janelle</td>\n",
       "      <td>52.0</td>\n",
       "      <td>F</td>\n",
       "      <td>CIO</td>\n",
       "      <td>230000.0</td>\n",
       "    </tr>\n",
       "  </tbody>\n",
       "</table>\n",
       "</div>"
      ],
      "text/plain": [
       "      name   age gender      profession    salary\n",
       "0     John  25.0      M       Developer  100000.0\n",
       "1     Jane  27.0      F         Analyst   80000.0\n",
       "2    Billy  42.0      M           Admin   75000.0\n",
       "3    Tracy  31.0      F  Data Scientist  110000.0\n",
       "6  Janelle  52.0      F             CIO  230000.0"
      ]
     },
     "execution_count": 152,
     "metadata": {},
     "output_type": "execute_result"
    }
   ],
   "source": [
    "#ANSWER CELL: DO NOT RUN THIS CELL. YOUR ANSWER MUST MATCH THIS."
   ]
  },
  {
   "cell_type": "markdown",
   "metadata": {
    "id": "x7xgYbToThkF"
   },
   "source": [
    "**Q24:** Make a copy of the `Q22` DataFrame and save it as `Q24`.  Add a new column called `departments` to the `Q24` DataFrame using the list below."
   ]
  },
  {
   "cell_type": "code",
   "execution_count": 77,
   "metadata": {
    "id": "6HTpOr8IgXUn"
   },
   "outputs": [],
   "source": [
    "departments = ['IT','IT','Administration','IT','Communications','IT','Executive']\n",
    "\n",
    "Q24 = Q22.copy()"
   ]
  },
  {
   "cell_type": "code",
   "execution_count": 78,
   "metadata": {
    "id": "VHG9R47MgXyP"
   },
   "outputs": [
    {
     "data": {
      "text/html": [
       "<div>\n",
       "<style scoped>\n",
       "    .dataframe tbody tr th:only-of-type {\n",
       "        vertical-align: middle;\n",
       "    }\n",
       "\n",
       "    .dataframe tbody tr th {\n",
       "        vertical-align: top;\n",
       "    }\n",
       "\n",
       "    .dataframe thead th {\n",
       "        text-align: right;\n",
       "    }\n",
       "</style>\n",
       "<table border=\"1\" class=\"dataframe\">\n",
       "  <thead>\n",
       "    <tr style=\"text-align: right;\">\n",
       "      <th></th>\n",
       "      <th>name</th>\n",
       "      <th>age</th>\n",
       "      <th>gender</th>\n",
       "      <th>profession</th>\n",
       "      <th>salary</th>\n",
       "      <th>departments</th>\n",
       "    </tr>\n",
       "  </thead>\n",
       "  <tbody>\n",
       "    <tr>\n",
       "      <th>0</th>\n",
       "      <td>John</td>\n",
       "      <td>25.0</td>\n",
       "      <td>M</td>\n",
       "      <td>Developer</td>\n",
       "      <td>100000.0</td>\n",
       "      <td>IT</td>\n",
       "    </tr>\n",
       "    <tr>\n",
       "      <th>1</th>\n",
       "      <td>Jane</td>\n",
       "      <td>27.0</td>\n",
       "      <td>F</td>\n",
       "      <td>Analyst</td>\n",
       "      <td>80000.0</td>\n",
       "      <td>IT</td>\n",
       "    </tr>\n",
       "    <tr>\n",
       "      <th>2</th>\n",
       "      <td>Billy</td>\n",
       "      <td>42.0</td>\n",
       "      <td>M</td>\n",
       "      <td>Admin</td>\n",
       "      <td>75000.0</td>\n",
       "      <td>Administration</td>\n",
       "    </tr>\n",
       "    <tr>\n",
       "      <th>3</th>\n",
       "      <td>Tracy</td>\n",
       "      <td>31.0</td>\n",
       "      <td>F</td>\n",
       "      <td>Data Scientist</td>\n",
       "      <td>110000.0</td>\n",
       "      <td>IT</td>\n",
       "    </tr>\n",
       "    <tr>\n",
       "      <th>4</th>\n",
       "      <td>Emily</td>\n",
       "      <td>22.0</td>\n",
       "      <td>F</td>\n",
       "      <td>Project Manager</td>\n",
       "      <td>NaN</td>\n",
       "      <td>Communications</td>\n",
       "    </tr>\n",
       "    <tr>\n",
       "      <th>5</th>\n",
       "      <td>Lukas</td>\n",
       "      <td>NaN</td>\n",
       "      <td>M</td>\n",
       "      <td>ML Engineer</td>\n",
       "      <td>135000.0</td>\n",
       "      <td>IT</td>\n",
       "    </tr>\n",
       "    <tr>\n",
       "      <th>6</th>\n",
       "      <td>Janelle</td>\n",
       "      <td>52.0</td>\n",
       "      <td>F</td>\n",
       "      <td>CIO</td>\n",
       "      <td>230000.0</td>\n",
       "      <td>Executive</td>\n",
       "    </tr>\n",
       "  </tbody>\n",
       "</table>\n",
       "</div>"
      ],
      "text/plain": [
       "      name   age gender       profession    salary     departments\n",
       "0     John  25.0      M        Developer  100000.0              IT\n",
       "1     Jane  27.0      F          Analyst   80000.0              IT\n",
       "2    Billy  42.0      M            Admin   75000.0  Administration\n",
       "3    Tracy  31.0      F   Data Scientist  110000.0              IT\n",
       "4    Emily  22.0      F  Project Manager       NaN  Communications\n",
       "5    Lukas   NaN      M      ML Engineer  135000.0              IT\n",
       "6  Janelle  52.0      F              CIO  230000.0       Executive"
      ]
     },
     "execution_count": 78,
     "metadata": {},
     "output_type": "execute_result"
    }
   ],
   "source": [
    "# WRITE CODE HERE THAT REPRODUCES THE OUTPUT OF THE CELL BELOW\n",
    "# BE CAREFUL NOT TO RUN THE CELL BELOW, OTHERWISE YOU WON'T BE ABLE TO SEE THE OUTPUT ANY MORE\n",
    "# IF YOU NEED MORE CODE CELLS, YOU CAN ADD MORE BEFORE THE ANSWER CELL\n",
    "\n",
    "Q24['departments'] = departments\n",
    "Q24"
   ]
  },
  {
   "cell_type": "code",
   "execution_count": null,
   "metadata": {
    "id": "DGuJ9rRpThkG",
    "outputId": "9d4034b5-7d31-4c48-80d5-68c85e37d271"
   },
   "outputs": [
    {
     "data": {
      "text/html": [
       "<div>\n",
       "<style scoped>\n",
       "    .dataframe tbody tr th:only-of-type {\n",
       "        vertical-align: middle;\n",
       "    }\n",
       "\n",
       "    .dataframe tbody tr th {\n",
       "        vertical-align: top;\n",
       "    }\n",
       "\n",
       "    .dataframe thead th {\n",
       "        text-align: right;\n",
       "    }\n",
       "</style>\n",
       "<table border=\"1\" class=\"dataframe\">\n",
       "  <thead>\n",
       "    <tr style=\"text-align: right;\">\n",
       "      <th></th>\n",
       "      <th>name</th>\n",
       "      <th>age</th>\n",
       "      <th>gender</th>\n",
       "      <th>profession</th>\n",
       "      <th>salary</th>\n",
       "      <th>departments</th>\n",
       "    </tr>\n",
       "  </thead>\n",
       "  <tbody>\n",
       "    <tr>\n",
       "      <th>0</th>\n",
       "      <td>John</td>\n",
       "      <td>25.0</td>\n",
       "      <td>M</td>\n",
       "      <td>Developer</td>\n",
       "      <td>100000.0</td>\n",
       "      <td>IT</td>\n",
       "    </tr>\n",
       "    <tr>\n",
       "      <th>1</th>\n",
       "      <td>Jane</td>\n",
       "      <td>27.0</td>\n",
       "      <td>F</td>\n",
       "      <td>Analyst</td>\n",
       "      <td>80000.0</td>\n",
       "      <td>IT</td>\n",
       "    </tr>\n",
       "    <tr>\n",
       "      <th>2</th>\n",
       "      <td>Billy</td>\n",
       "      <td>42.0</td>\n",
       "      <td>M</td>\n",
       "      <td>Admin</td>\n",
       "      <td>75000.0</td>\n",
       "      <td>Administration</td>\n",
       "    </tr>\n",
       "    <tr>\n",
       "      <th>3</th>\n",
       "      <td>Tracy</td>\n",
       "      <td>31.0</td>\n",
       "      <td>F</td>\n",
       "      <td>Data Scientist</td>\n",
       "      <td>110000.0</td>\n",
       "      <td>IT</td>\n",
       "    </tr>\n",
       "    <tr>\n",
       "      <th>4</th>\n",
       "      <td>Emily</td>\n",
       "      <td>22.0</td>\n",
       "      <td>F</td>\n",
       "      <td>Project Manager</td>\n",
       "      <td>NaN</td>\n",
       "      <td>Communications</td>\n",
       "    </tr>\n",
       "    <tr>\n",
       "      <th>5</th>\n",
       "      <td>Lukas</td>\n",
       "      <td>NaN</td>\n",
       "      <td>M</td>\n",
       "      <td>ML Engineer</td>\n",
       "      <td>135000.0</td>\n",
       "      <td>IT</td>\n",
       "    </tr>\n",
       "    <tr>\n",
       "      <th>6</th>\n",
       "      <td>Janelle</td>\n",
       "      <td>52.0</td>\n",
       "      <td>F</td>\n",
       "      <td>CIO</td>\n",
       "      <td>230000.0</td>\n",
       "      <td>Executive</td>\n",
       "    </tr>\n",
       "  </tbody>\n",
       "</table>\n",
       "</div>"
      ],
      "text/plain": [
       "      name   age gender       profession    salary     departments\n",
       "0     John  25.0      M        Developer  100000.0              IT\n",
       "1     Jane  27.0      F          Analyst   80000.0              IT\n",
       "2    Billy  42.0      M            Admin   75000.0  Administration\n",
       "3    Tracy  31.0      F   Data Scientist  110000.0              IT\n",
       "4    Emily  22.0      F  Project Manager       NaN  Communications\n",
       "5    Lukas   NaN      M      ML Engineer  135000.0              IT\n",
       "6  Janelle  52.0      F              CIO  230000.0       Executive"
      ]
     },
     "execution_count": 153,
     "metadata": {},
     "output_type": "execute_result"
    }
   ],
   "source": [
    "#ANSWER CELL: DO NOT RUN THIS CELL. YOUR ANSWER MUST MATCH THIS."
   ]
  },
  {
   "cell_type": "markdown",
   "metadata": {
    "id": "7g7s17zQThkG"
   },
   "source": [
    "**Q25:** Make a copy of the `Q24` DataFrame and save it as `Q25`.  You heard back from HR that Emily's salary should equal the employee with the lowest salary. Fill this missing value in `Q25` with the minimum salary (use `fillna()` and `min()` instead of hard coding the salary)."
   ]
  },
  {
   "cell_type": "code",
   "execution_count": 79,
   "metadata": {
    "id": "99GMuhr0gaBv"
   },
   "outputs": [
    {
     "data": {
      "text/html": [
       "<div>\n",
       "<style scoped>\n",
       "    .dataframe tbody tr th:only-of-type {\n",
       "        vertical-align: middle;\n",
       "    }\n",
       "\n",
       "    .dataframe tbody tr th {\n",
       "        vertical-align: top;\n",
       "    }\n",
       "\n",
       "    .dataframe thead th {\n",
       "        text-align: right;\n",
       "    }\n",
       "</style>\n",
       "<table border=\"1\" class=\"dataframe\">\n",
       "  <thead>\n",
       "    <tr style=\"text-align: right;\">\n",
       "      <th></th>\n",
       "      <th>name</th>\n",
       "      <th>age</th>\n",
       "      <th>gender</th>\n",
       "      <th>profession</th>\n",
       "      <th>salary</th>\n",
       "      <th>departments</th>\n",
       "    </tr>\n",
       "  </thead>\n",
       "  <tbody>\n",
       "    <tr>\n",
       "      <th>0</th>\n",
       "      <td>John</td>\n",
       "      <td>25.0</td>\n",
       "      <td>M</td>\n",
       "      <td>Developer</td>\n",
       "      <td>100000.0</td>\n",
       "      <td>IT</td>\n",
       "    </tr>\n",
       "    <tr>\n",
       "      <th>1</th>\n",
       "      <td>Jane</td>\n",
       "      <td>27.0</td>\n",
       "      <td>F</td>\n",
       "      <td>Analyst</td>\n",
       "      <td>80000.0</td>\n",
       "      <td>IT</td>\n",
       "    </tr>\n",
       "    <tr>\n",
       "      <th>2</th>\n",
       "      <td>Billy</td>\n",
       "      <td>42.0</td>\n",
       "      <td>M</td>\n",
       "      <td>Admin</td>\n",
       "      <td>75000.0</td>\n",
       "      <td>Administration</td>\n",
       "    </tr>\n",
       "    <tr>\n",
       "      <th>3</th>\n",
       "      <td>Tracy</td>\n",
       "      <td>31.0</td>\n",
       "      <td>F</td>\n",
       "      <td>Data Scientist</td>\n",
       "      <td>110000.0</td>\n",
       "      <td>IT</td>\n",
       "    </tr>\n",
       "    <tr>\n",
       "      <th>4</th>\n",
       "      <td>Emily</td>\n",
       "      <td>22.0</td>\n",
       "      <td>F</td>\n",
       "      <td>Project Manager</td>\n",
       "      <td>NaN</td>\n",
       "      <td>Communications</td>\n",
       "    </tr>\n",
       "    <tr>\n",
       "      <th>5</th>\n",
       "      <td>Lukas</td>\n",
       "      <td>NaN</td>\n",
       "      <td>M</td>\n",
       "      <td>ML Engineer</td>\n",
       "      <td>135000.0</td>\n",
       "      <td>IT</td>\n",
       "    </tr>\n",
       "    <tr>\n",
       "      <th>6</th>\n",
       "      <td>Janelle</td>\n",
       "      <td>52.0</td>\n",
       "      <td>F</td>\n",
       "      <td>CIO</td>\n",
       "      <td>230000.0</td>\n",
       "      <td>Executive</td>\n",
       "    </tr>\n",
       "  </tbody>\n",
       "</table>\n",
       "</div>"
      ],
      "text/plain": [
       "      name   age gender       profession    salary     departments\n",
       "0     John  25.0      M        Developer  100000.0              IT\n",
       "1     Jane  27.0      F          Analyst   80000.0              IT\n",
       "2    Billy  42.0      M            Admin   75000.0  Administration\n",
       "3    Tracy  31.0      F   Data Scientist  110000.0              IT\n",
       "4    Emily  22.0      F  Project Manager       NaN  Communications\n",
       "5    Lukas   NaN      M      ML Engineer  135000.0              IT\n",
       "6  Janelle  52.0      F              CIO  230000.0       Executive"
      ]
     },
     "execution_count": 79,
     "metadata": {},
     "output_type": "execute_result"
    }
   ],
   "source": [
    "# WRITE CODE HERE THAT REPRODUCES THE OUTPUT OF THE CELL BELOW\n",
    "# BE CAREFUL NOT TO RUN THE CELL BELOW, OTHERWISE YOU WON'T BE ABLE TO SEE THE OUTPUT ANY MORE\n",
    "# IF YOU NEED MORE CODE CELLS, YOU CAN ADD MORE BEFORE THE ANSWER CELL\n",
    "\n",
    "Q25 = Q24.copy()\n",
    "Q25"
   ]
  },
  {
   "cell_type": "code",
   "execution_count": 90,
   "metadata": {
    "id": "6ly1ztOogaIK"
   },
   "outputs": [
    {
     "data": {
      "text/html": [
       "<div>\n",
       "<style scoped>\n",
       "    .dataframe tbody tr th:only-of-type {\n",
       "        vertical-align: middle;\n",
       "    }\n",
       "\n",
       "    .dataframe tbody tr th {\n",
       "        vertical-align: top;\n",
       "    }\n",
       "\n",
       "    .dataframe thead th {\n",
       "        text-align: right;\n",
       "    }\n",
       "</style>\n",
       "<table border=\"1\" class=\"dataframe\">\n",
       "  <thead>\n",
       "    <tr style=\"text-align: right;\">\n",
       "      <th></th>\n",
       "      <th>name</th>\n",
       "      <th>age</th>\n",
       "      <th>gender</th>\n",
       "      <th>profession</th>\n",
       "      <th>salary</th>\n",
       "      <th>departments</th>\n",
       "    </tr>\n",
       "  </thead>\n",
       "  <tbody>\n",
       "    <tr>\n",
       "      <th>0</th>\n",
       "      <td>John</td>\n",
       "      <td>25.0</td>\n",
       "      <td>M</td>\n",
       "      <td>Developer</td>\n",
       "      <td>100000.0</td>\n",
       "      <td>IT</td>\n",
       "    </tr>\n",
       "    <tr>\n",
       "      <th>1</th>\n",
       "      <td>Jane</td>\n",
       "      <td>27.0</td>\n",
       "      <td>F</td>\n",
       "      <td>Analyst</td>\n",
       "      <td>80000.0</td>\n",
       "      <td>IT</td>\n",
       "    </tr>\n",
       "    <tr>\n",
       "      <th>2</th>\n",
       "      <td>Billy</td>\n",
       "      <td>42.0</td>\n",
       "      <td>M</td>\n",
       "      <td>Admin</td>\n",
       "      <td>75000.0</td>\n",
       "      <td>Administration</td>\n",
       "    </tr>\n",
       "    <tr>\n",
       "      <th>3</th>\n",
       "      <td>Tracy</td>\n",
       "      <td>31.0</td>\n",
       "      <td>F</td>\n",
       "      <td>Data Scientist</td>\n",
       "      <td>110000.0</td>\n",
       "      <td>IT</td>\n",
       "    </tr>\n",
       "    <tr>\n",
       "      <th>4</th>\n",
       "      <td>Emily</td>\n",
       "      <td>22.0</td>\n",
       "      <td>F</td>\n",
       "      <td>Project Manager</td>\n",
       "      <td>75000.0</td>\n",
       "      <td>Communications</td>\n",
       "    </tr>\n",
       "    <tr>\n",
       "      <th>5</th>\n",
       "      <td>Lukas</td>\n",
       "      <td>NaN</td>\n",
       "      <td>M</td>\n",
       "      <td>ML Engineer</td>\n",
       "      <td>135000.0</td>\n",
       "      <td>IT</td>\n",
       "    </tr>\n",
       "    <tr>\n",
       "      <th>6</th>\n",
       "      <td>Janelle</td>\n",
       "      <td>52.0</td>\n",
       "      <td>F</td>\n",
       "      <td>CIO</td>\n",
       "      <td>230000.0</td>\n",
       "      <td>Executive</td>\n",
       "    </tr>\n",
       "  </tbody>\n",
       "</table>\n",
       "</div>"
      ],
      "text/plain": [
       "      name   age gender       profession    salary     departments\n",
       "0     John  25.0      M        Developer  100000.0              IT\n",
       "1     Jane  27.0      F          Analyst   80000.0              IT\n",
       "2    Billy  42.0      M            Admin   75000.0  Administration\n",
       "3    Tracy  31.0      F   Data Scientist  110000.0              IT\n",
       "4    Emily  22.0      F  Project Manager   75000.0  Communications\n",
       "5    Lukas   NaN      M      ML Engineer  135000.0              IT\n",
       "6  Janelle  52.0      F              CIO  230000.0       Executive"
      ]
     },
     "execution_count": 90,
     "metadata": {},
     "output_type": "execute_result"
    }
   ],
   "source": [
    "Q25['salary'] = Q25['salary'].fillna(Q25['salary'].min())\n",
    "Q25"
   ]
  },
  {
   "cell_type": "code",
   "execution_count": null,
   "metadata": {
    "id": "5vmBlXNxThkH",
    "outputId": "7122f6a1-a15a-46ab-96d7-e2d1759a4dbb"
   },
   "outputs": [
    {
     "data": {
      "text/html": [
       "<div>\n",
       "<style scoped>\n",
       "    .dataframe tbody tr th:only-of-type {\n",
       "        vertical-align: middle;\n",
       "    }\n",
       "\n",
       "    .dataframe tbody tr th {\n",
       "        vertical-align: top;\n",
       "    }\n",
       "\n",
       "    .dataframe thead th {\n",
       "        text-align: right;\n",
       "    }\n",
       "</style>\n",
       "<table border=\"1\" class=\"dataframe\">\n",
       "  <thead>\n",
       "    <tr style=\"text-align: right;\">\n",
       "      <th></th>\n",
       "      <th>name</th>\n",
       "      <th>age</th>\n",
       "      <th>gender</th>\n",
       "      <th>profession</th>\n",
       "      <th>salary</th>\n",
       "      <th>departments</th>\n",
       "    </tr>\n",
       "  </thead>\n",
       "  <tbody>\n",
       "    <tr>\n",
       "      <th>0</th>\n",
       "      <td>John</td>\n",
       "      <td>25.0</td>\n",
       "      <td>M</td>\n",
       "      <td>Developer</td>\n",
       "      <td>100000.0</td>\n",
       "      <td>IT</td>\n",
       "    </tr>\n",
       "    <tr>\n",
       "      <th>1</th>\n",
       "      <td>Jane</td>\n",
       "      <td>27.0</td>\n",
       "      <td>F</td>\n",
       "      <td>Analyst</td>\n",
       "      <td>80000.0</td>\n",
       "      <td>IT</td>\n",
       "    </tr>\n",
       "    <tr>\n",
       "      <th>2</th>\n",
       "      <td>Billy</td>\n",
       "      <td>42.0</td>\n",
       "      <td>M</td>\n",
       "      <td>Admin</td>\n",
       "      <td>75000.0</td>\n",
       "      <td>Administration</td>\n",
       "    </tr>\n",
       "    <tr>\n",
       "      <th>3</th>\n",
       "      <td>Tracy</td>\n",
       "      <td>31.0</td>\n",
       "      <td>F</td>\n",
       "      <td>Data Scientist</td>\n",
       "      <td>110000.0</td>\n",
       "      <td>IT</td>\n",
       "    </tr>\n",
       "    <tr>\n",
       "      <th>4</th>\n",
       "      <td>Emily</td>\n",
       "      <td>22.0</td>\n",
       "      <td>F</td>\n",
       "      <td>Project Manager</td>\n",
       "      <td>75000.0</td>\n",
       "      <td>Communications</td>\n",
       "    </tr>\n",
       "    <tr>\n",
       "      <th>5</th>\n",
       "      <td>Lukas</td>\n",
       "      <td>NaN</td>\n",
       "      <td>M</td>\n",
       "      <td>ML Engineer</td>\n",
       "      <td>135000.0</td>\n",
       "      <td>IT</td>\n",
       "    </tr>\n",
       "    <tr>\n",
       "      <th>6</th>\n",
       "      <td>Janelle</td>\n",
       "      <td>52.0</td>\n",
       "      <td>F</td>\n",
       "      <td>CIO</td>\n",
       "      <td>230000.0</td>\n",
       "      <td>Executive</td>\n",
       "    </tr>\n",
       "  </tbody>\n",
       "</table>\n",
       "</div>"
      ],
      "text/plain": [
       "      name   age gender       profession    salary     departments\n",
       "0     John  25.0      M        Developer  100000.0              IT\n",
       "1     Jane  27.0      F          Analyst   80000.0              IT\n",
       "2    Billy  42.0      M            Admin   75000.0  Administration\n",
       "3    Tracy  31.0      F   Data Scientist  110000.0              IT\n",
       "4    Emily  22.0      F  Project Manager   75000.0  Communications\n",
       "5    Lukas   NaN      M      ML Engineer  135000.0              IT\n",
       "6  Janelle  52.0      F              CIO  230000.0       Executive"
      ]
     },
     "execution_count": 117,
     "metadata": {},
     "output_type": "execute_result"
    }
   ],
   "source": [
    "#ANSWER CELL: DO NOT RUN THIS CELL. YOUR ANSWER MUST MATCH THIS."
   ]
  },
  {
   "cell_type": "markdown",
   "metadata": {
    "id": "1RwGeNtKThkH"
   },
   "source": [
    "**Q26:** Make a copy of `Q25` and save it as `Q26`.  Add Lukas' age of `54` to the `Q26` DataFrame."
   ]
  },
  {
   "cell_type": "code",
   "execution_count": 97,
   "metadata": {
    "id": "XZ12-xN_gc9R"
   },
   "outputs": [],
   "source": [
    "# WRITE CODE HERE THAT REPRODUCES THE OUTPUT OF THE CELL BELOW\n",
    "# BE CAREFUL NOT TO RUN THE CELL BELOW, OTHERWISE YOU WON'T BE ABLE TO SEE THE OUTPUT ANY MORE\n",
    "# IF YOU NEED MORE CODE CELLS, YOU CAN ADD MORE BEFORE THE ANSWER CELL\n",
    "\n",
    "Q26 = Q25.copy()\n",
    "Q26.loc[Q26['name'] == 'Lukas', 'age'] = 54"
   ]
  },
  {
   "cell_type": "code",
   "execution_count": 98,
   "metadata": {},
   "outputs": [
    {
     "data": {
      "text/html": [
       "<div>\n",
       "<style scoped>\n",
       "    .dataframe tbody tr th:only-of-type {\n",
       "        vertical-align: middle;\n",
       "    }\n",
       "\n",
       "    .dataframe tbody tr th {\n",
       "        vertical-align: top;\n",
       "    }\n",
       "\n",
       "    .dataframe thead th {\n",
       "        text-align: right;\n",
       "    }\n",
       "</style>\n",
       "<table border=\"1\" class=\"dataframe\">\n",
       "  <thead>\n",
       "    <tr style=\"text-align: right;\">\n",
       "      <th></th>\n",
       "      <th>name</th>\n",
       "      <th>age</th>\n",
       "      <th>gender</th>\n",
       "      <th>profession</th>\n",
       "      <th>salary</th>\n",
       "      <th>departments</th>\n",
       "    </tr>\n",
       "  </thead>\n",
       "  <tbody>\n",
       "    <tr>\n",
       "      <th>0</th>\n",
       "      <td>John</td>\n",
       "      <td>25.0</td>\n",
       "      <td>M</td>\n",
       "      <td>Developer</td>\n",
       "      <td>100000.0</td>\n",
       "      <td>IT</td>\n",
       "    </tr>\n",
       "    <tr>\n",
       "      <th>1</th>\n",
       "      <td>Jane</td>\n",
       "      <td>27.0</td>\n",
       "      <td>F</td>\n",
       "      <td>Analyst</td>\n",
       "      <td>80000.0</td>\n",
       "      <td>IT</td>\n",
       "    </tr>\n",
       "    <tr>\n",
       "      <th>2</th>\n",
       "      <td>Billy</td>\n",
       "      <td>42.0</td>\n",
       "      <td>M</td>\n",
       "      <td>Admin</td>\n",
       "      <td>75000.0</td>\n",
       "      <td>Administration</td>\n",
       "    </tr>\n",
       "    <tr>\n",
       "      <th>3</th>\n",
       "      <td>Tracy</td>\n",
       "      <td>31.0</td>\n",
       "      <td>F</td>\n",
       "      <td>Data Scientist</td>\n",
       "      <td>110000.0</td>\n",
       "      <td>IT</td>\n",
       "    </tr>\n",
       "    <tr>\n",
       "      <th>4</th>\n",
       "      <td>Emily</td>\n",
       "      <td>22.0</td>\n",
       "      <td>F</td>\n",
       "      <td>Project Manager</td>\n",
       "      <td>75000.0</td>\n",
       "      <td>Communications</td>\n",
       "    </tr>\n",
       "    <tr>\n",
       "      <th>5</th>\n",
       "      <td>Lukas</td>\n",
       "      <td>54.0</td>\n",
       "      <td>M</td>\n",
       "      <td>ML Engineer</td>\n",
       "      <td>135000.0</td>\n",
       "      <td>IT</td>\n",
       "    </tr>\n",
       "    <tr>\n",
       "      <th>6</th>\n",
       "      <td>Janelle</td>\n",
       "      <td>52.0</td>\n",
       "      <td>F</td>\n",
       "      <td>CIO</td>\n",
       "      <td>230000.0</td>\n",
       "      <td>Executive</td>\n",
       "    </tr>\n",
       "  </tbody>\n",
       "</table>\n",
       "</div>"
      ],
      "text/plain": [
       "      name   age gender       profession    salary     departments\n",
       "0     John  25.0      M        Developer  100000.0              IT\n",
       "1     Jane  27.0      F          Analyst   80000.0              IT\n",
       "2    Billy  42.0      M            Admin   75000.0  Administration\n",
       "3    Tracy  31.0      F   Data Scientist  110000.0              IT\n",
       "4    Emily  22.0      F  Project Manager   75000.0  Communications\n",
       "5    Lukas  54.0      M      ML Engineer  135000.0              IT\n",
       "6  Janelle  52.0      F              CIO  230000.0       Executive"
      ]
     },
     "execution_count": 98,
     "metadata": {},
     "output_type": "execute_result"
    }
   ],
   "source": [
    "Q26"
   ]
  },
  {
   "cell_type": "code",
   "execution_count": null,
   "metadata": {
    "id": "IPyfafhHThkI",
    "outputId": "f151e1b2-72b2-4894-abdc-6c0b60255c76"
   },
   "outputs": [
    {
     "data": {
      "text/html": [
       "<div>\n",
       "<style scoped>\n",
       "    .dataframe tbody tr th:only-of-type {\n",
       "        vertical-align: middle;\n",
       "    }\n",
       "\n",
       "    .dataframe tbody tr th {\n",
       "        vertical-align: top;\n",
       "    }\n",
       "\n",
       "    .dataframe thead th {\n",
       "        text-align: right;\n",
       "    }\n",
       "</style>\n",
       "<table border=\"1\" class=\"dataframe\">\n",
       "  <thead>\n",
       "    <tr style=\"text-align: right;\">\n",
       "      <th></th>\n",
       "      <th>name</th>\n",
       "      <th>age</th>\n",
       "      <th>gender</th>\n",
       "      <th>profession</th>\n",
       "      <th>salary</th>\n",
       "      <th>departments</th>\n",
       "    </tr>\n",
       "  </thead>\n",
       "  <tbody>\n",
       "    <tr>\n",
       "      <th>0</th>\n",
       "      <td>John</td>\n",
       "      <td>25.0</td>\n",
       "      <td>M</td>\n",
       "      <td>Developer</td>\n",
       "      <td>100000.0</td>\n",
       "      <td>IT</td>\n",
       "    </tr>\n",
       "    <tr>\n",
       "      <th>1</th>\n",
       "      <td>Jane</td>\n",
       "      <td>27.0</td>\n",
       "      <td>F</td>\n",
       "      <td>Analyst</td>\n",
       "      <td>80000.0</td>\n",
       "      <td>IT</td>\n",
       "    </tr>\n",
       "    <tr>\n",
       "      <th>2</th>\n",
       "      <td>Billy</td>\n",
       "      <td>42.0</td>\n",
       "      <td>M</td>\n",
       "      <td>Admin</td>\n",
       "      <td>75000.0</td>\n",
       "      <td>Administration</td>\n",
       "    </tr>\n",
       "    <tr>\n",
       "      <th>3</th>\n",
       "      <td>Tracy</td>\n",
       "      <td>31.0</td>\n",
       "      <td>F</td>\n",
       "      <td>Data Scientist</td>\n",
       "      <td>110000.0</td>\n",
       "      <td>IT</td>\n",
       "    </tr>\n",
       "    <tr>\n",
       "      <th>4</th>\n",
       "      <td>Emily</td>\n",
       "      <td>22.0</td>\n",
       "      <td>F</td>\n",
       "      <td>Project Manager</td>\n",
       "      <td>75000.0</td>\n",
       "      <td>Communications</td>\n",
       "    </tr>\n",
       "    <tr>\n",
       "      <th>5</th>\n",
       "      <td>Lukas</td>\n",
       "      <td>54.0</td>\n",
       "      <td>M</td>\n",
       "      <td>ML Engineer</td>\n",
       "      <td>135000.0</td>\n",
       "      <td>IT</td>\n",
       "    </tr>\n",
       "    <tr>\n",
       "      <th>6</th>\n",
       "      <td>Janelle</td>\n",
       "      <td>52.0</td>\n",
       "      <td>F</td>\n",
       "      <td>CIO</td>\n",
       "      <td>230000.0</td>\n",
       "      <td>Executive</td>\n",
       "    </tr>\n",
       "  </tbody>\n",
       "</table>\n",
       "</div>"
      ],
      "text/plain": [
       "      name   age gender       profession    salary     departments\n",
       "0     John  25.0      M        Developer  100000.0              IT\n",
       "1     Jane  27.0      F          Analyst   80000.0              IT\n",
       "2    Billy  42.0      M            Admin   75000.0  Administration\n",
       "3    Tracy  31.0      F   Data Scientist  110000.0              IT\n",
       "4    Emily  22.0      F  Project Manager   75000.0  Communications\n",
       "5    Lukas  54.0      M      ML Engineer  135000.0              IT\n",
       "6  Janelle  52.0      F              CIO  230000.0       Executive"
      ]
     },
     "execution_count": 157,
     "metadata": {},
     "output_type": "execute_result"
    }
   ],
   "source": [
    "#ANSWER CELL: DO NOT RUN THIS CELL. YOUR ANSWER MUST MATCH THIS."
   ]
  },
  {
   "cell_type": "markdown",
   "metadata": {
    "id": "ltxvsxIzThkJ"
   },
   "source": [
    "**Q27:** Sort the `Q26` DataFrame by the `age` column from youngest to oldest employee and save this as `Q27`."
   ]
  },
  {
   "cell_type": "code",
   "execution_count": 106,
   "metadata": {
    "id": "XkSbc6CugeZt"
   },
   "outputs": [
    {
     "data": {
      "text/html": [
       "<div>\n",
       "<style scoped>\n",
       "    .dataframe tbody tr th:only-of-type {\n",
       "        vertical-align: middle;\n",
       "    }\n",
       "\n",
       "    .dataframe tbody tr th {\n",
       "        vertical-align: top;\n",
       "    }\n",
       "\n",
       "    .dataframe thead th {\n",
       "        text-align: right;\n",
       "    }\n",
       "</style>\n",
       "<table border=\"1\" class=\"dataframe\">\n",
       "  <thead>\n",
       "    <tr style=\"text-align: right;\">\n",
       "      <th></th>\n",
       "      <th>name</th>\n",
       "      <th>age</th>\n",
       "      <th>gender</th>\n",
       "      <th>profession</th>\n",
       "      <th>salary</th>\n",
       "      <th>departments</th>\n",
       "    </tr>\n",
       "  </thead>\n",
       "  <tbody>\n",
       "    <tr>\n",
       "      <th>4</th>\n",
       "      <td>Emily</td>\n",
       "      <td>22.0</td>\n",
       "      <td>F</td>\n",
       "      <td>Project Manager</td>\n",
       "      <td>75000.0</td>\n",
       "      <td>Communications</td>\n",
       "    </tr>\n",
       "    <tr>\n",
       "      <th>0</th>\n",
       "      <td>John</td>\n",
       "      <td>25.0</td>\n",
       "      <td>M</td>\n",
       "      <td>Developer</td>\n",
       "      <td>100000.0</td>\n",
       "      <td>IT</td>\n",
       "    </tr>\n",
       "    <tr>\n",
       "      <th>1</th>\n",
       "      <td>Jane</td>\n",
       "      <td>27.0</td>\n",
       "      <td>F</td>\n",
       "      <td>Analyst</td>\n",
       "      <td>80000.0</td>\n",
       "      <td>IT</td>\n",
       "    </tr>\n",
       "    <tr>\n",
       "      <th>3</th>\n",
       "      <td>Tracy</td>\n",
       "      <td>31.0</td>\n",
       "      <td>F</td>\n",
       "      <td>Data Scientist</td>\n",
       "      <td>110000.0</td>\n",
       "      <td>IT</td>\n",
       "    </tr>\n",
       "    <tr>\n",
       "      <th>2</th>\n",
       "      <td>Billy</td>\n",
       "      <td>42.0</td>\n",
       "      <td>M</td>\n",
       "      <td>Admin</td>\n",
       "      <td>75000.0</td>\n",
       "      <td>Administration</td>\n",
       "    </tr>\n",
       "    <tr>\n",
       "      <th>6</th>\n",
       "      <td>Janelle</td>\n",
       "      <td>52.0</td>\n",
       "      <td>F</td>\n",
       "      <td>CIO</td>\n",
       "      <td>230000.0</td>\n",
       "      <td>Executive</td>\n",
       "    </tr>\n",
       "    <tr>\n",
       "      <th>5</th>\n",
       "      <td>Lukas</td>\n",
       "      <td>54.0</td>\n",
       "      <td>M</td>\n",
       "      <td>ML Engineer</td>\n",
       "      <td>135000.0</td>\n",
       "      <td>IT</td>\n",
       "    </tr>\n",
       "  </tbody>\n",
       "</table>\n",
       "</div>"
      ],
      "text/plain": [
       "      name   age gender       profession    salary     departments\n",
       "4    Emily  22.0      F  Project Manager   75000.0  Communications\n",
       "0     John  25.0      M        Developer  100000.0              IT\n",
       "1     Jane  27.0      F          Analyst   80000.0              IT\n",
       "3    Tracy  31.0      F   Data Scientist  110000.0              IT\n",
       "2    Billy  42.0      M            Admin   75000.0  Administration\n",
       "6  Janelle  52.0      F              CIO  230000.0       Executive\n",
       "5    Lukas  54.0      M      ML Engineer  135000.0              IT"
      ]
     },
     "execution_count": 106,
     "metadata": {},
     "output_type": "execute_result"
    }
   ],
   "source": [
    "# WRITE CODE HERE THAT REPRODUCES THE OUTPUT OF THE CELL BELOW\n",
    "# BE CAREFUL NOT TO RUN THE CELL BELOW, OTHERWISE YOU WON'T BE ABLE TO SEE THE OUTPUT ANY MORE\n",
    "# IF YOU NEED MORE CODE CELLS, YOU CAN ADD MORE BEFORE THE ANSWER CELL\n",
    "\n",
    "Q27 = Q26.sort_values(['age'])\n",
    "Q27"
   ]
  },
  {
   "cell_type": "code",
   "execution_count": null,
   "metadata": {
    "id": "1GRKUCBlThkK",
    "outputId": "4aca6021-4dd0-47ba-b6b3-a8b5586cbdf2"
   },
   "outputs": [
    {
     "data": {
      "text/html": [
       "<div>\n",
       "<style scoped>\n",
       "    .dataframe tbody tr th:only-of-type {\n",
       "        vertical-align: middle;\n",
       "    }\n",
       "\n",
       "    .dataframe tbody tr th {\n",
       "        vertical-align: top;\n",
       "    }\n",
       "\n",
       "    .dataframe thead th {\n",
       "        text-align: right;\n",
       "    }\n",
       "</style>\n",
       "<table border=\"1\" class=\"dataframe\">\n",
       "  <thead>\n",
       "    <tr style=\"text-align: right;\">\n",
       "      <th></th>\n",
       "      <th>name</th>\n",
       "      <th>age</th>\n",
       "      <th>gender</th>\n",
       "      <th>profession</th>\n",
       "      <th>salary</th>\n",
       "      <th>departments</th>\n",
       "    </tr>\n",
       "  </thead>\n",
       "  <tbody>\n",
       "    <tr>\n",
       "      <th>4</th>\n",
       "      <td>Emily</td>\n",
       "      <td>22.0</td>\n",
       "      <td>F</td>\n",
       "      <td>Project Manager</td>\n",
       "      <td>75000.0</td>\n",
       "      <td>Communications</td>\n",
       "    </tr>\n",
       "    <tr>\n",
       "      <th>0</th>\n",
       "      <td>John</td>\n",
       "      <td>25.0</td>\n",
       "      <td>M</td>\n",
       "      <td>Developer</td>\n",
       "      <td>100000.0</td>\n",
       "      <td>IT</td>\n",
       "    </tr>\n",
       "    <tr>\n",
       "      <th>1</th>\n",
       "      <td>Jane</td>\n",
       "      <td>27.0</td>\n",
       "      <td>F</td>\n",
       "      <td>Analyst</td>\n",
       "      <td>80000.0</td>\n",
       "      <td>IT</td>\n",
       "    </tr>\n",
       "    <tr>\n",
       "      <th>3</th>\n",
       "      <td>Tracy</td>\n",
       "      <td>31.0</td>\n",
       "      <td>F</td>\n",
       "      <td>Data Scientist</td>\n",
       "      <td>110000.0</td>\n",
       "      <td>IT</td>\n",
       "    </tr>\n",
       "    <tr>\n",
       "      <th>2</th>\n",
       "      <td>Billy</td>\n",
       "      <td>42.0</td>\n",
       "      <td>M</td>\n",
       "      <td>Admin</td>\n",
       "      <td>75000.0</td>\n",
       "      <td>Administration</td>\n",
       "    </tr>\n",
       "    <tr>\n",
       "      <th>6</th>\n",
       "      <td>Janelle</td>\n",
       "      <td>52.0</td>\n",
       "      <td>F</td>\n",
       "      <td>CIO</td>\n",
       "      <td>230000.0</td>\n",
       "      <td>Executive</td>\n",
       "    </tr>\n",
       "    <tr>\n",
       "      <th>5</th>\n",
       "      <td>Lukas</td>\n",
       "      <td>54.0</td>\n",
       "      <td>M</td>\n",
       "      <td>ML Engineer</td>\n",
       "      <td>135000.0</td>\n",
       "      <td>IT</td>\n",
       "    </tr>\n",
       "  </tbody>\n",
       "</table>\n",
       "</div>"
      ],
      "text/plain": [
       "      name   age gender       profession    salary     departments\n",
       "4    Emily  22.0      F  Project Manager   75000.0  Communications\n",
       "0     John  25.0      M        Developer  100000.0              IT\n",
       "1     Jane  27.0      F          Analyst   80000.0              IT\n",
       "3    Tracy  31.0      F   Data Scientist  110000.0              IT\n",
       "2    Billy  42.0      M            Admin   75000.0  Administration\n",
       "6  Janelle  52.0      F              CIO  230000.0       Executive\n",
       "5    Lukas  54.0      M      ML Engineer  135000.0              IT"
      ]
     },
     "execution_count": 158,
     "metadata": {},
     "output_type": "execute_result"
    }
   ],
   "source": [
    "#ANSWER CELL: DO NOT RUN THIS CELL. YOUR ANSWER MUST MATCH THIS."
   ]
  },
  {
   "cell_type": "markdown",
   "metadata": {
    "id": "uUGIGqbcThkL"
   },
   "source": [
    "**Q28:** Sort the `Q26` DataFrame in descending order by `salary` and save this as `Q28`."
   ]
  },
  {
   "cell_type": "code",
   "execution_count": 108,
   "metadata": {
    "id": "a5X6FrhuggYt"
   },
   "outputs": [
    {
     "data": {
      "text/html": [
       "<div>\n",
       "<style scoped>\n",
       "    .dataframe tbody tr th:only-of-type {\n",
       "        vertical-align: middle;\n",
       "    }\n",
       "\n",
       "    .dataframe tbody tr th {\n",
       "        vertical-align: top;\n",
       "    }\n",
       "\n",
       "    .dataframe thead th {\n",
       "        text-align: right;\n",
       "    }\n",
       "</style>\n",
       "<table border=\"1\" class=\"dataframe\">\n",
       "  <thead>\n",
       "    <tr style=\"text-align: right;\">\n",
       "      <th></th>\n",
       "      <th>name</th>\n",
       "      <th>age</th>\n",
       "      <th>gender</th>\n",
       "      <th>profession</th>\n",
       "      <th>salary</th>\n",
       "      <th>departments</th>\n",
       "    </tr>\n",
       "  </thead>\n",
       "  <tbody>\n",
       "    <tr>\n",
       "      <th>6</th>\n",
       "      <td>Janelle</td>\n",
       "      <td>52.0</td>\n",
       "      <td>F</td>\n",
       "      <td>CIO</td>\n",
       "      <td>230000.0</td>\n",
       "      <td>Executive</td>\n",
       "    </tr>\n",
       "    <tr>\n",
       "      <th>5</th>\n",
       "      <td>Lukas</td>\n",
       "      <td>54.0</td>\n",
       "      <td>M</td>\n",
       "      <td>ML Engineer</td>\n",
       "      <td>135000.0</td>\n",
       "      <td>IT</td>\n",
       "    </tr>\n",
       "    <tr>\n",
       "      <th>3</th>\n",
       "      <td>Tracy</td>\n",
       "      <td>31.0</td>\n",
       "      <td>F</td>\n",
       "      <td>Data Scientist</td>\n",
       "      <td>110000.0</td>\n",
       "      <td>IT</td>\n",
       "    </tr>\n",
       "    <tr>\n",
       "      <th>0</th>\n",
       "      <td>John</td>\n",
       "      <td>25.0</td>\n",
       "      <td>M</td>\n",
       "      <td>Developer</td>\n",
       "      <td>100000.0</td>\n",
       "      <td>IT</td>\n",
       "    </tr>\n",
       "    <tr>\n",
       "      <th>1</th>\n",
       "      <td>Jane</td>\n",
       "      <td>27.0</td>\n",
       "      <td>F</td>\n",
       "      <td>Analyst</td>\n",
       "      <td>80000.0</td>\n",
       "      <td>IT</td>\n",
       "    </tr>\n",
       "    <tr>\n",
       "      <th>2</th>\n",
       "      <td>Billy</td>\n",
       "      <td>42.0</td>\n",
       "      <td>M</td>\n",
       "      <td>Admin</td>\n",
       "      <td>75000.0</td>\n",
       "      <td>Administration</td>\n",
       "    </tr>\n",
       "    <tr>\n",
       "      <th>4</th>\n",
       "      <td>Emily</td>\n",
       "      <td>22.0</td>\n",
       "      <td>F</td>\n",
       "      <td>Project Manager</td>\n",
       "      <td>75000.0</td>\n",
       "      <td>Communications</td>\n",
       "    </tr>\n",
       "  </tbody>\n",
       "</table>\n",
       "</div>"
      ],
      "text/plain": [
       "      name   age gender       profession    salary     departments\n",
       "6  Janelle  52.0      F              CIO  230000.0       Executive\n",
       "5    Lukas  54.0      M      ML Engineer  135000.0              IT\n",
       "3    Tracy  31.0      F   Data Scientist  110000.0              IT\n",
       "0     John  25.0      M        Developer  100000.0              IT\n",
       "1     Jane  27.0      F          Analyst   80000.0              IT\n",
       "2    Billy  42.0      M            Admin   75000.0  Administration\n",
       "4    Emily  22.0      F  Project Manager   75000.0  Communications"
      ]
     },
     "execution_count": 108,
     "metadata": {},
     "output_type": "execute_result"
    }
   ],
   "source": [
    "# WRITE CODE HERE THAT REPRODUCES THE OUTPUT OF THE CELL BELOW\n",
    "# BE CAREFUL NOT TO RUN THE CELL BELOW, OTHERWISE YOU WON'T BE ABLE TO SEE THE OUTPUT ANY MORE\n",
    "# IF YOU NEED MORE CODE CELLS, YOU CAN ADD MORE BEFORE THE ANSWER CELL\n",
    "\n",
    "Q28 = Q26.sort_values(['salary'], ascending= False)\n",
    "Q28"
   ]
  },
  {
   "cell_type": "code",
   "execution_count": null,
   "metadata": {
    "id": "1-Qyfq_8ThkL",
    "outputId": "63c9b484-c14f-4c45-ac1f-b6d7b937a793"
   },
   "outputs": [
    {
     "data": {
      "text/html": [
       "<div>\n",
       "<style scoped>\n",
       "    .dataframe tbody tr th:only-of-type {\n",
       "        vertical-align: middle;\n",
       "    }\n",
       "\n",
       "    .dataframe tbody tr th {\n",
       "        vertical-align: top;\n",
       "    }\n",
       "\n",
       "    .dataframe thead th {\n",
       "        text-align: right;\n",
       "    }\n",
       "</style>\n",
       "<table border=\"1\" class=\"dataframe\">\n",
       "  <thead>\n",
       "    <tr style=\"text-align: right;\">\n",
       "      <th></th>\n",
       "      <th>name</th>\n",
       "      <th>age</th>\n",
       "      <th>gender</th>\n",
       "      <th>profession</th>\n",
       "      <th>salary</th>\n",
       "      <th>departments</th>\n",
       "    </tr>\n",
       "  </thead>\n",
       "  <tbody>\n",
       "    <tr>\n",
       "      <th>6</th>\n",
       "      <td>Janelle</td>\n",
       "      <td>52.0</td>\n",
       "      <td>F</td>\n",
       "      <td>CIO</td>\n",
       "      <td>230000.0</td>\n",
       "      <td>Executive</td>\n",
       "    </tr>\n",
       "    <tr>\n",
       "      <th>5</th>\n",
       "      <td>Lukas</td>\n",
       "      <td>54.0</td>\n",
       "      <td>M</td>\n",
       "      <td>ML Engineer</td>\n",
       "      <td>135000.0</td>\n",
       "      <td>IT</td>\n",
       "    </tr>\n",
       "    <tr>\n",
       "      <th>3</th>\n",
       "      <td>Tracy</td>\n",
       "      <td>31.0</td>\n",
       "      <td>F</td>\n",
       "      <td>Data Scientist</td>\n",
       "      <td>110000.0</td>\n",
       "      <td>IT</td>\n",
       "    </tr>\n",
       "    <tr>\n",
       "      <th>0</th>\n",
       "      <td>John</td>\n",
       "      <td>25.0</td>\n",
       "      <td>M</td>\n",
       "      <td>Developer</td>\n",
       "      <td>100000.0</td>\n",
       "      <td>IT</td>\n",
       "    </tr>\n",
       "    <tr>\n",
       "      <th>1</th>\n",
       "      <td>Jane</td>\n",
       "      <td>27.0</td>\n",
       "      <td>F</td>\n",
       "      <td>Analyst</td>\n",
       "      <td>80000.0</td>\n",
       "      <td>IT</td>\n",
       "    </tr>\n",
       "    <tr>\n",
       "      <th>2</th>\n",
       "      <td>Billy</td>\n",
       "      <td>42.0</td>\n",
       "      <td>M</td>\n",
       "      <td>Admin</td>\n",
       "      <td>75000.0</td>\n",
       "      <td>Administration</td>\n",
       "    </tr>\n",
       "    <tr>\n",
       "      <th>4</th>\n",
       "      <td>Emily</td>\n",
       "      <td>22.0</td>\n",
       "      <td>F</td>\n",
       "      <td>Project Manager</td>\n",
       "      <td>75000.0</td>\n",
       "      <td>Communications</td>\n",
       "    </tr>\n",
       "  </tbody>\n",
       "</table>\n",
       "</div>"
      ],
      "text/plain": [
       "      name   age gender       profession    salary     departments\n",
       "6  Janelle  52.0      F              CIO  230000.0       Executive\n",
       "5    Lukas  54.0      M      ML Engineer  135000.0              IT\n",
       "3    Tracy  31.0      F   Data Scientist  110000.0              IT\n",
       "0     John  25.0      M        Developer  100000.0              IT\n",
       "1     Jane  27.0      F          Analyst   80000.0              IT\n",
       "2    Billy  42.0      M            Admin   75000.0  Administration\n",
       "4    Emily  22.0      F  Project Manager   75000.0  Communications"
      ]
     },
     "execution_count": 159,
     "metadata": {},
     "output_type": "execute_result"
    }
   ],
   "source": [
    "#ANSWER CELL: DO NOT RUN THIS CELL. YOUR ANSWER MUST MATCH THIS."
   ]
  },
  {
   "cell_type": "markdown",
   "metadata": {
    "id": "8pMJTTSPThkM"
   },
   "source": [
    "**Q29:** Using `value_counts()`, how many employees in the `Q28` DataFrame does each department have?  Save this as `Q29`."
   ]
  },
  {
   "cell_type": "code",
   "execution_count": 110,
   "metadata": {
    "id": "K6x2Op4mgipS"
   },
   "outputs": [
    {
     "data": {
      "text/plain": [
       "departments\n",
       "IT                4\n",
       "Executive         1\n",
       "Administration    1\n",
       "Communications    1\n",
       "Name: count, dtype: int64"
      ]
     },
     "execution_count": 110,
     "metadata": {},
     "output_type": "execute_result"
    }
   ],
   "source": [
    "# WRITE CODE HERE THAT REPRODUCES THE OUTPUT OF THE CELL BELOW\n",
    "# BE CAREFUL NOT TO RUN THE CELL BELOW, OTHERWISE YOU WON'T BE ABLE TO SEE THE OUTPUT ANY MORE\n",
    "# IF YOU NEED MORE CODE CELLS, YOU CAN ADD MORE BEFORE THE ANSWER CELL\n",
    "\n",
    "Q29 = Q28['departments'].value_counts()\n",
    "Q29"
   ]
  },
  {
   "cell_type": "code",
   "execution_count": null,
   "metadata": {
    "id": "PxBFOFEqThkM",
    "outputId": "a722bdca-669d-452f-9c6a-675895964a69"
   },
   "outputs": [
    {
     "data": {
      "text/plain": [
       "IT                4\n",
       "Administration    1\n",
       "Communications    1\n",
       "Executive         1\n",
       "Name: departments, dtype: int64"
      ]
     },
     "execution_count": 160,
     "metadata": {},
     "output_type": "execute_result"
    }
   ],
   "source": [
    "#ANSWER CELL: DO NOT RUN THIS CELL. YOUR ANSWER MUST MATCH THIS."
   ]
  },
  {
   "cell_type": "markdown",
   "metadata": {
    "id": "TCLHkBKsThkN"
   },
   "source": [
    "**Q30:** Make a copy of the `Q28` DataFrame and save it as `Q30`.  Rename the `name` column in `Q30` to `employee_name`.  "
   ]
  },
  {
   "cell_type": "code",
   "execution_count": 114,
   "metadata": {
    "id": "e-P8qZUDgk6r"
   },
   "outputs": [
    {
     "data": {
      "text/html": [
       "<div>\n",
       "<style scoped>\n",
       "    .dataframe tbody tr th:only-of-type {\n",
       "        vertical-align: middle;\n",
       "    }\n",
       "\n",
       "    .dataframe tbody tr th {\n",
       "        vertical-align: top;\n",
       "    }\n",
       "\n",
       "    .dataframe thead th {\n",
       "        text-align: right;\n",
       "    }\n",
       "</style>\n",
       "<table border=\"1\" class=\"dataframe\">\n",
       "  <thead>\n",
       "    <tr style=\"text-align: right;\">\n",
       "      <th></th>\n",
       "      <th>employee_name</th>\n",
       "      <th>age</th>\n",
       "      <th>gender</th>\n",
       "      <th>profession</th>\n",
       "      <th>salary</th>\n",
       "      <th>departments</th>\n",
       "    </tr>\n",
       "  </thead>\n",
       "  <tbody>\n",
       "    <tr>\n",
       "      <th>6</th>\n",
       "      <td>Janelle</td>\n",
       "      <td>52.0</td>\n",
       "      <td>F</td>\n",
       "      <td>CIO</td>\n",
       "      <td>230000.0</td>\n",
       "      <td>Executive</td>\n",
       "    </tr>\n",
       "    <tr>\n",
       "      <th>5</th>\n",
       "      <td>Lukas</td>\n",
       "      <td>54.0</td>\n",
       "      <td>M</td>\n",
       "      <td>ML Engineer</td>\n",
       "      <td>135000.0</td>\n",
       "      <td>IT</td>\n",
       "    </tr>\n",
       "    <tr>\n",
       "      <th>3</th>\n",
       "      <td>Tracy</td>\n",
       "      <td>31.0</td>\n",
       "      <td>F</td>\n",
       "      <td>Data Scientist</td>\n",
       "      <td>110000.0</td>\n",
       "      <td>IT</td>\n",
       "    </tr>\n",
       "    <tr>\n",
       "      <th>0</th>\n",
       "      <td>John</td>\n",
       "      <td>25.0</td>\n",
       "      <td>M</td>\n",
       "      <td>Developer</td>\n",
       "      <td>100000.0</td>\n",
       "      <td>IT</td>\n",
       "    </tr>\n",
       "    <tr>\n",
       "      <th>1</th>\n",
       "      <td>Jane</td>\n",
       "      <td>27.0</td>\n",
       "      <td>F</td>\n",
       "      <td>Analyst</td>\n",
       "      <td>80000.0</td>\n",
       "      <td>IT</td>\n",
       "    </tr>\n",
       "    <tr>\n",
       "      <th>2</th>\n",
       "      <td>Billy</td>\n",
       "      <td>42.0</td>\n",
       "      <td>M</td>\n",
       "      <td>Admin</td>\n",
       "      <td>75000.0</td>\n",
       "      <td>Administration</td>\n",
       "    </tr>\n",
       "    <tr>\n",
       "      <th>4</th>\n",
       "      <td>Emily</td>\n",
       "      <td>22.0</td>\n",
       "      <td>F</td>\n",
       "      <td>Project Manager</td>\n",
       "      <td>75000.0</td>\n",
       "      <td>Communications</td>\n",
       "    </tr>\n",
       "  </tbody>\n",
       "</table>\n",
       "</div>"
      ],
      "text/plain": [
       "  employee_name   age gender       profession    salary     departments\n",
       "6       Janelle  52.0      F              CIO  230000.0       Executive\n",
       "5         Lukas  54.0      M      ML Engineer  135000.0              IT\n",
       "3         Tracy  31.0      F   Data Scientist  110000.0              IT\n",
       "0          John  25.0      M        Developer  100000.0              IT\n",
       "1          Jane  27.0      F          Analyst   80000.0              IT\n",
       "2         Billy  42.0      M            Admin   75000.0  Administration\n",
       "4         Emily  22.0      F  Project Manager   75000.0  Communications"
      ]
     },
     "execution_count": 114,
     "metadata": {},
     "output_type": "execute_result"
    }
   ],
   "source": [
    "# WRITE CODE HERE THAT REPRODUCES THE OUTPUT OF THE CELL BELOW\n",
    "# BE CAREFUL NOT TO RUN THE CELL BELOW, OTHERWISE YOU WON'T BE ABLE TO SEE THE OUTPUT ANY MORE\n",
    "# IF YOU NEED MORE CODE CELLS, YOU CAN ADD MORE BEFORE THE ANSWER CELL\n",
    "\n",
    "Q30 = Q28.copy()\n",
    "Q30.rename(columns={'name': 'employee_name'}, inplace=True)\n",
    "Q30"
   ]
  },
  {
   "cell_type": "code",
   "execution_count": null,
   "metadata": {
    "id": "dQ7aVTJQThkN",
    "outputId": "082332f4-b0e6-4fe2-b030-ffab1c5dd756"
   },
   "outputs": [
    {
     "data": {
      "text/html": [
       "<div>\n",
       "<style scoped>\n",
       "    .dataframe tbody tr th:only-of-type {\n",
       "        vertical-align: middle;\n",
       "    }\n",
       "\n",
       "    .dataframe tbody tr th {\n",
       "        vertical-align: top;\n",
       "    }\n",
       "\n",
       "    .dataframe thead th {\n",
       "        text-align: right;\n",
       "    }\n",
       "</style>\n",
       "<table border=\"1\" class=\"dataframe\">\n",
       "  <thead>\n",
       "    <tr style=\"text-align: right;\">\n",
       "      <th></th>\n",
       "      <th>employee_name</th>\n",
       "      <th>age</th>\n",
       "      <th>gender</th>\n",
       "      <th>profession</th>\n",
       "      <th>salary</th>\n",
       "      <th>departments</th>\n",
       "    </tr>\n",
       "  </thead>\n",
       "  <tbody>\n",
       "    <tr>\n",
       "      <th>6</th>\n",
       "      <td>Janelle</td>\n",
       "      <td>52.0</td>\n",
       "      <td>F</td>\n",
       "      <td>CIO</td>\n",
       "      <td>230000.0</td>\n",
       "      <td>Executive</td>\n",
       "    </tr>\n",
       "    <tr>\n",
       "      <th>5</th>\n",
       "      <td>Lukas</td>\n",
       "      <td>54.0</td>\n",
       "      <td>M</td>\n",
       "      <td>ML Engineer</td>\n",
       "      <td>135000.0</td>\n",
       "      <td>IT</td>\n",
       "    </tr>\n",
       "    <tr>\n",
       "      <th>3</th>\n",
       "      <td>Tracy</td>\n",
       "      <td>31.0</td>\n",
       "      <td>F</td>\n",
       "      <td>Data Scientist</td>\n",
       "      <td>110000.0</td>\n",
       "      <td>IT</td>\n",
       "    </tr>\n",
       "    <tr>\n",
       "      <th>0</th>\n",
       "      <td>John</td>\n",
       "      <td>25.0</td>\n",
       "      <td>M</td>\n",
       "      <td>Developer</td>\n",
       "      <td>100000.0</td>\n",
       "      <td>IT</td>\n",
       "    </tr>\n",
       "    <tr>\n",
       "      <th>1</th>\n",
       "      <td>Jane</td>\n",
       "      <td>27.0</td>\n",
       "      <td>F</td>\n",
       "      <td>Analyst</td>\n",
       "      <td>80000.0</td>\n",
       "      <td>IT</td>\n",
       "    </tr>\n",
       "    <tr>\n",
       "      <th>2</th>\n",
       "      <td>Billy</td>\n",
       "      <td>42.0</td>\n",
       "      <td>M</td>\n",
       "      <td>Admin</td>\n",
       "      <td>75000.0</td>\n",
       "      <td>Administration</td>\n",
       "    </tr>\n",
       "    <tr>\n",
       "      <th>4</th>\n",
       "      <td>Emily</td>\n",
       "      <td>22.0</td>\n",
       "      <td>F</td>\n",
       "      <td>Project Manager</td>\n",
       "      <td>75000.0</td>\n",
       "      <td>Communications</td>\n",
       "    </tr>\n",
       "  </tbody>\n",
       "</table>\n",
       "</div>"
      ],
      "text/plain": [
       "  employee_name   age gender       profession    salary     departments\n",
       "6       Janelle  52.0      F              CIO  230000.0       Executive\n",
       "5         Lukas  54.0      M      ML Engineer  135000.0              IT\n",
       "3         Tracy  31.0      F   Data Scientist  110000.0              IT\n",
       "0          John  25.0      M        Developer  100000.0              IT\n",
       "1          Jane  27.0      F          Analyst   80000.0              IT\n",
       "2         Billy  42.0      M            Admin   75000.0  Administration\n",
       "4         Emily  22.0      F  Project Manager   75000.0  Communications"
      ]
     },
     "execution_count": 172,
     "metadata": {},
     "output_type": "execute_result"
    }
   ],
   "source": [
    "#ANSWER CELL: DO NOT RUN THIS CELL. YOUR ANSWER MUST MATCH THIS."
   ]
  },
  {
   "cell_type": "markdown",
   "metadata": {
    "id": "r77zj42GThkO"
   },
   "source": [
    "Good work!"
   ]
  }
 ],
 "metadata": {
  "colab": {
   "provenance": []
  },
  "kernelspec": {
   "display_name": "Python 3 (ipykernel)",
   "language": "python",
   "name": "python3"
  },
  "language_info": {
   "codemirror_mode": {
    "name": "ipython",
    "version": 3
   },
   "file_extension": ".py",
   "mimetype": "text/x-python",
   "name": "python",
   "nbconvert_exporter": "python",
   "pygments_lexer": "ipython3",
   "version": "3.12.7"
  }
 },
 "nbformat": 4,
 "nbformat_minor": 4
}
