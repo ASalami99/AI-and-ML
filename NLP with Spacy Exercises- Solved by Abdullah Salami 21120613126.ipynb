{
 "cells": [
  {
   "cell_type": "markdown",
   "metadata": {
    "id": "P9vtSd2WpDZ7"
   },
   "source": [
    "### NLP with spaCy Exercies\n",
    "\n",
    "Try your hands on these exercises to test your knowledge on the following concepts:\n",
    "\n",
    "  1. Sentence Boundary Detection\n",
    "  2. Tokenization\n",
    "  3. Lemmatization\n",
    "  4. Part of speech tagging\n",
    "  5. Named Entity Recognition\n",
    "  6. Sentence Similarity\n"
   ]
  },
  {
   "cell_type": "markdown",
   "metadata": {
    "id": "tpkrsVPzI5aI"
   },
   "source": [
    "If your don't have spaCy installed, uncomment and run the cell below. If you have spaCy already installed, skip running the cell below."
   ]
  },
  {
   "cell_type": "code",
   "execution_count": 1,
   "metadata": {
    "id": "B2bpG2_oIiGn"
   },
   "outputs": [],
   "source": [
    "# !pip install spacy"
   ]
  },
  {
   "cell_type": "markdown",
   "metadata": {
    "id": "-ibSQUtoJMKB"
   },
   "source": [
    "If your don't have spaCy english pipeline installed, uncomment and run the cell below. If already installed, skip running the cell below."
   ]
  },
  {
   "cell_type": "code",
   "execution_count": 2,
   "metadata": {
    "id": "UX1rEC-lIifV"
   },
   "outputs": [],
   "source": [
    "# !python -m spacy download en_core_web_sm"
   ]
  },
  {
   "cell_type": "markdown",
   "metadata": {
    "id": "G0uNX_Kcunwl"
   },
   "source": [
    "#### Import **spacy** and create the english nlp object"
   ]
  },
  {
   "cell_type": "code",
   "execution_count": 1,
   "metadata": {
    "id": "n2W92EfHu2FY"
   },
   "outputs": [],
   "source": [
    "#RUN THIS CELL\n",
    "import spacy\n",
    "#create an NLP object\n",
    "nlp = spacy.load(\"en_core_web_sm\")"
   ]
  },
  {
   "cell_type": "code",
   "execution_count": 2,
   "metadata": {
    "id": "pWyioanTIPcd"
   },
   "outputs": [],
   "source": [
    "#RUN THIS CELL\n",
    "# Load the modified text extracted from the book https://greenteapress.com/thinkstats2/thinkstats2.pdf\n",
    "booktext='''Look for data to help you address the question. Governments are good sources because data from public research is often freely available, you can send an email to getdata@data.gov or info@databank.org for more datasets.\n",
    "\n",
    "Good places to start include http://www.data.gov/, and http://www.science.gov/, and http://data.gov.uk/ in the United Kingdom.\n",
    "\n",
    "Two of my favorite datasets are the General Social Survey at http://www3.norc.org/gss+website/, and the European Social Survey at http://www.europeansocialsurvey.org/.\n",
    "\n",
    "'''"
   ]
  },
  {
   "cell_type": "markdown",
   "metadata": {
    "id": "yQtZnTC2xk1j"
   },
   "source": [
    "### Create a Document Object"
   ]
  },
  {
   "cell_type": "markdown",
   "metadata": {
    "id": "Oe8QsPq0J2J5"
   },
   "source": [
    "Q1: Create a document contatiner with the text above"
   ]
  },
  {
   "cell_type": "code",
   "execution_count": 3,
   "metadata": {
    "id": "J00chZnzJu9j"
   },
   "outputs": [
    {
     "name": "stdout",
     "output_type": "stream",
     "text": [
      "Look for data to help you address the question. Governments are good sources because data from public research is often freely available, you can send an email to getdata@data.gov or info@databank.org for more datasets.\n",
      "\n",
      "Good places to start include http://www.data.gov/, and http://www.science.gov/, and http://data.gov.uk/ in the United Kingdom.\n",
      "\n",
      "Two of my favorite datasets are the General Social Survey at http://www3.norc.org/gss+website/, and the European Social Survey at http://www.europeansocialsurvey.org/.\n",
      "\n",
      "\n"
     ]
    }
   ],
   "source": [
    "# WRITE CODE HERE THAT REPRODUCES THE OUTPUT OF THE CELL BELOW\n",
    "# BE CAREFUL NOT TO RUN THE CELL BELOW, OTHERWISE YOU WON'T BE ABLE TO SEE THE OUTPUT ANY MORE\n",
    "# IF YOU NEED MORE CODE CELLS, YOU CAN ADD MORE BEFORE THE ANSWER CELL\n",
    "\n",
    "doc = nlp(booktext)\n",
    "print(doc)"
   ]
  },
  {
   "cell_type": "code",
   "execution_count": 5,
   "metadata": {
    "colab": {
     "base_uri": "https://localhost:8080/"
    },
    "id": "5hx8rHDFjaJW",
    "outputId": "91bfae9c-c853-44f3-d8a9-a0fd5007ec97"
   },
   "outputs": [
    {
     "data": {
      "text/plain": [
       "Look for data to help you address the question. Governments are good sources because data from public research is often freely available, you can send an email to getdata@data.gov or info@databank.org for more datasets.\n",
       "\n",
       "Good places to start include http://www.data.gov/, and http://www.science.gov/, and http://data.gov.uk/ in the United Kingdom.\n",
       "\n",
       "Two of my favorite datasets are the General Social Survey at http://www3.norc.org/gss+website/, and the European Social Survey at http://www.europeansocialsurvey.org/.\n"
      ]
     },
     "execution_count": 5,
     "metadata": {},
     "output_type": "execute_result"
    }
   ],
   "source": [
    "#ANSWER CELL: DO NOT RUN THIS CELL. YOUR ANSWER MUST MATCH THIS."
   ]
  },
  {
   "cell_type": "markdown",
   "metadata": {
    "id": "7ilhEi5YOYdE"
   },
   "source": [
    "Q2: What is the length of the original text?"
   ]
  },
  {
   "cell_type": "code",
   "execution_count": 4,
   "metadata": {
    "id": "9T7ShWCXOo34"
   },
   "outputs": [
    {
     "data": {
      "text/plain": [
       "518"
      ]
     },
     "execution_count": 4,
     "metadata": {},
     "output_type": "execute_result"
    }
   ],
   "source": [
    "# WRITE CODE HERE THAT REPRODUCES THE OUTPUT OF THE CELL BELOW\n",
    "# BE CAREFUL NOT TO RUN THE CELL BELOW, OTHERWISE YOU WON'T BE ABLE TO SEE THE OUTPUT ANY MORE\n",
    "# IF YOU NEED MORE CODE CELLS, YOU CAN ADD MORE BEFORE OUTPUT CELL\n",
    "\n",
    "len(booktext)"
   ]
  },
  {
   "cell_type": "code",
   "execution_count": 6,
   "metadata": {
    "colab": {
     "base_uri": "https://localhost:8080/"
    },
    "id": "B76BS5_VZt2R",
    "outputId": "1d9268b3-9eb3-48b1-f3b2-07456d68d75c"
   },
   "outputs": [
    {
     "name": "stdout",
     "output_type": "stream",
     "text": [
      "518\n"
     ]
    }
   ],
   "source": [
    "#ANSWER CELL: DO NOT RUN THIS CELL. YOUR ANSWER MUST MATCH THIS."
   ]
  },
  {
   "cell_type": "markdown",
   "metadata": {
    "id": "tunakSeEPQJ4"
   },
   "source": [
    "Q3: What is the length of the text saved in the document container?"
   ]
  },
  {
   "cell_type": "code",
   "execution_count": 5,
   "metadata": {
    "id": "l7d-R9rqPhJt"
   },
   "outputs": [
    {
     "data": {
      "text/plain": [
       "77"
      ]
     },
     "execution_count": 5,
     "metadata": {},
     "output_type": "execute_result"
    }
   ],
   "source": [
    "# WRITE CODE HERE THAT REPRODUCES THE OUTPUT OF THE CELL BELOW\n",
    "# BE CAREFUL NOT TO RUN THE CELL BELOW, OTHERWISE YOU WON'T BE ABLE TO SEE THE OUTPUT ANY MORE\n",
    "# IF YOU NEED MORE CODE CELLS, YOU CAN ADD MORE BEFORE OUTPUT CELL\n",
    "\n",
    "len(doc)"
   ]
  },
  {
   "cell_type": "code",
   "execution_count": 8,
   "metadata": {
    "colab": {
     "base_uri": "https://localhost:8080/"
    },
    "id": "LDYiDkEmZ5X_",
    "outputId": "25eecf0e-655e-44b1-b9fd-80923a768658"
   },
   "outputs": [
    {
     "name": "stdout",
     "output_type": "stream",
     "text": [
      "77\n"
     ]
    }
   ],
   "source": [
    "#ANSWER CELL: DO NOT RUN THIS CELL. YOUR ANSWER MUST MATCH THIS."
   ]
  },
  {
   "cell_type": "markdown",
   "metadata": {
    "id": "mAl2wI78QDsJ"
   },
   "source": [
    "### Sentence Boundary Detection"
   ]
  },
  {
   "cell_type": "markdown",
   "metadata": {
    "id": "GU_1cT3UPppB"
   },
   "source": [
    "Q4: How many sentences are in the document? Print each sentences as shown in the answer output below and print the total number of sentences."
   ]
  },
  {
   "cell_type": "code",
   "execution_count": 12,
   "metadata": {},
   "outputs": [
    {
     "name": "stdout",
     "output_type": "stream",
     "text": [
      "sent  1 = Look for data to help you address the question.\n",
      "sent  2 = Governments are good sources because data from public research is often freely available, you can send an email to getdata@data.gov or info@databank.org for more datasets.\n",
      "\n",
      "\n",
      "sent  3 = Good places to start include http://www.data.gov/, and http://www.science.gov/, and http://data.gov.uk/ in the United Kingdom.\n",
      "\n",
      "\n",
      "sent  4 = Two of my favorite datasets are the General Social Survey at http://www3.norc.org/gss+website/, and the European Social Survey at http://www.europeansocialsurvey.org/.\n",
      "\n",
      "\n",
      "There are 4 sentences.\n"
     ]
    }
   ],
   "source": [
    "counter= 0\n",
    "for sent in doc.sents:\n",
    "    counter= counter+1\n",
    "    print(\"sent \", counter, \"=\", sent)\n",
    "print(\"There are\", counter, \"sentences.\")"
   ]
  },
  {
   "cell_type": "code",
   "execution_count": 10,
   "metadata": {
    "colab": {
     "base_uri": "https://localhost:8080/"
    },
    "id": "48cDjjc8rbMd",
    "outputId": "4c92111c-f3e1-4a6d-ada3-f790e7d706a2"
   },
   "outputs": [
    {
     "name": "stdout",
     "output_type": "stream",
     "text": [
      "sent 1 = Look for data to help you address the question.\n",
      "sent 2 = Governments are good sources because data from public research is often freely available, you can send an email to getdata@data.gov or info@databank.org for more datasets.\n",
      "\n",
      "\n",
      "sent 3 = Good places to start include http://www.data.gov/, and http://www.science.gov/, and http://data.gov.uk/ in the United Kingdom.\n",
      "\n",
      "\n",
      "sent 4 = Two of my favorite datasets are the General Social Survey at http://www3.norc.org/gss+website/, and the European Social Survey at http://www.europeansocialsurvey.org/.\n",
      "\n",
      "\n",
      "There are 4 sentences.\n"
     ]
    }
   ],
   "source": [
    "#ANSWER CELL: DO NOT RUN THIS CELL. YOUR ANSWER MUST MATCH THIS."
   ]
  },
  {
   "cell_type": "markdown",
   "metadata": {
    "id": "dbX03y2ZQrgL"
   },
   "source": [
    "Q5: Print out the second sentence"
   ]
  },
  {
   "cell_type": "code",
   "execution_count": 14,
   "metadata": {
    "id": "FuStRJ54Kge5"
   },
   "outputs": [
    {
     "name": "stdout",
     "output_type": "stream",
     "text": [
      "Governments are good sources because data from public research is often freely available, you can send an email to getdata@data.gov or info@databank.org for more datasets.\n",
      "\n",
      "\n"
     ]
    }
   ],
   "source": [
    "# WRITE CODE HERE THAT REPRODUCES THE OUTPUT OF THE CELL BELOW\n",
    "# BE CAREFUL NOT TO RUN THE CELL BELOW, OTHERWISE YOU WON'T BE ABLE TO SEE THE OUTPUT ANY MORE\n",
    "# IF YOU NEED MORE CODE CELLS, YOU CAN ADD MORE BEFORE OUTPUT CELL\n",
    "\n",
    "sentence2 = list(doc.sents)[1]\n",
    "print(sentence2)"
   ]
  },
  {
   "cell_type": "code",
   "execution_count": 12,
   "metadata": {
    "colab": {
     "base_uri": "https://localhost:8080/"
    },
    "id": "-C3l-hf-aNO6",
    "outputId": "fd841f52-da87-4f64-965b-02f66cebb73e"
   },
   "outputs": [
    {
     "name": "stdout",
     "output_type": "stream",
     "text": [
      "Governments are good sources because data from public research is often freely available, you can send an email to getdata@data.gov or info@databank.org for more datasets.\n",
      "\n",
      "\n"
     ]
    }
   ],
   "source": [
    "#ANSWER CELL: DO NOT RUN THIS CELL. YOUR ANSWER MUST MATCH THIS."
   ]
  },
  {
   "cell_type": "markdown",
   "metadata": {
    "id": "mv6hpE_AvAIt"
   },
   "source": [
    "### Tokenization\n",
    "\n",
    "\n"
   ]
  },
  {
   "cell_type": "markdown",
   "metadata": {
    "id": "ay6fM13txUTQ"
   },
   "source": [
    "Q6: Print the eight token in the fourth sentence in the document"
   ]
  },
  {
   "cell_type": "code",
   "execution_count": 15,
   "metadata": {
    "id": "YnHMVOVqvgxD"
   },
   "outputs": [
    {
     "data": {
      "text/plain": [
       "General"
      ]
     },
     "execution_count": 15,
     "metadata": {},
     "output_type": "execute_result"
    }
   ],
   "source": [
    "# WRITE CODE HERE THAT REPRODUCES THE OUTPUT OF THE CELL BELOW\n",
    "# BE CAREFUL NOT TO RUN THE CELL BELOW, OTHERWISE YOU WON'T BE ABLE TO SEE THE OUTPUT ANY MORE\n",
    "# IF YOU NEED MORE CODE CELLS, YOU CAN ADD MORE BEFORE OUTPUT CELL\n",
    "\n",
    "sentence4 = list(doc.sents)[3]\n",
    "sentence4[7]"
   ]
  },
  {
   "cell_type": "code",
   "execution_count": 13,
   "metadata": {
    "colab": {
     "base_uri": "https://localhost:8080/"
    },
    "id": "9fqt8v3pajTK",
    "outputId": "e0416b0b-96b0-4c6b-d362-30b8c51e8484"
   },
   "outputs": [
    {
     "name": "stdout",
     "output_type": "stream",
     "text": [
      "General\n"
     ]
    }
   ],
   "source": [
    "#ANSWER CELL: DO NOT RUN THIS CELL. YOUR ANSWER MUST MATCH THIS."
   ]
  },
  {
   "cell_type": "markdown",
   "metadata": {
    "id": "AZ9UwWwr1NdE"
   },
   "source": [
    "Q7: Print the eight token in the third sentence in the document"
   ]
  },
  {
   "cell_type": "code",
   "execution_count": 16,
   "metadata": {
    "id": "eFOAVIId1N0H"
   },
   "outputs": [
    {
     "data": {
      "text/plain": [
       "and"
      ]
     },
     "execution_count": 16,
     "metadata": {},
     "output_type": "execute_result"
    }
   ],
   "source": [
    "# WRITE CODE HERE THAT REPRODUCES THE OUTPUT OF THE CELL BELOW\n",
    "# BE CAREFUL NOT TO RUN THE CELL BELOW, OTHERWISE YOU WON'T BE ABLE TO SEE THE OUTPUT ANY MORE\n",
    "# IF YOU NEED MORE CODE CELLS, YOU CAN ADD MORE BEFORE OUTPUT CELL\n",
    "\n",
    "sentence3 = list(doc.sents)[2]\n",
    "sentence3[7]"
   ]
  },
  {
   "cell_type": "code",
   "execution_count": 15,
   "metadata": {
    "colab": {
     "base_uri": "https://localhost:8080/"
    },
    "id": "VBT-FGe7bXQl",
    "outputId": "cdd8df7a-ee3a-4b12-ee19-6a13d6a67a6d"
   },
   "outputs": [
    {
     "name": "stdout",
     "output_type": "stream",
     "text": [
      "and\n"
     ]
    }
   ],
   "source": [
    "#ANSWER CELL: DO NOT RUN THIS CELL. YOUR ANSWER MUST MATCH THIS."
   ]
  },
  {
   "cell_type": "markdown",
   "metadata": {
    "id": "tXZrvazM1OC6"
   },
   "source": [
    "Q8: Print the tenth token in the second sentence in the document"
   ]
  },
  {
   "cell_type": "code",
   "execution_count": 17,
   "metadata": {
    "id": "Bv6PdtAS1OU6"
   },
   "outputs": [
    {
     "data": {
      "text/plain": [
       "is"
      ]
     },
     "execution_count": 17,
     "metadata": {},
     "output_type": "execute_result"
    }
   ],
   "source": [
    "# WRITE CODE HERE THAT REPRODUCES THE OUTPUT OF THE CELL BELOW\n",
    "# BE CAREFUL NOT TO RUN THE CELL BELOW, OTHERWISE YOU WON'T BE ABLE TO SEE THE OUTPUT ANY MORE\n",
    "# IF YOU NEED MORE CODE CELLS, YOU CAN ADD MORE BEFORE OUTPUT CELL\n",
    "\n",
    "sentence2 = list(doc.sents)[1]\n",
    "sentence2[9]"
   ]
  },
  {
   "cell_type": "code",
   "execution_count": 18,
   "metadata": {
    "colab": {
     "base_uri": "https://localhost:8080/"
    },
    "id": "em4RXyNHbyAK",
    "outputId": "98c51302-45c2-4e6f-ba97-f99670c12a72"
   },
   "outputs": [
    {
     "name": "stdout",
     "output_type": "stream",
     "text": [
      "is\n"
     ]
    }
   ],
   "source": [
    "#ANSWER CELL: DO NOT RUN THIS CELL. YOUR ANSWER MUST MATCH THIS."
   ]
  },
  {
   "cell_type": "markdown",
   "metadata": {
    "id": "VQI2pkYm2TmP"
   },
   "source": [
    "### Lemmatization"
   ]
  },
  {
   "cell_type": "markdown",
   "metadata": {
    "id": "umehEQTFw2Jl"
   },
   "source": [
    "Q9: What is the lemmatized word of the fifth token in sentence 4"
   ]
  },
  {
   "cell_type": "code",
   "execution_count": 18,
   "metadata": {
    "id": "ocJeikUQcA8k"
   },
   "outputs": [
    {
     "data": {
      "text/plain": [
       "'dataset'"
      ]
     },
     "execution_count": 18,
     "metadata": {},
     "output_type": "execute_result"
    }
   ],
   "source": [
    "# WRITE CODE HERE THAT REPRODUCES THE OUTPUT OF THE CELL BELOW\n",
    "# BE CAREFUL NOT TO RUN THE CELL BELOW, OTHERWISE YOU WON'T BE ABLE TO SEE THE OUTPUT ANY MORE\n",
    "# IF YOU NEED MORE CODE CELLS, YOU CAN ADD MORE BEFORE OUTPUT CELL\n",
    "sentence4[4].lemma_"
   ]
  },
  {
   "cell_type": "code",
   "execution_count": 20,
   "metadata": {
    "colab": {
     "base_uri": "https://localhost:8080/",
     "height": 35
    },
    "id": "hcsWFfDocAC-",
    "outputId": "26b55edd-59ab-42ec-9083-2cb4b01bf974"
   },
   "outputs": [
    {
     "data": {
      "application/vnd.google.colaboratory.intrinsic+json": {
       "type": "string"
      },
      "text/plain": [
       "'dataset'"
      ]
     },
     "execution_count": 20,
     "metadata": {},
     "output_type": "execute_result"
    }
   ],
   "source": [
    "#ANSWER CELL: DO NOT RUN THIS CELL. YOUR ANSWER MUST MATCH THIS."
   ]
  },
  {
   "cell_type": "markdown",
   "metadata": {
    "id": "HgYfrEUe2i1J"
   },
   "source": [
    "Q10: What is the lemmatized word of the 12th token in sentence 4\n"
   ]
  },
  {
   "cell_type": "code",
   "execution_count": 19,
   "metadata": {
    "id": "Sv-eMqZjcX3B"
   },
   "outputs": [
    {
     "data": {
      "text/plain": [
       "'http://www3.norc.org/gss+website/'"
      ]
     },
     "execution_count": 19,
     "metadata": {},
     "output_type": "execute_result"
    }
   ],
   "source": [
    "# WRITE CODE HERE THAT REPRODUCES THE OUTPUT OF THE CELL BELOW\n",
    "# BE CAREFUL NOT TO RUN THE CELL BELOW, OTHERWISE YOU WON'T BE ABLE TO SEE THE OUTPUT ANY MORE\n",
    "# IF YOU NEED MORE CODE CELLS, YOU CAN ADD MORE BEFORE OUTPUT CELL\n",
    "sentence4[11].lemma_"
   ]
  },
  {
   "cell_type": "code",
   "execution_count": 21,
   "metadata": {
    "colab": {
     "base_uri": "https://localhost:8080/",
     "height": 35
    },
    "id": "2fzDgJOr25JX",
    "outputId": "a42ddfc6-35df-4b6b-c042-8420a63596a5"
   },
   "outputs": [
    {
     "data": {
      "application/vnd.google.colaboratory.intrinsic+json": {
       "type": "string"
      },
      "text/plain": [
       "'http://www3.norc.org/gss+website/'"
      ]
     },
     "execution_count": 21,
     "metadata": {},
     "output_type": "execute_result"
    }
   ],
   "source": [
    "#ANSWER CELL: DO NOT RUN THIS CELL. YOUR ANSWER MUST MATCH THIS."
   ]
  },
  {
   "cell_type": "markdown",
   "metadata": {
    "id": "nRUZpFhI7PRX"
   },
   "source": [
    "Q11: What do you notice about the output of question 10?\n"
   ]
  },
  {
   "cell_type": "markdown",
   "metadata": {
    "id": "hFDbhM4jcqDg"
   },
   "source": [
    "**I noticed that it returned the link as the lemmatized version meaning that perhaps, links are considered as single tokens instead of multiple tokens even though there are obviously multiple words (tokens).**\n",
    "\n"
   ]
  },
  {
   "cell_type": "code",
   "execution_count": null,
   "metadata": {
    "id": "afmOvx1x7c9y"
   },
   "outputs": [],
   "source": []
  },
  {
   "cell_type": "markdown",
   "metadata": {
    "id": "3ZuK4s_972zb"
   },
   "source": [
    "Q12: From the document object, use token attribute token.like_url to extract all the URLs in the document"
   ]
  },
  {
   "cell_type": "code",
   "execution_count": 36,
   "metadata": {
    "id": "mXh4hf2-c6_N"
   },
   "outputs": [
    {
     "name": "stdout",
     "output_type": "stream",
     "text": [
      "['http://www.data.gov/']\n",
      "['http://www.science.gov/']\n",
      "['http://data.gov.uk/']\n",
      "['http://www3.norc.org/gss+website/']\n",
      "['http://www.europeansocialsurvey.org/.']\n"
     ]
    }
   ],
   "source": [
    "# WRITE CODE HERE THAT REPRODUCES THE OUTPUT OF THE CELL BELOW\n",
    "# BE CAREFUL NOT TO RUN THE CELL BELOW, OTHERWISE YOU WON'T BE ABLE TO SEE THE OUTPUT ANY MORE\n",
    "# IF YOU NEED MORE CODE CELLS, YOU CAN ADD MORE BEFORE OUTPUT CELL\n",
    "\n",
    "\n",
    "for token in doc:\n",
    "    if token.like_url:\n",
    "        print([token.text])"
   ]
  },
  {
   "cell_type": "code",
   "execution_count": 22,
   "metadata": {
    "colab": {
     "base_uri": "https://localhost:8080/"
    },
    "id": "xrxlBnof9SId",
    "outputId": "48e4704f-ce35-43e7-d5d4-2300af43e8e1"
   },
   "outputs": [
    {
     "data": {
      "text/plain": [
       "['http://www.data.gov/',\n",
       " 'http://www.science.gov/',\n",
       " 'http://data.gov.uk/',\n",
       " 'http://www3.norc.org/gss+website/',\n",
       " 'http://www.europeansocialsurvey.org/.']"
      ]
     },
     "execution_count": 22,
     "metadata": {},
     "output_type": "execute_result"
    }
   ],
   "source": [
    "#ANSWER CELL: DO NOT RUN THIS CELL. YOUR ANSWER MUST MATCH THIS."
   ]
  },
  {
   "cell_type": "markdown",
   "metadata": {
    "id": "ikpesj9w7g7g"
   },
   "source": [
    "Q13: From the document object, use token attribute token.like_email to extract all the emails in the document"
   ]
  },
  {
   "cell_type": "code",
   "execution_count": 37,
   "metadata": {
    "id": "giqSUKPmdHBv"
   },
   "outputs": [
    {
     "name": "stdout",
     "output_type": "stream",
     "text": [
      "['getdata@data.gov']\n",
      "['info@databank.org']\n"
     ]
    }
   ],
   "source": [
    "# WRITE CODE HERE THAT REPRODUCES THE OUTPUT OF THE CELL BELOW\n",
    "# BE CAREFUL NOT TO RUN THE CELL BELOW, OTHERWISE YOU WON'T BE ABLE TO SEE THE OUTPUT ANY MORE\n",
    "# IF YOU NEED MORE CODE CELLS, YOU CAN ADD MORE BEFORE OUTPUT CELL\n",
    "\n",
    "for token in doc:\n",
    "    if token.like_email:\n",
    "        print([token.text])"
   ]
  },
  {
   "cell_type": "code",
   "execution_count": 23,
   "metadata": {
    "colab": {
     "base_uri": "https://localhost:8080/"
    },
    "id": "WCKtgcLDIYsR",
    "outputId": "67a8b2d7-9966-4401-9d3f-2e07e4ee4841"
   },
   "outputs": [
    {
     "data": {
      "text/plain": [
       "['getdata@data.gov', 'info@databank.org']"
      ]
     },
     "execution_count": 23,
     "metadata": {},
     "output_type": "execute_result"
    }
   ],
   "source": [
    "#ANSWER CELL: DO NOT RUN THIS CELL. YOUR ANSWER MUST MATCH THIS."
   ]
  },
  {
   "cell_type": "markdown",
   "metadata": {
    "id": "Guba0cLipBeG"
   },
   "source": [
    "### Part of Speech"
   ]
  },
  {
   "cell_type": "markdown",
   "metadata": {
    "id": "aGrf0ZDO-e90"
   },
   "source": [
    "Q14: Loop through the tokens of the doc object for sentence 4, and print their part of speech, sentence role and language:"
   ]
  },
  {
   "cell_type": "code",
   "execution_count": 38,
   "metadata": {
    "id": "3qlaNCTrdavV"
   },
   "outputs": [
    {
     "name": "stdout",
     "output_type": "stream",
     "text": [
      "Two NUM nsubj en\n",
      "of ADP prep en\n",
      "my PRON poss en\n",
      "favorite ADJ amod en\n",
      "datasets NOUN pobj en\n",
      "are AUX ROOT en\n",
      "the DET det en\n",
      "General PROPN compound en\n",
      "Social PROPN compound en\n",
      "Survey PROPN attr en\n",
      "at ADP prep en\n",
      "http://www3.norc.org/gss+website/ PROPN pobj en\n",
      ", PUNCT punct en\n",
      "and CCONJ cc en\n",
      "the DET det en\n",
      "European PROPN compound en\n",
      "Social PROPN compound en\n",
      "Survey PROPN conj en\n",
      "at ADP prep en\n",
      "http://www.europeansocialsurvey.org/. NOUN pobj en\n",
      "\n",
      "\n",
      " SPACE dep en\n"
     ]
    }
   ],
   "source": [
    "# WRITE CODE HERE THAT REPRODUCES THE OUTPUT OF THE CELL BELOW\n",
    "# BE CAREFUL NOT TO RUN THE CELL BELOW, OTHERWISE YOU WON'T BE ABLE TO SEE THE OUTPUT ANY MORE\n",
    "# IF YOU NEED MORE CODE CELLS, YOU CAN ADD MORE BEFORE OUTPUT CELL\n",
    "\n",
    "for token in sentence4:\n",
    "  print(token.text, token.pos_, token.dep_, token.lang_)"
   ]
  },
  {
   "cell_type": "code",
   "execution_count": 24,
   "metadata": {
    "colab": {
     "base_uri": "https://localhost:8080/"
    },
    "id": "rgvjSMM2_LW_",
    "outputId": "730e245f-69c9-4713-a083-4dc75831dc88"
   },
   "outputs": [
    {
     "name": "stdout",
     "output_type": "stream",
     "text": [
      "Two NUM nsubj en\n",
      "of ADP prep en\n",
      "my PRON poss en\n",
      "favorite ADJ amod en\n",
      "datasets NOUN pobj en\n",
      "are AUX ROOT en\n",
      "the DET det en\n",
      "General PROPN compound en\n",
      "Social PROPN compound en\n",
      "Survey PROPN attr en\n",
      "at ADP prep en\n",
      "http://www3.norc.org/gss+website/ PROPN pobj en\n",
      ", PUNCT punct en\n",
      "and CCONJ cc en\n",
      "the DET det en\n",
      "European PROPN compound en\n",
      "Social PROPN compound en\n",
      "Survey PROPN conj en\n",
      "at ADP prep en\n",
      "http://www.europeansocialsurvey.org/. NOUN pobj en\n",
      "\n",
      "\n",
      " SPACE dep en\n"
     ]
    }
   ],
   "source": [
    "#ANSWER CELL: DO NOT RUN THIS CELL. YOUR ANSWER MUST MATCH THIS."
   ]
  },
  {
   "cell_type": "markdown",
   "metadata": {
    "id": "b2n805ZG_zgg"
   },
   "source": [
    "Q15: Extract and output the first 10 tokens in Sentence 4, and visualize the infomation based on the sentence dependency using displacy.render  "
   ]
  },
  {
   "cell_type": "code",
   "execution_count": 41,
   "metadata": {
    "id": "LYzQRi1RdtSa"
   },
   "outputs": [],
   "source": [
    "# WRITE CODE HERE THAT REPRODUCES THE OUTPUT OF THE CELL BELOW\n",
    "# BE CAREFUL NOT TO RUN THE CELL BELOW, OTHERWISE YOU WON'T BE ABLE TO SEE THE OUTPUT ANY MORE\n",
    "# IF YOU NEED MORE CODE CELLS, YOU CAN ADD MORE BEFORE OUTPUT CELL"
   ]
  },
  {
   "cell_type": "code",
   "execution_count": 42,
   "metadata": {
    "id": "mdox_9Nld4Dp"
   },
   "outputs": [
    {
     "data": {
      "text/plain": [
       "Two of my favorite datasets are the General Social Survey"
      ]
     },
     "execution_count": 42,
     "metadata": {},
     "output_type": "execute_result"
    }
   ],
   "source": [
    "sentence4[:10]"
   ]
  },
  {
   "cell_type": "code",
   "execution_count": 61,
   "metadata": {
    "id": "l1QREvbHd4sN"
   },
   "outputs": [
    {
     "name": "stdout",
     "output_type": "stream",
     "text": [
      "Two NUM of ADP my PRON favorite ADJ datasets NOUN are AUX the DET General PROPN Social PROPN Survey PROPN nsubj prep poss amod pobj ROOT det compound compound attr\n"
     ]
    }
   ],
   "source": [
    "# for token in sentence4[:10]:\n",
    "#     print(token.text, token.pos_)\n",
    "\n",
    "textandpos = \" \".join(f\"{token.text} {token.pos_}\" for token in sentence4[:10])\n",
    "deps = \" \".join(token.dep_ for token in sentence4[:10])\n",
    "print(textandpos, deps)"
   ]
  },
  {
   "cell_type": "code",
   "execution_count": 25,
   "metadata": {
    "colab": {
     "base_uri": "https://localhost:8080/"
    },
    "id": "gjTx_N_0_X6y",
    "outputId": "1a299474-5826-40c4-f4b3-0d804511a65d"
   },
   "outputs": [
    {
     "data": {
      "text/plain": [
       "Two of my favorite datasets are the General Social Survey"
      ]
     },
     "execution_count": 25,
     "metadata": {},
     "output_type": "execute_result"
    }
   ],
   "source": [
    "#ANSWER CELL: DO NOT RUN THIS CELL. YOUR ANSWER MUST MATCH THIS."
   ]
  },
  {
   "cell_type": "code",
   "execution_count": 26,
   "metadata": {
    "colab": {
     "base_uri": "https://localhost:8080/",
     "height": 528
    },
    "id": "V04HVdeXApXA",
    "outputId": "e33dd68b-60aa-4ab0-cdd1-8018d6d12673"
   },
   "outputs": [
    {
     "data": {
      "text/html": [
       "<span class=\"tex2jax_ignore\"><svg xmlns=\"http://www.w3.org/2000/svg\" xmlns:xlink=\"http://www.w3.org/1999/xlink\" xml:lang=\"en\" id=\"cb1b7965c466413d83c071f2179e26ea-0\" class=\"displacy\" width=\"1800\" height=\"487.0\" direction=\"ltr\" style=\"max-width: none; height: 487.0px; color: #000000; background: #ffffff; font-family: Arial; direction: ltr\">\n",
       "<text class=\"displacy-token\" fill=\"currentColor\" text-anchor=\"middle\" y=\"397.0\">\n",
       "    <tspan class=\"displacy-word\" fill=\"currentColor\" x=\"50\">Two</tspan>\n",
       "    <tspan class=\"displacy-tag\" dy=\"2em\" fill=\"currentColor\" x=\"50\">NUM</tspan>\n",
       "</text>\n",
       "\n",
       "<text class=\"displacy-token\" fill=\"currentColor\" text-anchor=\"middle\" y=\"397.0\">\n",
       "    <tspan class=\"displacy-word\" fill=\"currentColor\" x=\"225\">of</tspan>\n",
       "    <tspan class=\"displacy-tag\" dy=\"2em\" fill=\"currentColor\" x=\"225\">ADP</tspan>\n",
       "</text>\n",
       "\n",
       "<text class=\"displacy-token\" fill=\"currentColor\" text-anchor=\"middle\" y=\"397.0\">\n",
       "    <tspan class=\"displacy-word\" fill=\"currentColor\" x=\"400\">my</tspan>\n",
       "    <tspan class=\"displacy-tag\" dy=\"2em\" fill=\"currentColor\" x=\"400\">PRON</tspan>\n",
       "</text>\n",
       "\n",
       "<text class=\"displacy-token\" fill=\"currentColor\" text-anchor=\"middle\" y=\"397.0\">\n",
       "    <tspan class=\"displacy-word\" fill=\"currentColor\" x=\"575\">favorite</tspan>\n",
       "    <tspan class=\"displacy-tag\" dy=\"2em\" fill=\"currentColor\" x=\"575\">ADJ</tspan>\n",
       "</text>\n",
       "\n",
       "<text class=\"displacy-token\" fill=\"currentColor\" text-anchor=\"middle\" y=\"397.0\">\n",
       "    <tspan class=\"displacy-word\" fill=\"currentColor\" x=\"750\">datasets</tspan>\n",
       "    <tspan class=\"displacy-tag\" dy=\"2em\" fill=\"currentColor\" x=\"750\">NOUN</tspan>\n",
       "</text>\n",
       "\n",
       "<text class=\"displacy-token\" fill=\"currentColor\" text-anchor=\"middle\" y=\"397.0\">\n",
       "    <tspan class=\"displacy-word\" fill=\"currentColor\" x=\"925\">are</tspan>\n",
       "    <tspan class=\"displacy-tag\" dy=\"2em\" fill=\"currentColor\" x=\"925\">AUX</tspan>\n",
       "</text>\n",
       "\n",
       "<text class=\"displacy-token\" fill=\"currentColor\" text-anchor=\"middle\" y=\"397.0\">\n",
       "    <tspan class=\"displacy-word\" fill=\"currentColor\" x=\"1100\">the</tspan>\n",
       "    <tspan class=\"displacy-tag\" dy=\"2em\" fill=\"currentColor\" x=\"1100\">DET</tspan>\n",
       "</text>\n",
       "\n",
       "<text class=\"displacy-token\" fill=\"currentColor\" text-anchor=\"middle\" y=\"397.0\">\n",
       "    <tspan class=\"displacy-word\" fill=\"currentColor\" x=\"1275\">General</tspan>\n",
       "    <tspan class=\"displacy-tag\" dy=\"2em\" fill=\"currentColor\" x=\"1275\">PROPN</tspan>\n",
       "</text>\n",
       "\n",
       "<text class=\"displacy-token\" fill=\"currentColor\" text-anchor=\"middle\" y=\"397.0\">\n",
       "    <tspan class=\"displacy-word\" fill=\"currentColor\" x=\"1450\">Social</tspan>\n",
       "    <tspan class=\"displacy-tag\" dy=\"2em\" fill=\"currentColor\" x=\"1450\">PROPN</tspan>\n",
       "</text>\n",
       "\n",
       "<text class=\"displacy-token\" fill=\"currentColor\" text-anchor=\"middle\" y=\"397.0\">\n",
       "    <tspan class=\"displacy-word\" fill=\"currentColor\" x=\"1625\">Survey</tspan>\n",
       "    <tspan class=\"displacy-tag\" dy=\"2em\" fill=\"currentColor\" x=\"1625\">PROPN</tspan>\n",
       "</text>\n",
       "\n",
       "<g class=\"displacy-arrow\">\n",
       "    <path class=\"displacy-arc\" id=\"arrow-cb1b7965c466413d83c071f2179e26ea-0-0\" stroke-width=\"2px\" d=\"M70,352.0 C70,2.0 925.0,2.0 925.0,352.0\" fill=\"none\" stroke=\"currentColor\"/>\n",
       "    <text dy=\"1.25em\" style=\"font-size: 0.8em; letter-spacing: 1px\">\n",
       "        <textPath xlink:href=\"#arrow-cb1b7965c466413d83c071f2179e26ea-0-0\" class=\"displacy-label\" startOffset=\"50%\" side=\"left\" fill=\"currentColor\" text-anchor=\"middle\">nsubj</textPath>\n",
       "    </text>\n",
       "    <path class=\"displacy-arrowhead\" d=\"M70,354.0 L62,342.0 78,342.0\" fill=\"currentColor\"/>\n",
       "</g>\n",
       "\n",
       "<g class=\"displacy-arrow\">\n",
       "    <path class=\"displacy-arc\" id=\"arrow-cb1b7965c466413d83c071f2179e26ea-0-1\" stroke-width=\"2px\" d=\"M70,352.0 C70,264.5 210.0,264.5 210.0,352.0\" fill=\"none\" stroke=\"currentColor\"/>\n",
       "    <text dy=\"1.25em\" style=\"font-size: 0.8em; letter-spacing: 1px\">\n",
       "        <textPath xlink:href=\"#arrow-cb1b7965c466413d83c071f2179e26ea-0-1\" class=\"displacy-label\" startOffset=\"50%\" side=\"left\" fill=\"currentColor\" text-anchor=\"middle\">prep</textPath>\n",
       "    </text>\n",
       "    <path class=\"displacy-arrowhead\" d=\"M210.0,354.0 L218.0,342.0 202.0,342.0\" fill=\"currentColor\"/>\n",
       "</g>\n",
       "\n",
       "<g class=\"displacy-arrow\">\n",
       "    <path class=\"displacy-arc\" id=\"arrow-cb1b7965c466413d83c071f2179e26ea-0-2\" stroke-width=\"2px\" d=\"M420,352.0 C420,177.0 740.0,177.0 740.0,352.0\" fill=\"none\" stroke=\"currentColor\"/>\n",
       "    <text dy=\"1.25em\" style=\"font-size: 0.8em; letter-spacing: 1px\">\n",
       "        <textPath xlink:href=\"#arrow-cb1b7965c466413d83c071f2179e26ea-0-2\" class=\"displacy-label\" startOffset=\"50%\" side=\"left\" fill=\"currentColor\" text-anchor=\"middle\">poss</textPath>\n",
       "    </text>\n",
       "    <path class=\"displacy-arrowhead\" d=\"M420,354.0 L412,342.0 428,342.0\" fill=\"currentColor\"/>\n",
       "</g>\n",
       "\n",
       "<g class=\"displacy-arrow\">\n",
       "    <path class=\"displacy-arc\" id=\"arrow-cb1b7965c466413d83c071f2179e26ea-0-3\" stroke-width=\"2px\" d=\"M595,352.0 C595,264.5 735.0,264.5 735.0,352.0\" fill=\"none\" stroke=\"currentColor\"/>\n",
       "    <text dy=\"1.25em\" style=\"font-size: 0.8em; letter-spacing: 1px\">\n",
       "        <textPath xlink:href=\"#arrow-cb1b7965c466413d83c071f2179e26ea-0-3\" class=\"displacy-label\" startOffset=\"50%\" side=\"left\" fill=\"currentColor\" text-anchor=\"middle\">amod</textPath>\n",
       "    </text>\n",
       "    <path class=\"displacy-arrowhead\" d=\"M595,354.0 L587,342.0 603,342.0\" fill=\"currentColor\"/>\n",
       "</g>\n",
       "\n",
       "<g class=\"displacy-arrow\">\n",
       "    <path class=\"displacy-arc\" id=\"arrow-cb1b7965c466413d83c071f2179e26ea-0-4\" stroke-width=\"2px\" d=\"M245,352.0 C245,89.5 745.0,89.5 745.0,352.0\" fill=\"none\" stroke=\"currentColor\"/>\n",
       "    <text dy=\"1.25em\" style=\"font-size: 0.8em; letter-spacing: 1px\">\n",
       "        <textPath xlink:href=\"#arrow-cb1b7965c466413d83c071f2179e26ea-0-4\" class=\"displacy-label\" startOffset=\"50%\" side=\"left\" fill=\"currentColor\" text-anchor=\"middle\">pobj</textPath>\n",
       "    </text>\n",
       "    <path class=\"displacy-arrowhead\" d=\"M745.0,354.0 L753.0,342.0 737.0,342.0\" fill=\"currentColor\"/>\n",
       "</g>\n",
       "\n",
       "<g class=\"displacy-arrow\">\n",
       "    <path class=\"displacy-arc\" id=\"arrow-cb1b7965c466413d83c071f2179e26ea-0-5\" stroke-width=\"2px\" d=\"M1120,352.0 C1120,89.5 1620.0,89.5 1620.0,352.0\" fill=\"none\" stroke=\"currentColor\"/>\n",
       "    <text dy=\"1.25em\" style=\"font-size: 0.8em; letter-spacing: 1px\">\n",
       "        <textPath xlink:href=\"#arrow-cb1b7965c466413d83c071f2179e26ea-0-5\" class=\"displacy-label\" startOffset=\"50%\" side=\"left\" fill=\"currentColor\" text-anchor=\"middle\">det</textPath>\n",
       "    </text>\n",
       "    <path class=\"displacy-arrowhead\" d=\"M1120,354.0 L1112,342.0 1128,342.0\" fill=\"currentColor\"/>\n",
       "</g>\n",
       "\n",
       "<g class=\"displacy-arrow\">\n",
       "    <path class=\"displacy-arc\" id=\"arrow-cb1b7965c466413d83c071f2179e26ea-0-6\" stroke-width=\"2px\" d=\"M1295,352.0 C1295,177.0 1615.0,177.0 1615.0,352.0\" fill=\"none\" stroke=\"currentColor\"/>\n",
       "    <text dy=\"1.25em\" style=\"font-size: 0.8em; letter-spacing: 1px\">\n",
       "        <textPath xlink:href=\"#arrow-cb1b7965c466413d83c071f2179e26ea-0-6\" class=\"displacy-label\" startOffset=\"50%\" side=\"left\" fill=\"currentColor\" text-anchor=\"middle\">compound</textPath>\n",
       "    </text>\n",
       "    <path class=\"displacy-arrowhead\" d=\"M1295,354.0 L1287,342.0 1303,342.0\" fill=\"currentColor\"/>\n",
       "</g>\n",
       "\n",
       "<g class=\"displacy-arrow\">\n",
       "    <path class=\"displacy-arc\" id=\"arrow-cb1b7965c466413d83c071f2179e26ea-0-7\" stroke-width=\"2px\" d=\"M1470,352.0 C1470,264.5 1610.0,264.5 1610.0,352.0\" fill=\"none\" stroke=\"currentColor\"/>\n",
       "    <text dy=\"1.25em\" style=\"font-size: 0.8em; letter-spacing: 1px\">\n",
       "        <textPath xlink:href=\"#arrow-cb1b7965c466413d83c071f2179e26ea-0-7\" class=\"displacy-label\" startOffset=\"50%\" side=\"left\" fill=\"currentColor\" text-anchor=\"middle\">compound</textPath>\n",
       "    </text>\n",
       "    <path class=\"displacy-arrowhead\" d=\"M1470,354.0 L1462,342.0 1478,342.0\" fill=\"currentColor\"/>\n",
       "</g>\n",
       "\n",
       "<g class=\"displacy-arrow\">\n",
       "    <path class=\"displacy-arc\" id=\"arrow-cb1b7965c466413d83c071f2179e26ea-0-8\" stroke-width=\"2px\" d=\"M945,352.0 C945,2.0 1625.0,2.0 1625.0,352.0\" fill=\"none\" stroke=\"currentColor\"/>\n",
       "    <text dy=\"1.25em\" style=\"font-size: 0.8em; letter-spacing: 1px\">\n",
       "        <textPath xlink:href=\"#arrow-cb1b7965c466413d83c071f2179e26ea-0-8\" class=\"displacy-label\" startOffset=\"50%\" side=\"left\" fill=\"currentColor\" text-anchor=\"middle\">attr</textPath>\n",
       "    </text>\n",
       "    <path class=\"displacy-arrowhead\" d=\"M1625.0,354.0 L1633.0,342.0 1617.0,342.0\" fill=\"currentColor\"/>\n",
       "</g>\n",
       "</svg></span>"
      ],
      "text/plain": [
       "<IPython.core.display.HTML object>"
      ]
     },
     "metadata": {},
     "output_type": "display_data"
    }
   ],
   "source": [
    "#ANSWER CELL: DO NOT RUN THIS CELL. YOUR ANSWER MUST MATCH THIS."
   ]
  },
  {
   "cell_type": "markdown",
   "metadata": {
    "id": "lqw9AyFpBJqw"
   },
   "source": [
    "Hint: To understand any of spacy's attribute use spacy.explain as shown below"
   ]
  },
  {
   "cell_type": "code",
   "execution_count": 45,
   "metadata": {
    "colab": {
     "base_uri": "https://localhost:8080/",
     "height": 35
    },
    "id": "XDL3PKKaA6-5",
    "outputId": "b597cb0b-1fe9-4160-d812-41e7abcb98c0"
   },
   "outputs": [
    {
     "data": {
      "text/plain": [
       "'nominal subject'"
      ]
     },
     "execution_count": 45,
     "metadata": {},
     "output_type": "execute_result"
    }
   ],
   "source": [
    "spacy.explain('nsubj')"
   ]
  },
  {
   "cell_type": "markdown",
   "metadata": {
    "id": "3lu3pv-2BtHP"
   },
   "source": [
    "### Named Entity Recognition\n",
    "\n",
    "Q16: Identify and visualize all the entities in the document."
   ]
  },
  {
   "cell_type": "code",
   "execution_count": 62,
   "metadata": {
    "id": "q81PsAk5d82j"
   },
   "outputs": [
    {
     "data": {
      "text/html": [
       "<span class=\"tex2jax_ignore\"><div class=\"entities\" style=\"line-height: 2.5; direction: ltr\">Look for data to help you address the question. Governments are good sources because data from public research is often freely available, you can send an email to getdata@data.gov or info@databank.org for more datasets.<br><br>Good places to start include http://www.data.gov/, and http://www.science.gov/, and http://data.gov.uk/ in \n",
       "<mark class=\"entity\" style=\"background: #feca74; padding: 0.45em 0.6em; margin: 0 0.25em; line-height: 1; border-radius: 0.35em;\">\n",
       "    the United Kingdom\n",
       "    <span style=\"font-size: 0.8em; font-weight: bold; line-height: 1; border-radius: 0.35em; vertical-align: middle; margin-left: 0.5rem\">GPE</span>\n",
       "</mark>\n",
       ".<br><br>\n",
       "<mark class=\"entity\" style=\"background: #e4e7d2; padding: 0.45em 0.6em; margin: 0 0.25em; line-height: 1; border-radius: 0.35em;\">\n",
       "    Two\n",
       "    <span style=\"font-size: 0.8em; font-weight: bold; line-height: 1; border-radius: 0.35em; vertical-align: middle; margin-left: 0.5rem\">CARDINAL</span>\n",
       "</mark>\n",
       " of my favorite datasets are \n",
       "<mark class=\"entity\" style=\"background: #7aecec; padding: 0.45em 0.6em; margin: 0 0.25em; line-height: 1; border-radius: 0.35em;\">\n",
       "    the General Social Survey\n",
       "    <span style=\"font-size: 0.8em; font-weight: bold; line-height: 1; border-radius: 0.35em; vertical-align: middle; margin-left: 0.5rem\">ORG</span>\n",
       "</mark>\n",
       " at http://www3.norc.org/gss+website/, and \n",
       "<mark class=\"entity\" style=\"background: #7aecec; padding: 0.45em 0.6em; margin: 0 0.25em; line-height: 1; border-radius: 0.35em;\">\n",
       "    the European Social Survey\n",
       "    <span style=\"font-size: 0.8em; font-weight: bold; line-height: 1; border-radius: 0.35em; vertical-align: middle; margin-left: 0.5rem\">ORG</span>\n",
       "</mark>\n",
       " at http://www.europeansocialsurvey.org/.<br><br></div></span>"
      ],
      "text/plain": [
       "<IPython.core.display.HTML object>"
      ]
     },
     "metadata": {},
     "output_type": "display_data"
    }
   ],
   "source": [
    "# WRITE CODE HERE THAT REPRODUCES THE OUTPUT OF THE CELL BELOW\n",
    "# BE CAREFUL NOT TO RUN THE CELL BELOW, OTHERWISE YOU WON'T BE ABLE TO SEE THE OUTPUT ANY MORE\n",
    "# IF YOU NEED MORE CODE CELLS, YOU CAN ADD MORE BEFORE OUTPUT CELL\n",
    "\n",
    "displacy.render(doc, style=\"ent\")"
   ]
  },
  {
   "cell_type": "code",
   "execution_count": 28,
   "metadata": {
    "colab": {
     "base_uri": "https://localhost:8080/",
     "height": 262
    },
    "id": "-Sg0E9i5BEhU",
    "outputId": "f0a20b5e-a25e-4408-fb34-7c69b3eeaff7"
   },
   "outputs": [
    {
     "data": {
      "text/html": [
       "<span class=\"tex2jax_ignore\"><div class=\"entities\" style=\"line-height: 2.5; direction: ltr\">Look for data to help you address the question. Governments are good sources because data from public research is often freely available, you can send an email to getdata@data.gov or info@databank.org for more datasets.<br><br>Good places to start include http://www.data.gov/, and http://www.science.gov/, and http://data.gov.uk/ in \n",
       "<mark class=\"entity\" style=\"background: #feca74; padding: 0.45em 0.6em; margin: 0 0.25em; line-height: 1; border-radius: 0.35em;\">\n",
       "    the United Kingdom\n",
       "    <span style=\"font-size: 0.8em; font-weight: bold; line-height: 1; border-radius: 0.35em; vertical-align: middle; margin-left: 0.5rem\">GPE</span>\n",
       "</mark>\n",
       ".<br><br>\n",
       "<mark class=\"entity\" style=\"background: #e4e7d2; padding: 0.45em 0.6em; margin: 0 0.25em; line-height: 1; border-radius: 0.35em;\">\n",
       "    Two\n",
       "    <span style=\"font-size: 0.8em; font-weight: bold; line-height: 1; border-radius: 0.35em; vertical-align: middle; margin-left: 0.5rem\">CARDINAL</span>\n",
       "</mark>\n",
       " of my favorite datasets are \n",
       "<mark class=\"entity\" style=\"background: #7aecec; padding: 0.45em 0.6em; margin: 0 0.25em; line-height: 1; border-radius: 0.35em;\">\n",
       "    the General Social Survey\n",
       "    <span style=\"font-size: 0.8em; font-weight: bold; line-height: 1; border-radius: 0.35em; vertical-align: middle; margin-left: 0.5rem\">ORG</span>\n",
       "</mark>\n",
       " at http://www3.norc.org/gss+website/, and \n",
       "<mark class=\"entity\" style=\"background: #7aecec; padding: 0.45em 0.6em; margin: 0 0.25em; line-height: 1; border-radius: 0.35em;\">\n",
       "    the European Social Survey\n",
       "    <span style=\"font-size: 0.8em; font-weight: bold; line-height: 1; border-radius: 0.35em; vertical-align: middle; margin-left: 0.5rem\">ORG</span>\n",
       "</mark>\n",
       " at http://www.europeansocialsurvey.org/.<br><br></div></span>"
      ],
      "text/plain": [
       "<IPython.core.display.HTML object>"
      ]
     },
     "metadata": {},
     "output_type": "display_data"
    }
   ],
   "source": [
    "#ANSWER CELL: DO NOT RUN THIS CELL. YOUR ANSWER MUST MATCH THIS."
   ]
  },
  {
   "cell_type": "markdown",
   "metadata": {
    "id": "Mt7-k4p6DpEg"
   },
   "source": [
    "Q17: Print out all the GPE entities in the document i.e Countries, cities, states?"
   ]
  },
  {
   "cell_type": "code",
   "execution_count": 63,
   "metadata": {
    "colab": {
     "base_uri": "https://localhost:8080/",
     "height": 35
    },
    "id": "IDx2CVcSCath",
    "outputId": "24349656-8cfe-41c0-f100-e7ca82cb9437"
   },
   "outputs": [
    {
     "data": {
      "text/plain": [
       "'Countries, cities, states'"
      ]
     },
     "execution_count": 63,
     "metadata": {},
     "output_type": "execute_result"
    }
   ],
   "source": [
    "spacy.explain('GPE')"
   ]
  },
  {
   "cell_type": "code",
   "execution_count": 68,
   "metadata": {
    "id": "FOCKHhDhelEJ"
   },
   "outputs": [
    {
     "name": "stdout",
     "output_type": "stream",
     "text": [
      "the United Kingdom\n"
     ]
    }
   ],
   "source": [
    "# WRITE CODE HERE THAT REPRODUCES THE OUTPUT OF THE CELL BELOW\n",
    "# BE CAREFUL NOT TO RUN THE CELL BELOW, OTHERWISE YOU WON'T BE ABLE TO SEE THE OUTPUT ANY MORE\n",
    "# IF YOU NEED MORE CODE CELLS, YOU CAN ADD MORE BEFORE OUTPUT CELL\n",
    "\n",
    "for ent in doc.ents:\n",
    "    if ent.label_ == \"GPE\":\n",
    "        print(ent.text)"
   ]
  },
  {
   "cell_type": "code",
   "execution_count": 29,
   "metadata": {
    "colab": {
     "base_uri": "https://localhost:8080/"
    },
    "id": "8WMYvLjRDImg",
    "outputId": "469b987d-7789-41f5-b0f6-6fa0c99a30bb"
   },
   "outputs": [
    {
     "name": "stdout",
     "output_type": "stream",
     "text": [
      "the United Kingdom\n"
     ]
    }
   ],
   "source": [
    "#ANSWER CELL: DO NOT RUN THIS CELL. YOUR ANSWER MUST MATCH THIS."
   ]
  },
  {
   "cell_type": "markdown",
   "metadata": {
    "id": "AY0ow7fMInNP"
   },
   "source": [
    "Q18: Print out all the  ORG entities in the document"
   ]
  },
  {
   "cell_type": "code",
   "execution_count": 69,
   "metadata": {
    "id": "jzICr6qce1vJ"
   },
   "outputs": [
    {
     "name": "stdout",
     "output_type": "stream",
     "text": [
      "the General Social Survey\n",
      "the European Social Survey\n"
     ]
    }
   ],
   "source": [
    "# WRITE CODE HERE THAT REPRODUCES THE OUTPUT OF THE CELL BELOW\n",
    "# BE CAREFUL NOT TO RUN THE CELL BELOW, OTHERWISE YOU WON'T BE ABLE TO SEE THE OUTPUT ANY MORE\n",
    "# IF YOU NEED MORE CODE CELLS, YOU CAN ADD MORE BEFORE OUTPUT CELL\n",
    "\n",
    "for ent in doc.ents:\n",
    "    if ent.label_ == \"ORG\":\n",
    "        print(ent.text)"
   ]
  },
  {
   "cell_type": "code",
   "execution_count": 30,
   "metadata": {
    "colab": {
     "base_uri": "https://localhost:8080/"
    },
    "id": "16t894HCDdHp",
    "outputId": "4e95ff9d-6e27-449b-f559-5f45c78195d9"
   },
   "outputs": [
    {
     "name": "stdout",
     "output_type": "stream",
     "text": [
      "the General Social Survey\n",
      "the European Social Survey\n"
     ]
    }
   ],
   "source": [
    "#ANSWER CELL: DO NOT RUN THIS CELL. YOUR ANSWER MUST MATCH THIS."
   ]
  },
  {
   "cell_type": "markdown",
   "metadata": {
    "id": "jz6RmxP-I2tg"
   },
   "source": [
    "### Semantic Similarity Comparison of Two Sentences Using SpaCy"
   ]
  },
  {
   "cell_type": "code",
   "execution_count": 70,
   "metadata": {
    "colab": {
     "base_uri": "https://localhost:8080/"
    },
    "id": "ciT0D0IQJEYd",
    "outputId": "67cb4c17-99d0-4235-b605-2d7647fe7e53"
   },
   "outputs": [
    {
     "name": "stdout",
     "output_type": "stream",
     "text": [
      "Collecting en-core-web-md==3.8.0\n",
      "  Downloading https://github.com/explosion/spacy-models/releases/download/en_core_web_md-3.8.0/en_core_web_md-3.8.0-py3-none-any.whl (33.5 MB)\n",
      "     ---------------------------------------- 0.0/33.5 MB ? eta -:--:--\n",
      "     ---------------------------------------- 0.0/33.5 MB ? eta -:--:--\n",
      "     ---------------------------------------- 0.0/33.5 MB ? eta -:--:--\n",
      "     ---------------------------------------- 0.0/33.5 MB ? eta -:--:--\n",
      "     ---------------------------------------- 0.0/33.5 MB ? eta -:--:--\n",
      "     ---------------------------------------- 0.0/33.5 MB ? eta -:--:--\n",
      "     ---------------------------------------- 0.3/33.5 MB ? eta -:--:--\n",
      "     ---------------------------------------- 0.3/33.5 MB ? eta -:--:--\n",
      "     ---------------------------------------- 0.3/33.5 MB ? eta -:--:--\n",
      "      -------------------------------------- 0.5/33.5 MB 442.1 kB/s eta 0:01:15\n",
      "      -------------------------------------- 0.5/33.5 MB 442.1 kB/s eta 0:01:15\n",
      "      -------------------------------------- 0.8/33.5 MB 559.5 kB/s eta 0:00:59\n",
      "     - ------------------------------------- 1.0/33.5 MB 621.7 kB/s eta 0:00:53\n",
      "     - ------------------------------------- 1.3/33.5 MB 699.0 kB/s eta 0:00:47\n",
      "     - ------------------------------------- 1.6/33.5 MB 749.0 kB/s eta 0:00:43\n",
      "     -- ------------------------------------ 1.8/33.5 MB 805.4 kB/s eta 0:00:40\n",
      "     -- ------------------------------------ 1.8/33.5 MB 805.4 kB/s eta 0:00:40\n",
      "     -- ------------------------------------ 2.4/33.5 MB 889.0 kB/s eta 0:00:36\n",
      "     --- ----------------------------------- 2.6/33.5 MB 932.2 kB/s eta 0:00:34\n",
      "     --- ----------------------------------- 2.9/33.5 MB 975.6 kB/s eta 0:00:32\n",
      "     --- ----------------------------------- 3.1/33.5 MB 987.2 kB/s eta 0:00:31\n",
      "     ---- ----------------------------------- 3.4/33.5 MB 1.0 MB/s eta 0:00:30\n",
      "     ---- ----------------------------------- 3.7/33.5 MB 1.0 MB/s eta 0:00:29\n",
      "     ----- ---------------------------------- 4.2/33.5 MB 1.1 MB/s eta 0:00:27\n",
      "     ----- ---------------------------------- 4.5/33.5 MB 1.1 MB/s eta 0:00:27\n",
      "     ----- ---------------------------------- 4.7/33.5 MB 1.1 MB/s eta 0:00:26\n",
      "     ----- ---------------------------------- 5.0/33.5 MB 1.1 MB/s eta 0:00:26\n",
      "     ------ --------------------------------- 5.5/33.5 MB 1.2 MB/s eta 0:00:24\n",
      "     ------ --------------------------------- 5.8/33.5 MB 1.2 MB/s eta 0:00:24\n",
      "     ------- -------------------------------- 6.0/33.5 MB 1.2 MB/s eta 0:00:23\n",
      "     ------- -------------------------------- 6.3/33.5 MB 1.2 MB/s eta 0:00:23\n",
      "     ------- -------------------------------- 6.6/33.5 MB 1.2 MB/s eta 0:00:23\n",
      "     -------- ------------------------------- 6.8/33.5 MB 1.2 MB/s eta 0:00:22\n",
      "     -------- ------------------------------- 7.1/33.5 MB 1.2 MB/s eta 0:00:22\n",
      "     --------- ------------------------------ 7.6/33.5 MB 1.2 MB/s eta 0:00:22\n",
      "     --------- ------------------------------ 7.9/33.5 MB 1.2 MB/s eta 0:00:21\n",
      "     --------- ------------------------------ 8.1/33.5 MB 1.2 MB/s eta 0:00:21\n",
      "     ---------- ----------------------------- 8.4/33.5 MB 1.2 MB/s eta 0:00:21\n",
      "     ---------- ----------------------------- 8.7/33.5 MB 1.3 MB/s eta 0:00:20\n",
      "     ---------- ----------------------------- 9.2/33.5 MB 1.3 MB/s eta 0:00:20\n",
      "     ----------- ---------------------------- 9.4/33.5 MB 1.3 MB/s eta 0:00:19\n",
      "     ----------- ---------------------------- 9.7/33.5 MB 1.3 MB/s eta 0:00:19\n",
      "     ----------- ---------------------------- 10.0/33.5 MB 1.3 MB/s eta 0:00:19\n",
      "     ------------ --------------------------- 10.2/33.5 MB 1.3 MB/s eta 0:00:19\n",
      "     ------------ --------------------------- 10.7/33.5 MB 1.3 MB/s eta 0:00:18\n",
      "     ------------- -------------------------- 11.0/33.5 MB 1.3 MB/s eta 0:00:18\n",
      "     ------------- -------------------------- 11.3/33.5 MB 1.3 MB/s eta 0:00:18\n",
      "     ------------- -------------------------- 11.5/33.5 MB 1.3 MB/s eta 0:00:17\n",
      "     -------------- ------------------------- 11.8/33.5 MB 1.3 MB/s eta 0:00:17\n",
      "     -------------- ------------------------- 12.1/33.5 MB 1.3 MB/s eta 0:00:17\n",
      "     -------------- ------------------------- 12.1/33.5 MB 1.3 MB/s eta 0:00:17\n",
      "     -------------- ------------------------- 12.3/33.5 MB 1.3 MB/s eta 0:00:17\n",
      "     --------------- ------------------------ 12.6/33.5 MB 1.3 MB/s eta 0:00:17\n",
      "     --------------- ------------------------ 12.8/33.5 MB 1.3 MB/s eta 0:00:17\n",
      "     --------------- ------------------------ 12.8/33.5 MB 1.3 MB/s eta 0:00:17\n",
      "     --------------- ------------------------ 13.1/33.5 MB 1.3 MB/s eta 0:00:17\n",
      "     --------------- ------------------------ 13.4/33.5 MB 1.2 MB/s eta 0:00:17\n",
      "     ---------------- ----------------------- 13.6/33.5 MB 1.2 MB/s eta 0:00:17\n",
      "     ---------------- ----------------------- 13.6/33.5 MB 1.2 MB/s eta 0:00:17\n",
      "     ---------------- ----------------------- 13.9/33.5 MB 1.2 MB/s eta 0:00:16\n",
      "     ---------------- ----------------------- 14.2/33.5 MB 1.2 MB/s eta 0:00:16\n",
      "     ----------------- ---------------------- 14.4/33.5 MB 1.2 MB/s eta 0:00:16\n",
      "     ----------------- ---------------------- 14.7/33.5 MB 1.2 MB/s eta 0:00:16\n",
      "     ----------------- ---------------------- 14.7/33.5 MB 1.2 MB/s eta 0:00:16\n",
      "     ----------------- ---------------------- 14.9/33.5 MB 1.2 MB/s eta 0:00:16\n",
      "     ------------------ --------------------- 15.2/33.5 MB 1.2 MB/s eta 0:00:16\n",
      "     ------------------ --------------------- 15.2/33.5 MB 1.2 MB/s eta 0:00:16\n",
      "     ------------------ --------------------- 15.5/33.5 MB 1.2 MB/s eta 0:00:16\n",
      "     ------------------ --------------------- 15.7/33.5 MB 1.2 MB/s eta 0:00:16\n",
      "     ------------------ --------------------- 15.7/33.5 MB 1.2 MB/s eta 0:00:16\n",
      "     ------------------- -------------------- 16.0/33.5 MB 1.2 MB/s eta 0:00:15\n",
      "     ------------------- -------------------- 16.3/33.5 MB 1.2 MB/s eta 0:00:15\n",
      "     ------------------- -------------------- 16.5/33.5 MB 1.2 MB/s eta 0:00:15\n",
      "     ------------------- -------------------- 16.5/33.5 MB 1.2 MB/s eta 0:00:15\n",
      "     -------------------- ------------------- 16.8/33.5 MB 1.2 MB/s eta 0:00:15\n",
      "     -------------------- ------------------- 17.0/33.5 MB 1.1 MB/s eta 0:00:15\n",
      "     -------------------- ------------------- 17.0/33.5 MB 1.1 MB/s eta 0:00:15\n",
      "     -------------------- ------------------- 17.3/33.5 MB 1.1 MB/s eta 0:00:15\n",
      "     -------------------- ------------------- 17.3/33.5 MB 1.1 MB/s eta 0:00:15\n",
      "     -------------------- ------------------- 17.6/33.5 MB 1.1 MB/s eta 0:00:15\n",
      "     -------------------- ------------------- 17.6/33.5 MB 1.1 MB/s eta 0:00:15\n",
      "     -------------------- ------------------- 17.6/33.5 MB 1.1 MB/s eta 0:00:15\n",
      "     -------------------- ------------------- 17.6/33.5 MB 1.1 MB/s eta 0:00:15\n",
      "     -------------------- ------------------- 17.6/33.5 MB 1.1 MB/s eta 0:00:15\n",
      "     --------------------- ------------------ 17.8/33.5 MB 1.1 MB/s eta 0:00:15\n",
      "     --------------------- ------------------ 17.8/33.5 MB 1.1 MB/s eta 0:00:15\n",
      "     --------------------- ------------------ 18.1/33.5 MB 1.1 MB/s eta 0:00:15\n",
      "     --------------------- ------------------ 18.1/33.5 MB 1.1 MB/s eta 0:00:15\n",
      "     --------------------- ------------------ 18.4/33.5 MB 1.0 MB/s eta 0:00:15\n",
      "     --------------------- ------------------ 18.4/33.5 MB 1.0 MB/s eta 0:00:15\n",
      "     ---------------------- ----------------- 18.6/33.5 MB 1.0 MB/s eta 0:00:15\n",
      "     ---------------------- ----------------- 18.6/33.5 MB 1.0 MB/s eta 0:00:15\n",
      "     ---------------------- ----------------- 18.6/33.5 MB 1.0 MB/s eta 0:00:15\n",
      "     ---------------------- ----------------- 18.9/33.5 MB 1.0 MB/s eta 0:00:15\n",
      "     ---------------------- ----------------- 19.1/33.5 MB 1.0 MB/s eta 0:00:15\n",
      "     ---------------------- ----------------- 19.1/33.5 MB 1.0 MB/s eta 0:00:15\n",
      "     ----------------------- ---------------- 19.4/33.5 MB 1.0 MB/s eta 0:00:14\n",
      "     ----------------------- ---------------- 19.4/33.5 MB 1.0 MB/s eta 0:00:14\n",
      "     ----------------------- ---------------- 19.4/33.5 MB 1.0 MB/s eta 0:00:14\n",
      "     ----------------------- ---------------- 19.4/33.5 MB 1.0 MB/s eta 0:00:14\n",
      "     ---------------------- --------------- 19.7/33.5 MB 987.7 kB/s eta 0:00:14\n",
      "     ---------------------- --------------- 19.9/33.5 MB 980.8 kB/s eta 0:00:14\n",
      "     ---------------------- --------------- 19.9/33.5 MB 980.8 kB/s eta 0:00:14\n",
      "     ---------------------- --------------- 19.9/33.5 MB 980.8 kB/s eta 0:00:14\n",
      "     ---------------------- --------------- 20.2/33.5 MB 970.4 kB/s eta 0:00:14\n",
      "     ---------------------- --------------- 20.2/33.5 MB 970.4 kB/s eta 0:00:14\n",
      "     ----------------------- -------------- 20.4/33.5 MB 955.5 kB/s eta 0:00:14\n",
      "     ----------------------- -------------- 20.4/33.5 MB 955.5 kB/s eta 0:00:14\n",
      "     ----------------------- -------------- 20.4/33.5 MB 955.5 kB/s eta 0:00:14\n",
      "     ----------------------- -------------- 20.7/33.5 MB 941.5 kB/s eta 0:00:14\n",
      "     ----------------------- -------------- 20.7/33.5 MB 941.5 kB/s eta 0:00:14\n",
      "     ----------------------- -------------- 20.7/33.5 MB 941.5 kB/s eta 0:00:14\n",
      "     ----------------------- -------------- 20.7/33.5 MB 941.5 kB/s eta 0:00:14\n",
      "     ----------------------- -------------- 21.0/33.5 MB 919.8 kB/s eta 0:00:14\n",
      "     ----------------------- -------------- 21.0/33.5 MB 919.8 kB/s eta 0:00:14\n",
      "     ----------------------- -------------- 21.0/33.5 MB 919.8 kB/s eta 0:00:14\n",
      "     ------------------------ ------------- 21.2/33.5 MB 905.1 kB/s eta 0:00:14\n",
      "     ------------------------ ------------- 21.2/33.5 MB 905.1 kB/s eta 0:00:14\n",
      "     ------------------------ ------------- 21.2/33.5 MB 905.1 kB/s eta 0:00:14\n",
      "     ------------------------ ------------- 21.5/33.5 MB 893.5 kB/s eta 0:00:14\n",
      "     ------------------------ ------------- 21.5/33.5 MB 893.5 kB/s eta 0:00:14\n",
      "     ------------------------ ------------- 21.5/33.5 MB 893.5 kB/s eta 0:00:14\n",
      "     ------------------------ ------------- 21.8/33.5 MB 882.5 kB/s eta 0:00:14\n",
      "     ------------------------ ------------- 21.8/33.5 MB 882.5 kB/s eta 0:00:14\n",
      "     ------------------------ ------------- 21.8/33.5 MB 882.5 kB/s eta 0:00:14\n",
      "     ------------------------ ------------- 22.0/33.5 MB 871.4 kB/s eta 0:00:14\n",
      "     ------------------------ ------------- 22.0/33.5 MB 871.4 kB/s eta 0:00:14\n",
      "     ------------------------- ------------ 22.3/33.5 MB 860.9 kB/s eta 0:00:14\n",
      "     ------------------------- ------------ 22.3/33.5 MB 860.9 kB/s eta 0:00:14\n",
      "     ------------------------- ------------ 22.3/33.5 MB 860.9 kB/s eta 0:00:14\n",
      "     ------------------------- ------------ 22.5/33.5 MB 850.4 kB/s eta 0:00:13\n",
      "     ------------------------- ------------ 22.5/33.5 MB 850.4 kB/s eta 0:00:13\n",
      "     ------------------------- ------------ 22.5/33.5 MB 850.4 kB/s eta 0:00:13\n",
      "     ------------------------- ------------ 22.8/33.5 MB 842.8 kB/s eta 0:00:13\n",
      "     ------------------------- ------------ 22.8/33.5 MB 842.8 kB/s eta 0:00:13\n",
      "     -------------------------- ----------- 23.1/33.5 MB 837.4 kB/s eta 0:00:13\n",
      "     -------------------------- ----------- 23.1/33.5 MB 837.4 kB/s eta 0:00:13\n",
      "     -------------------------- ----------- 23.1/33.5 MB 837.4 kB/s eta 0:00:13\n",
      "     -------------------------- ----------- 23.3/33.5 MB 829.5 kB/s eta 0:00:13\n",
      "     -------------------------- ----------- 23.3/33.5 MB 829.5 kB/s eta 0:00:13\n",
      "     -------------------------- ----------- 23.6/33.5 MB 826.3 kB/s eta 0:00:12\n",
      "     -------------------------- ----------- 23.6/33.5 MB 826.3 kB/s eta 0:00:12\n",
      "     -------------------------- ----------- 23.6/33.5 MB 826.3 kB/s eta 0:00:12\n",
      "     --------------------------- ---------- 23.9/33.5 MB 818.0 kB/s eta 0:00:12\n",
      "     --------------------------- ---------- 23.9/33.5 MB 818.0 kB/s eta 0:00:12\n",
      "     --------------------------- ---------- 24.1/33.5 MB 816.5 kB/s eta 0:00:12\n",
      "     --------------------------- ---------- 24.1/33.5 MB 816.5 kB/s eta 0:00:12\n",
      "     --------------------------- ---------- 24.4/33.5 MB 812.8 kB/s eta 0:00:12\n",
      "     --------------------------- ---------- 24.4/33.5 MB 812.8 kB/s eta 0:00:12\n",
      "     --------------------------- ---------- 24.6/33.5 MB 817.9 kB/s eta 0:00:11\n",
      "     ---------------------------- --------- 24.9/33.5 MB 820.3 kB/s eta 0:00:11\n",
      "     ---------------------------- --------- 24.9/33.5 MB 820.3 kB/s eta 0:00:11\n",
      "     ---------------------------- --------- 24.9/33.5 MB 820.3 kB/s eta 0:00:11\n",
      "     ---------------------------- --------- 25.2/33.5 MB 812.4 kB/s eta 0:00:11\n",
      "     ---------------------------- --------- 25.2/33.5 MB 812.4 kB/s eta 0:00:11\n",
      "     ---------------------------- --------- 25.4/33.5 MB 806.9 kB/s eta 0:00:10\n",
      "     ---------------------------- --------- 25.4/33.5 MB 806.9 kB/s eta 0:00:10\n",
      "     ----------------------------- -------- 25.7/33.5 MB 798.9 kB/s eta 0:00:10\n",
      "     ----------------------------- -------- 26.0/33.5 MB 796.8 kB/s eta 0:00:10\n",
      "     ----------------------------- -------- 26.0/33.5 MB 796.8 kB/s eta 0:00:10\n",
      "     ----------------------------- -------- 26.0/33.5 MB 796.8 kB/s eta 0:00:10\n",
      "     ----------------------------- -------- 26.2/33.5 MB 777.7 kB/s eta 0:00:10\n",
      "     ----------------------------- -------- 26.2/33.5 MB 777.7 kB/s eta 0:00:10\n",
      "     ------------------------------ ------- 26.5/33.5 MB 764.2 kB/s eta 0:00:10\n",
      "     ------------------------------ ------- 26.5/33.5 MB 764.2 kB/s eta 0:00:10\n",
      "     ------------------------------ ------- 26.7/33.5 MB 754.6 kB/s eta 0:00:09\n",
      "     ------------------------------ ------- 26.7/33.5 MB 754.6 kB/s eta 0:00:09\n",
      "     ------------------------------ ------- 27.0/33.5 MB 743.9 kB/s eta 0:00:09\n",
      "     ------------------------------ ------- 27.0/33.5 MB 743.9 kB/s eta 0:00:09\n",
      "     ------------------------------ ------- 27.3/33.5 MB 735.2 kB/s eta 0:00:09\n",
      "     ------------------------------ ------- 27.3/33.5 MB 735.2 kB/s eta 0:00:09\n",
      "     ------------------------------- ------ 27.5/33.5 MB 719.9 kB/s eta 0:00:09\n",
      "     ------------------------------- ------ 27.8/33.5 MB 716.9 kB/s eta 0:00:08\n",
      "     ------------------------------- ------ 27.8/33.5 MB 716.9 kB/s eta 0:00:08\n",
      "     ------------------------------- ------ 28.0/33.5 MB 702.7 kB/s eta 0:00:08\n",
      "     ------------------------------- ------ 28.0/33.5 MB 702.7 kB/s eta 0:00:08\n",
      "     -------------------------------- ----- 28.3/33.5 MB 693.2 kB/s eta 0:00:08\n",
      "     -------------------------------- ----- 28.3/33.5 MB 693.2 kB/s eta 0:00:08\n",
      "     -------------------------------- ----- 28.6/33.5 MB 683.0 kB/s eta 0:00:08\n",
      "     -------------------------------- ----- 28.6/33.5 MB 683.0 kB/s eta 0:00:08\n",
      "     -------------------------------- ----- 28.8/33.5 MB 673.9 kB/s eta 0:00:07\n",
      "     -------------------------------- ----- 28.8/33.5 MB 673.9 kB/s eta 0:00:07\n",
      "     --------------------------------- ---- 29.1/33.5 MB 664.1 kB/s eta 0:00:07\n",
      "     --------------------------------- ---- 29.1/33.5 MB 664.1 kB/s eta 0:00:07\n",
      "     --------------------------------- ---- 29.4/33.5 MB 649.0 kB/s eta 0:00:07\n",
      "     --------------------------------- ---- 29.4/33.5 MB 649.0 kB/s eta 0:00:07\n",
      "     --------------------------------- ---- 29.6/33.5 MB 637.9 kB/s eta 0:00:07\n",
      "     --------------------------------- ---- 29.6/33.5 MB 637.9 kB/s eta 0:00:07\n",
      "     --------------------------------- ---- 29.9/33.5 MB 623.7 kB/s eta 0:00:06\n",
      "     ---------------------------------- --- 30.1/33.5 MB 620.4 kB/s eta 0:00:06\n",
      "     ---------------------------------- --- 30.1/33.5 MB 620.4 kB/s eta 0:00:06\n",
      "     ---------------------------------- --- 30.4/33.5 MB 613.0 kB/s eta 0:00:06\n",
      "     ---------------------------------- --- 30.7/33.5 MB 613.6 kB/s eta 0:00:05\n",
      "     ---------------------------------- --- 30.7/33.5 MB 613.6 kB/s eta 0:00:05\n",
      "     ---------------------------------- --- 30.7/33.5 MB 613.6 kB/s eta 0:00:05\n",
      "     ----------------------------------- -- 30.9/33.5 MB 606.7 kB/s eta 0:00:05\n",
      "     ----------------------------------- -- 30.9/33.5 MB 606.7 kB/s eta 0:00:05\n",
      "     ----------------------------------- -- 31.2/33.5 MB 603.9 kB/s eta 0:00:04\n",
      "     ----------------------------------- -- 31.2/33.5 MB 603.9 kB/s eta 0:00:04\n",
      "     ----------------------------------- -- 31.2/33.5 MB 603.9 kB/s eta 0:00:04\n",
      "     ----------------------------------- -- 31.5/33.5 MB 594.5 kB/s eta 0:00:04\n",
      "     ----------------------------------- -- 31.5/33.5 MB 594.5 kB/s eta 0:00:04\n",
      "     ------------------------------------ - 31.7/33.5 MB 585.7 kB/s eta 0:00:04\n",
      "     ------------------------------------ - 31.7/33.5 MB 585.7 kB/s eta 0:00:04\n",
      "     ------------------------------------ - 31.7/33.5 MB 585.7 kB/s eta 0:00:04\n",
      "     ------------------------------------ - 32.0/33.5 MB 576.7 kB/s eta 0:00:03\n",
      "     ------------------------------------ - 32.0/33.5 MB 576.7 kB/s eta 0:00:03\n",
      "     ------------------------------------ - 32.2/33.5 MB 569.8 kB/s eta 0:00:03\n",
      "     ------------------------------------ - 32.2/33.5 MB 569.8 kB/s eta 0:00:03\n",
      "     ------------------------------------ - 32.5/33.5 MB 564.2 kB/s eta 0:00:02\n",
      "     ------------------------------------ - 32.5/33.5 MB 564.2 kB/s eta 0:00:02\n",
      "     ------------------------------------ - 32.5/33.5 MB 564.2 kB/s eta 0:00:02\n",
      "     -------------------------------------  32.8/33.5 MB 561.0 kB/s eta 0:00:02\n",
      "     -------------------------------------  32.8/33.5 MB 561.0 kB/s eta 0:00:02\n",
      "     -------------------------------------  33.0/33.5 MB 554.3 kB/s eta 0:00:01\n",
      "     -------------------------------------  33.0/33.5 MB 554.3 kB/s eta 0:00:01\n",
      "     -------------------------------------  33.3/33.5 MB 551.3 kB/s eta 0:00:01\n",
      "     -------------------------------------- 33.5/33.5 MB 548.6 kB/s eta 0:00:00\n",
      "\u001b[38;5;2m[+] Download and installation successful\u001b[0m\n",
      "You can now load the package via spacy.load('en_core_web_md')\n"
     ]
    }
   ],
   "source": [
    "# Run this cell to install an english pipeline that supports comparison of semantic similarity\n",
    "!python -m spacy download en_core_web_md"
   ]
  },
  {
   "cell_type": "markdown",
   "metadata": {
    "id": "lakY5LQRKH6V"
   },
   "source": [
    "Q19: Compare the two ORG entities in the document object and ouput their similarity score"
   ]
  },
  {
   "cell_type": "code",
   "execution_count": 71,
   "metadata": {
    "id": "gak8ZajJIzBs"
   },
   "outputs": [],
   "source": [
    "# Load the new english pipeline that supports comparison of semantic similarity\n",
    "nlp2= spacy.load('en_core_web_md')"
   ]
  },
  {
   "cell_type": "code",
   "execution_count": 77,
   "metadata": {
    "id": "mo74V-tdU3uL"
   },
   "outputs": [
    {
     "name": "stdout",
     "output_type": "stream",
     "text": [
      "the General Social Survey\n",
      "the European Social Survey\n"
     ]
    }
   ],
   "source": [
    "# WRITE CODE HERE THAT REPRODUCES THE OUTPUT OF THE CELL BELOW\n",
    "# BE CAREFUL NOT TO RUN THE CELL BELOW, OTHERWISE YOU WON'T BE ABLE TO SEE THE OUTPUT ANY MORE\n",
    "# IF YOU NEED MORE CODE CELLS, YOU CAN ADD MORE BEFORE OUTPUT CELL\n",
    "\n",
    "entities = [ent.text for ent in doc.ents if ent.label_ == \"ORG\"]\n",
    "\n",
    "entity1, entity2= entities[:2]\n",
    "\n",
    "print(entity1)\n",
    "print(entity2)"
   ]
  },
  {
   "cell_type": "code",
   "execution_count": 78,
   "metadata": {},
   "outputs": [
    {
     "name": "stdout",
     "output_type": "stream",
     "text": [
      "the General Social Survey <-> the European Social Survey 0.8987075090408325\n"
     ]
    }
   ],
   "source": [
    "ent1 = nlp2(entity1)\n",
    "ent2 = nlp2(entity2)\n",
    "print(ent1, \"<->\", ent2, ent1.similarity(ent2))"
   ]
  },
  {
   "cell_type": "code",
   "execution_count": 35,
   "metadata": {
    "colab": {
     "base_uri": "https://localhost:8080/"
    },
    "id": "fHMzXW-TJCay",
    "outputId": "fdf89b86-2da9-4297-eb35-3b69b4f14b2d"
   },
   "outputs": [
    {
     "name": "stdout",
     "output_type": "stream",
     "text": [
      "the General Social Survey <-> the European Social Survey \n",
      "Similarity Score 0.8987075090408325\n"
     ]
    }
   ],
   "source": [
    "#ANSWER CELL: DO NOT RUN THIS CELL. YOUR ANSWER MUST MATCH THIS."
   ]
  },
  {
   "cell_type": "markdown",
   "metadata": {
    "id": "q9-st25FS8o7"
   },
   "source": [
    "Q20: Compare the ORG entity - 'the General Social Survey' and the GPE entity - 'the United Kingdom'  in the document object and ouput their similarity score"
   ]
  },
  {
   "cell_type": "code",
   "execution_count": 80,
   "metadata": {
    "id": "joHA9fqfjGa5"
   },
   "outputs": [
    {
     "name": "stdout",
     "output_type": "stream",
     "text": [
      "the United Kingdom\n"
     ]
    }
   ],
   "source": [
    "# WRITE CODE HERE THAT REPRODUCES THE OUTPUT OF THE CELL BELOW\n",
    "# BE CAREFUL NOT TO RUN THE CELL BELOW, OTHERWISE YOU WON'T BE ABLE TO SEE THE OUTPUT ANY MORE\n",
    "# IF YOU NEED MORE CODE CELLS, YOU CAN ADD MORE BEFORE OUTPUT CELL\n",
    "\n",
    "entity3 = next((ent.text for ent in doc.ents if ent.label_ == \"GPE\"))\n",
    "print(entity3)"
   ]
  },
  {
   "cell_type": "code",
   "execution_count": 81,
   "metadata": {},
   "outputs": [
    {
     "name": "stdout",
     "output_type": "stream",
     "text": [
      "the General Social Survey <-> the United Kingdom 0.641151487827301\n"
     ]
    }
   ],
   "source": [
    "ent3 = nlp2(entity3)\n",
    "print(ent1, \"<->\", ent3, ent1.similarity(ent3))"
   ]
  },
  {
   "cell_type": "code",
   "execution_count": 36,
   "metadata": {
    "colab": {
     "base_uri": "https://localhost:8080/"
    },
    "id": "07-QlLXzVnPF",
    "outputId": "2a2e7434-f445-4104-89ad-649e986763c7"
   },
   "outputs": [
    {
     "name": "stdout",
     "output_type": "stream",
     "text": [
      "the General Social Survey <-> the United Kingdom \n",
      "Similarity Score 0.641151487827301\n"
     ]
    }
   ],
   "source": [
    "#ANSWER CELL: DO NOT RUN THIS CELL. YOUR ANSWER MUST MATCH THIS."
   ]
  },
  {
   "cell_type": "markdown",
   "metadata": {
    "id": "pK3Pe7osWPW7"
   },
   "source": [
    "### **Great Work!**"
   ]
  },
  {
   "cell_type": "code",
   "execution_count": null,
   "metadata": {
    "id": "QL8CQ3DRV-AQ"
   },
   "outputs": [],
   "source": []
  }
 ],
 "metadata": {
  "colab": {
   "provenance": []
  },
  "kernelspec": {
   "display_name": "Python 3 (ipykernel)",
   "language": "python",
   "name": "python3"
  },
  "language_info": {
   "codemirror_mode": {
    "name": "ipython",
    "version": 3
   },
   "file_extension": ".py",
   "mimetype": "text/x-python",
   "name": "python",
   "nbconvert_exporter": "python",
   "pygments_lexer": "ipython3",
   "version": "3.12.7"
  }
 },
 "nbformat": 4,
 "nbformat_minor": 4
}
