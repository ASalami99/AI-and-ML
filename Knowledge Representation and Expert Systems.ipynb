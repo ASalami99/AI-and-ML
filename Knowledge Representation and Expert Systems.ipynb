{
 "cells": [
  {
   "cell_type": "markdown",
   "id": "92003f86",
   "metadata": {},
   "source": [
    "## Hands-on Introduction to Knowledge Representation and Expert Systems using Python\n",
    "\n",
    "## Objective: \n",
    "By the end of this notebook, you will be able to build a simple rule-based expert system in Python.\n",
    "\n",
    "\n",
    "### 1️⃣ Knowledge Representation using Python Dictionaries\n",
    "\n",
    "### Example: Representing animals based on characteristics\n"
   ]
  },
  {
   "cell_type": "code",
   "execution_count": 1,
   "id": "8d4592ac",
   "metadata": {},
   "outputs": [
    {
     "name": "stdout",
     "output_type": "stream",
     "text": [
      "Elephant's characteristics: {'has_trunk': True, 'herbivore': True, 'large_size': True}\n"
     ]
    }
   ],
   "source": [
    "knowledge_base = {\n",
    "    \"Elephant\": {\"has_trunk\": True, \"herbivore\": True, \"large_size\": True},\n",
    "    \"Lion\": {\"has_trunk\": False, \"carnivore\": True, \"large_size\": True},\n",
    "    \"Parrot\": {\"has_trunk\": False, \"herbivore\": True, \"can_fly\": True},\n",
    "}\n",
    "\n",
    "# Accessing knowledge\n",
    "print(\"Elephant's characteristics:\", knowledge_base[\"Elephant\"])\n",
    "\n"
   ]
  },
  {
   "cell_type": "code",
   "execution_count": 7,
   "id": "a5df7ff5",
   "metadata": {},
   "outputs": [
    {
     "name": "stdout",
     "output_type": "stream",
     "text": [
      "Phone Characteristic {'screen': True, 'fingerprint': True, 'audi_jack': True}\n"
     ]
    }
   ],
   "source": [
    "knowledge_base2 = {'iPhone': {'screen':True, 'camera':True, 'audio_jack':False},\n",
    "                  'samsung': {'screen':True, 'fingerprint': True, 'audi_jack':True}}\n",
    "\n",
    "print('Phone Characteristic', knowledge_base2['samsung'])"
   ]
  },
  {
   "cell_type": "markdown",
   "id": "1e5080fe",
   "metadata": {},
   "source": [
    "### 2️⃣ Simple Rule-Based Inference System"
   ]
  },
  {
   "cell_type": "code",
   "execution_count": 9,
   "id": "8a65abc8",
   "metadata": {},
   "outputs": [],
   "source": [
    "def infer_phone(features):\n",
    "    for phone, attributes in knowledge_base2.items():\n",
    "        if all(features.get(key,False) == value for key, value in attributes.items()):\n",
    "            return phone\n",
    "    return 'Phone does not exist'"
   ]
  },
  {
   "cell_type": "code",
   "execution_count": 13,
   "id": "6ae4ed81",
   "metadata": {},
   "outputs": [
    {
     "data": {
      "text/plain": [
       "'Phone does not exist'"
      ]
     },
     "execution_count": 13,
     "metadata": {},
     "output_type": "execute_result"
    }
   ],
   "source": [
    "feature = {'screen':False, 'fingerprint': False, 'audi_jack':True}\n",
    "infer_phone(feature)"
   ]
  },
  {
   "cell_type": "markdown",
   "id": "e12ec2a8",
   "metadata": {},
   "source": [
    "**get()** method will return the value of a dictionary entry for a specified key. It may also specify a fallback value if the specified key does not exist in the dictionary. \n",
    "\n",
    "**Python all()** method is a built-in function that returns TRUE if all of the items of a passed iterable (List, Dictionary, Tuple, Set, etc.) are True; otherwise, it returns FALSE. It iterates through an iterable and returns a single result indicating if any element is true in a Boolean context."
   ]
  },
  {
   "cell_type": "code",
   "execution_count": 8,
   "id": "fca83313",
   "metadata": {},
   "outputs": [
    {
     "data": {
      "text/plain": [
       "True"
      ]
     },
     "execution_count": 8,
     "metadata": {},
     "output_type": "execute_result"
    }
   ],
   "source": [
    "## Example using the get method\n",
    "features = {\"has_trunk\": True, \"herbivore\": True, \"large_size\": True}\n",
    "features.get('has_trunk', False)"
   ]
  },
  {
   "cell_type": "code",
   "execution_count": 11,
   "id": "54c213e9",
   "metadata": {},
   "outputs": [],
   "source": [
    "# More example of a simple rule based inference system\n",
    "def infer_animal(features):\n",
    "    \"\"\"Function to infer an animal based on given features\"\"\"\n",
    "    for animal, attributes in knowledge_base.items():\n",
    "        if all(features.get(key, False) == value for key, value in attributes.items()):\n",
    "            return animal\n",
    "    return \"Unknown Animal\""
   ]
  },
  {
   "cell_type": "code",
   "execution_count": 13,
   "id": "04830166",
   "metadata": {},
   "outputs": [
    {
     "name": "stdout",
     "output_type": "stream",
     "text": [
      "The identified animal is: Elephant\n"
     ]
    }
   ],
   "source": [
    "# Example inference\n",
    "features = {\"has_trunk\": True, \"herbivore\": True, \"large_size\": True}\n",
    "print(\"The identified animal is:\", infer_animal(features))\n"
   ]
  },
  {
   "cell_type": "markdown",
   "id": "8e4a2905",
   "metadata": {},
   "source": [
    "### 3️⃣ Building a Simple Expert System for Medical Diagnosis"
   ]
  },
  {
   "cell_type": "code",
   "execution_count": 14,
   "id": "1b2dea45",
   "metadata": {},
   "outputs": [
    {
     "name": "stdout",
     "output_type": "stream",
     "text": [
      "Welcome to My Hospital!\n",
      "Please enter your namePrecious\n",
      "Precious\n"
     ]
    }
   ],
   "source": [
    "# Simple User Input\n",
    "print('Welcome to My Hospital!')\n",
    "reponse = input('Please enter your name')\n",
    "print(reponse)"
   ]
  },
  {
   "cell_type": "code",
   "execution_count": 15,
   "id": "2ea82b82",
   "metadata": {},
   "outputs": [
    {
     "name": "stdout",
     "output_type": "stream",
     "text": [
      "Do you have a fever? (yes/no): Yes\n",
      "Do you have a cough? (yes/no): Nop\n",
      "Do you have a skin rash? (yes/no): grace\n",
      "{'fever': True, 'cough': False, 'rash': False}\n"
     ]
    }
   ],
   "source": [
    "# dictionary storing user input\n",
    "symptoms = {\n",
    "        \"fever\": input(\"Do you have a fever? (yes/no): \").strip().lower() == \"yes\",\n",
    "        \"cough\": input(\"Do you have a cough? (yes/no): \").strip().lower() == \"yes\",\n",
    "        \"rash\": input(\"Do you have a skin rash? (yes/no): \").strip().lower() == \"yes\",}\n",
    "\n",
    "print(symptoms)"
   ]
  },
  {
   "cell_type": "code",
   "execution_count": 16,
   "id": "766e0594",
   "metadata": {},
   "outputs": [
    {
     "name": "stdout",
     "output_type": "stream",
     "text": [
      "\n",
      "Welcome to the Medical Diagnosis Expert System!\n",
      "Do you have a fever? (yes/no): Yes\n",
      "Do you have a cough? (yes/no): No\n",
      "Do you have a skin rash? (yes/no): Yes\n",
      "{'fever': True, 'cough': False, 'rash': True}\n",
      "You might have Chickenpox.\n"
     ]
    }
   ],
   "source": [
    "def diagnose():\n",
    "    \"\"\"Simple rule-based medical diagnosis system\"\"\"\n",
    "    print(\"\\nWelcome to the Medical Diagnosis Expert System!\")\n",
    "    symptoms = {\n",
    "        \"fever\": input(\"Do you have a fever? (yes/no): \").strip().lower() == \"yes\",\n",
    "        \"cough\": input(\"Do you have a cough? (yes/no): \").strip().lower() == \"yes\",\n",
    "        \"rash\": input(\"Do you have a skin rash? (yes/no): \").strip().lower() == \"yes\",\n",
    "    }\n",
    "    \n",
    "    print(symptoms)\n",
    "\n",
    "    # Rule-based inference\n",
    "    if symptoms[\"fever\"] and symptoms[\"cough\"]:\n",
    "        print(\"You might have the Flu.\")\n",
    "    elif symptoms[\"fever\"] and symptoms[\"rash\"]:\n",
    "        print(\"You might have Chickenpox.\")\n",
    "    elif symptoms[\"cough\"]:\n",
    "        print(\"You might have a common cold.\")\n",
    "    else:\n",
    "        print(\"No diagnosis found. Please consult a doctor.\")\n",
    "\n",
    "# Run the expert system\n",
    "diagnose()"
   ]
  },
  {
   "cell_type": "code",
   "execution_count": null,
   "id": "dc862339",
   "metadata": {},
   "outputs": [],
   "source": []
  }
 ],
 "metadata": {
  "kernelspec": {
   "display_name": "Python 3 (ipykernel)",
   "language": "python",
   "name": "python3"
  },
  "language_info": {
   "codemirror_mode": {
    "name": "ipython",
    "version": 3
   },
   "file_extension": ".py",
   "mimetype": "text/x-python",
   "name": "python",
   "nbconvert_exporter": "python",
   "pygments_lexer": "ipython3",
   "version": "3.9.13"
  }
 },
 "nbformat": 4,
 "nbformat_minor": 5
}
